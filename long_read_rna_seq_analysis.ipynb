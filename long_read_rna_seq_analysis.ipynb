{
  "cells": [
    {
      "cell_type": "markdown",
      "metadata": {
        "id": "P5k_WL74Y2Ei"
      },
      "source": [
        "#$\\text{L-RAPiT: Long Read Analysis Pipeline for Transcriptomics}$\n"
      ]
    },
    {
      "cell_type": "markdown",
      "metadata": {
        "id": "IaygDNNEZnph"
      },
      "source": [
        "$\\text{A pipeline to analyze Oxford Nanopore and PacBio third-generation long transcriptomic sequencing reads}$"
      ]
    },
    {
      "cell_type": "markdown",
      "metadata": {
        "id": "hIjUpSQCZlw1"
      },
      "source": [
        "$\\text{Theodore Nelson}$\n",
        "\n",
        "$\\text{Columbia University Irving Medical Center}$\n"
      ]
    },
    {
      "cell_type": "markdown",
      "metadata": {
        "id": "AUKHTlobUcf_"
      },
      "source": [
        "##$\\color{#e74b4b}{\\text{Parameter Input and User Instructions}}$"
      ]
    },
    {
      "cell_type": "markdown",
      "metadata": {
        "id": "oM-NaZDK63YC"
      },
      "source": [
        "Please define where the file structure is within your Google Drive:"
      ]
    },
    {
      "cell_type": "markdown",
      "metadata": {
        "id": "uc1rzY2x6tvu"
      },
      "source": [
        "<ul type=disc>\n",
        "<li><b>PIPELINE_FILE_PATH</b>: file path to location of long-read RNA sequencing analysis pipeline within your Google Colab/Google Drive/local file system - required for most applications. This must be defined and initialized first.</li>\n",
        "</ul>"
      ]
    },
    {
      "cell_type": "markdown",
      "source": [
        "Please note: when utilizing the default ```/content``` location on a colab machine, click on the folder icon (fourth icon from the top on the left menu) to see files listed in a graphical user interface.  "
      ],
      "metadata": {
        "id": "cviQcgv7iqvo"
      }
    },
    {
      "cell_type": "code",
      "execution_count": null,
      "metadata": {
        "id": "_P4OAFNrzifE"
      },
      "outputs": [],
      "source": [
        "%env PIPELINE_FILE_PATH=/content"
      ]
    },
    {
      "cell_type": "markdown",
      "metadata": {
        "id": "_GxZ1UCRTDkt"
      },
      "source": [
        "Errors associated with the following command are most likely associated with the existence of the directory/folder where the pipeline will be installed. "
      ]
    },
    {
      "cell_type": "code",
      "execution_count": null,
      "metadata": {
        "id": "Hpn2CRCkJTfT"
      },
      "outputs": [],
      "source": [
        "! mkdir $PIPELINE_FILE_PATH"
      ]
    },
    {
      "cell_type": "code",
      "execution_count": null,
      "metadata": {
        "id": "I24mo0O8JF4P"
      },
      "outputs": [],
      "source": [
        "! cd $PIPELINE_FILE_PATH ; git clone https://github.com/Theo-Nelson/long-read-sequencing-pipeline"
      ]
    },
    {
      "cell_type": "markdown",
      "metadata": {
        "id": "2USxlBU47A0L"
      },
      "source": [
        "Please modify the following parameters within the code box below to fit your own study requirements:  "
      ]
    },
    {
      "cell_type": "markdown",
      "metadata": {
        "id": "f99vaAE0Z0AG"
      },
      "source": [
        "<li><b>ACC</b>: Run accession number for reads within the [European Nucleotide Archive](https://www.ebi.ac.uk/ena/browser/) (SRR...) or file path to location of long-read RNA sequencing data within your Google Drive/general file system - required for most applications</li>\n",
        "<li><b>INDEX_FILE_PATH</b>: file path to location of reference genome (e.g. .FASTA) within your Google Drive/general file system - required for most applications</li>\n",
        "<li><b>ANNOTATION_FILE_PATH</b>: file path to location of reference annotation (e.g. .GTF) within your Google Drive/general file system - required for most applications</li>\n",
        "<li><b>CHROMOSOME</b>: Name of Chromosome of Interest matching the name of the Chromosome within your Reference Annotation - required for svist4get</li>\n",
        "<li><b>CHROMOSOME_START</b>: Starting Location of Interest on the Chromosome - required for svist4get</li>\n",
        "<li><b>CHROMOSOME_FINISH</b>: Ending Location of Interest on the Chromosome - required for svist4get</li>\n",
        "<li><b>REGION_NAME</b>: Gene Name (does not need to match annotation file) - required for FLAME and svist4get</li>\n",
        "<li><b>HUB_KEYWORD</b>: Short Keyword for your UCSC Track Hub - required for MakeHub</li>\n",
        "<li><b>HUB_NAME</b>: Longer Title for your UCSC Track Hub - required for MakeHub</li>\n",
        "<li><b>HUB_EMAIL</b>: Email for your UCSC Track Hub (if you publish your track hub then this email will be public) - required for MakeHub</li>\n"
      ]
    },
    {
      "cell_type": "code",
      "execution_count": null,
      "metadata": {
        "id": "tqGM1OFhUcoo"
      },
      "outputs": [],
      "source": [
        "%env ACC=SRR12389274\n",
        "%env INDEX_FILE_PATH=${PIPELINE_FILE_PATH}/long-read-sequencing-pipeline/prebuilt_indices/hg38.fa\n",
        "%env ANNOTATION_FILE_PATH=${PIPELINE_FILE_PATH}/long-read-sequencing-pipeline/prebuilt_indices/hg38.ensGene.gtf\n",
        "%env CHROMOSOME=chr12\n",
        "%env CHROMOSOME_START=116533422\n",
        "%env CHROMOSOME_FINISH=116536513\n",
        "%env REGION_NAME=LINC00173\n",
        "%env HUB_KEYWORD=LINC00173\n",
        "%env HUB_NAME=\"Human LINC00173\"\n",
        "%env HUB_EMAIL=your@email.address"
      ]
    },
    {
      "cell_type": "markdown",
      "metadata": {
        "id": "RrTcAlHtbWfg"
      },
      "source": [
        "##$\\color{#e74b4b}{\\text{Mounting your Google Drive / Exporting to Your Local Hard Drive}}$"
      ]
    },
    {
      "cell_type": "markdown",
      "metadata": {
        "id": "C5_iJ_KkbYt3"
      },
      "source": [
        "This step allows for permanent storage of your bioinformatics analysis in Google Drive"
      ]
    },
    {
      "cell_type": "markdown",
      "metadata": {
        "id": "rbS0P9JcJnnJ"
      },
      "source": [
        "<ul type=disc>\n",
        "<li><b>STORAGE_FILE_PATH</b>: file path to location where you would wish to store output of long-read RNA sequencing analysis pipeline - required to export data from Google Colab. </li>\n",
        "</ul>"
      ]
    },
    {
      "cell_type": "code",
      "execution_count": null,
      "metadata": {
        "id": "igrdHc7NJ3Zr"
      },
      "outputs": [],
      "source": [
        "%env STORAGE_FILE_PATH=/content/drive/MyDrive/long-read-sequencing-pipeline"
      ]
    },
    {
      "cell_type": "code",
      "execution_count": null,
      "metadata": {
        "id": "aQOezcA5ZrFA"
      },
      "outputs": [],
      "source": [
        "from google.colab import drive\n",
        "drive.mount('/content/drive')"
      ]
    },
    {
      "cell_type": "markdown",
      "source": [
        "Errors associated with the following command are most likely associated with the existence of the directory/folder where the pipeline will be installed. "
      ],
      "metadata": {
        "id": "e1fBbVvQgvYF"
      }
    },
    {
      "cell_type": "code",
      "source": [
        "! mkdir $STORAGE_FILE_PATH"
      ],
      "metadata": {
        "id": "aqCDej0lgrX7"
      },
      "execution_count": null,
      "outputs": []
    },
    {
      "cell_type": "markdown",
      "source": [
        "Additionally, this command will export necessary parameter data to allow downloads to a local machine. Please ignore ```/bin/bash: line 0: export: `/content': not a valid identifier``` or similar errors. "
      ],
      "metadata": {
        "id": "fZaStpCheIm0"
      }
    },
    {
      "cell_type": "code",
      "execution_count": null,
      "metadata": {
        "id": "reOYVKmaeI81"
      },
      "outputs": [],
      "source": [
        "! export $ACC\n",
        "! export $PIPELINE_FILE_PATH\n",
        "! export $REGION_NAME"
      ]
    },
    {
      "cell_type": "markdown",
      "metadata": {
        "id": "24vu4E_8vbKa"
      },
      "source": [
        "##$\\color{#e74b4b}{\\text{BioConda: Package Installations}}$"
      ]
    },
    {
      "cell_type": "markdown",
      "metadata": {
        "id": "lz3I3YU06E6z"
      },
      "source": [
        "BioConda is a software environment and package manager, providing acess to over 8,000 different software packages related to bioinformatics (documentation: [BioConda](https://bioconda.github.io/user/install.html) and [Managing Environments via Conda](https://docs.conda.io/projects/conda/en/latest/user-guide/tasks/manage-environments.html)). "
      ]
    },
    {
      "cell_type": "code",
      "execution_count": null,
      "metadata": {
        "id": "oxEPAO-_wpbz"
      },
      "outputs": [],
      "source": [
        "! wget https://repo.anaconda.com/miniconda/Miniconda3-py37_4.8.2-Linux-x86_64.sh\n",
        "! chmod +x Miniconda3-py37_4.8.2-Linux-x86_64.sh\n",
        "! bash ./Miniconda3-py37_4.8.2-Linux-x86_64.sh -b -f -p /usr/local"
      ]
    },
    {
      "cell_type": "code",
      "source": [
        "! export PYTHONHOME='/usr/local/lib/python3.7/site-packages/'"
      ],
      "metadata": {
        "id": "EZS5nfFJCNHz"
      },
      "execution_count": null,
      "outputs": []
    },
    {
      "cell_type": "markdown",
      "metadata": {
        "id": "z1lysGn4hO-i"
      },
      "source": [
        "###$\\color{#ff00d5}{\\text{Kingfisher: procurement of sequence files - installation}}$"
      ]
    },
    {
      "cell_type": "markdown",
      "metadata": {
        "id": "X4iuuuqPkKcT"
      },
      "source": [
        "The Kingfisher program allows for sequence files to be downloaded from the European Nucleotide Archive (documentation: https://github.com/wwood/kingfisher-download)."
      ]
    },
    {
      "cell_type": "code",
      "execution_count": null,
      "metadata": {
        "id": "_Kn0KYlyOi2r"
      },
      "outputs": [],
      "source": [
        "! git clone https://github.com/MakeTheBrainHappy/kingfisher-download"
      ]
    },
    {
      "cell_type": "code",
      "execution_count": null,
      "metadata": {
        "id": "NNtGMks8OkmZ"
      },
      "outputs": [],
      "source": [
        "! conda env update -n base --file kingfisher-download/kingfisher.yml"
      ]
    },
    {
      "cell_type": "code",
      "execution_count": null,
      "metadata": {
        "id": "fDjCnO4C3NQu"
      },
      "outputs": [],
      "source": [
        "! conda install -c rpetit3 aspera-connect -y"
      ]
    },
    {
      "cell_type": "code",
      "execution_count": null,
      "metadata": {
        "id": "ksJvQOCtx8BJ"
      },
      "outputs": [],
      "source": [
        "! wget -qO- https://download.asperasoft.com/download/sw/connect/3.9.8/ibm-aspera-connect-3.9.8.176272-linux-g2.12-64.tar.gz | tar xvz"
      ]
    },
    {
      "cell_type": "markdown",
      "metadata": {
        "id": "RHjWyX6Ei_jT"
      },
      "source": [
        "this command will pop up with an error message; please disregard"
      ]
    },
    {
      "cell_type": "code",
      "execution_count": null,
      "metadata": {
        "id": "anXSgAYa3xQU"
      },
      "outputs": [],
      "source": [
        "! ./ibm-aspera-connect-3.9.8.176272-linux-g2.12-64.sh"
      ]
    },
    {
      "cell_type": "markdown",
      "metadata": {
        "id": "F0hFNwmcv5qr"
      },
      "source": [
        "###$\\color{#ff00d5}{\\text{FastQC: quality control tool for high-throughput sequence data - installation}}$"
      ]
    },
    {
      "cell_type": "markdown",
      "metadata": {
        "id": "68fqL9EGNOKE"
      },
      "source": [
        "FastQC is a program designed to spot potential problems in high througput sequencing datasets ([documentation](https://github.com/s-andrews/FastQC))."
      ]
    },
    {
      "cell_type": "code",
      "execution_count": null,
      "metadata": {
        "id": "_bRfEf9e3Sp-"
      },
      "outputs": [],
      "source": [
        "! conda install -c bioconda fastqc -y"
      ]
    },
    {
      "cell_type": "markdown",
      "source": [
        "###$\\color{#ff00d5}{\\text{Shark: fishing relevant reads in an RNA-Seq sample - installation}}$"
      ],
      "metadata": {
        "id": "k_oe5__lB6Lz"
      }
    },
    {
      "cell_type": "markdown",
      "source": [
        "Shark is a tool to extract gene-specific reads from a RNA-seq sample (documentation: https://github.com/AlgoLab/shark)."
      ],
      "metadata": {
        "id": "Pa8jDrcgB9xl"
      }
    },
    {
      "cell_type": "code",
      "source": [
        "! conda install -c bioconda shark -y"
      ],
      "metadata": {
        "id": "PEjwM6_7B96Z"
      },
      "execution_count": null,
      "outputs": []
    },
    {
      "cell_type": "markdown",
      "metadata": {
        "id": "gyh52FxVTSQt"
      },
      "source": [
        "###$\\color{#e74b4b}{\\text{minimap2: A versatile pairwise aligner for spliced nucleotide sequences - installation}}$\n"
      ]
    },
    {
      "cell_type": "markdown",
      "metadata": {
        "id": "0bXGX4mEeegN"
      },
      "source": [
        "minimap2 is a long-read sequencing aligner (documentation: https://github.com/lh3/minimap2). "
      ]
    },
    {
      "cell_type": "code",
      "execution_count": null,
      "metadata": {
        "id": "yZz8ktFYTQ1F"
      },
      "outputs": [],
      "source": [
        "! conda install -c bioconda minimap2 -y"
      ]
    },
    {
      "cell_type": "markdown",
      "metadata": {
        "id": "dxspwFM3_1qN"
      },
      "source": [
        "###$\\color{#ff00d5}{\\text{samtools: Write/Index SAM to BAM - installation}}$"
      ]
    },
    {
      "cell_type": "markdown",
      "metadata": {
        "id": "SXphSNhPA9di"
      },
      "source": [
        "samtools allows for manipulation of high-throughput sequencing data (documentation: http://www.htslib.org/) \n"
      ]
    },
    {
      "cell_type": "code",
      "execution_count": null,
      "metadata": {
        "id": "v0_UcWdBHDGQ"
      },
      "outputs": [],
      "source": [
        "! conda install -c bioconda samtools -y"
      ]
    },
    {
      "cell_type": "markdown",
      "metadata": {
        "id": "Y9qrP4Ip3xwz"
      },
      "source": [
        "###$\\color{#ff00d5}{\\text{TranscriptClean: correct mismatches, microindels, and noncanonical splice junctions - installation}}$"
      ]
    },
    {
      "cell_type": "markdown",
      "metadata": {
        "id": "bB4Zr5Ef38qi"
      },
      "source": [
        "TranscriptClean is a command-line program which corrects long-read mismatches, microindels and noncanonical splice junctions (documentation: https://github.com/mortazavilab/TranscriptClean). "
      ]
    },
    {
      "cell_type": "code",
      "execution_count": null,
      "metadata": {
        "id": "oXIztTkj3zbu"
      },
      "outputs": [],
      "source": [
        "! conda install -c bioconda pyfasta pyranges samtools -y"
      ]
    },
    {
      "cell_type": "code",
      "execution_count": null,
      "metadata": {
        "id": "BfsI59QG4BH_"
      },
      "outputs": [],
      "source": [
        "! wget https://github.com/mortazavilab/TranscriptClean/archive/refs/tags/v2.0.3.tar.gz\n",
        "! tar xvf v2.0.3.tar.gz "
      ]
    },
    {
      "cell_type": "markdown",
      "metadata": {
        "id": "3U_BpHSJA9Xe"
      },
      "source": [
        "###$\\color{#ff00d5}{\\text{FLAME: long-read splice variant annotation - installation}}$"
      ]
    },
    {
      "cell_type": "markdown",
      "source": [
        "Full-Length Adjacency Matrix Enumeration (FLAME) is a program which can detect and quantify novel splice junctions on an annotated gene locus (documentation: https://github.com/marabouboy/FLAME). "
      ],
      "metadata": {
        "id": "7_98iJtTy1wr"
      }
    },
    {
      "cell_type": "code",
      "execution_count": null,
      "metadata": {
        "id": "cyzQjKxz7H1v"
      },
      "outputs": [],
      "source": [
        "! sudo apt-get install bedtools"
      ]
    },
    {
      "cell_type": "code",
      "execution_count": null,
      "metadata": {
        "id": "rvgXztd99NMC"
      },
      "outputs": [],
      "source": [
        "! pip install pysam"
      ]
    },
    {
      "cell_type": "code",
      "execution_count": null,
      "metadata": {
        "id": "pKvCCPWvBJ2b"
      },
      "outputs": [],
      "source": [
        "! git clone https://github.com/marabouboy/FLAME"
      ]
    },
    {
      "cell_type": "code",
      "execution_count": null,
      "metadata": {
        "id": "TZaGFSOoVUCo"
      },
      "outputs": [],
      "source": [
        "! chmod 755 /content/FLAME/FLAME/FLAME.py"
      ]
    },
    {
      "cell_type": "code",
      "execution_count": null,
      "metadata": {
        "id": "7Erq_G3QVlz9"
      },
      "outputs": [],
      "source": [
        "! chmod 755 /content/FLAME/setup.py"
      ]
    },
    {
      "cell_type": "code",
      "execution_count": null,
      "metadata": {
        "id": "grBakyZXVv3s"
      },
      "outputs": [],
      "source": [
        "! cd /content/FLAME/ ; python3 setup.py install"
      ]
    },
    {
      "cell_type": "markdown",
      "metadata": {
        "id": "yhR96h7O5CHN"
      },
      "source": [
        "###$\\color{#ff00d5}{\\text{featureCounts: assign sequence reads to genomic features - installation}}$"
      ]
    },
    {
      "cell_type": "markdown",
      "metadata": {
        "id": "VnlTGqwG5JYz"
      },
      "source": [
        "featureCounts is a read summarization program suitable for counting reads generated from either RNA or genomic DNA sequencing experiments (documentation: http://subread.sourceforge.net/). "
      ]
    },
    {
      "cell_type": "code",
      "execution_count": null,
      "metadata": {
        "id": "Vd48uWN45VkA"
      },
      "outputs": [],
      "source": [
        "! conda install -c bioconda subread -y"
      ]
    },
    {
      "cell_type": "markdown",
      "source": [
        "###$\\color{#ff00d5}{\\text{LIQA: transcript quantification}}$"
      ],
      "metadata": {
        "id": "vZPSGeXlh7kh"
      }
    },
    {
      "cell_type": "markdown",
      "source": [
        "LIQA is a program which quantifies isoform/transcript expression based on long read RNA sequencing data (documentation: https://github.com/WGLab/LIQA)"
      ],
      "metadata": {
        "id": "vMq1SRmih_SS"
      }
    },
    {
      "cell_type": "code",
      "source": [
        "! pip install liqa"
      ],
      "metadata": {
        "id": "ggyRF2F953H8"
      },
      "execution_count": null,
      "outputs": []
    },
    {
      "cell_type": "markdown",
      "source": [
        "###$\\color{#ff00d5}{\\text{FusionSeeker: detect gene fusions - installation}}$"
      ],
      "metadata": {
        "id": "oOS4NvQ8o5Q7"
      }
    },
    {
      "cell_type": "markdown",
      "source": [
        "FussionCaller is a gene fusion caller for long-read single-molecular sequencing data (documentation: https://github.com/Maggi-Chen/FusionSeeker). "
      ],
      "metadata": {
        "id": "mJKun3uw-Ihy"
      }
    },
    {
      "cell_type": "code",
      "source": [
        "! git clone https://github.com/Theo-Nelson/FusionSeeker.git"
      ],
      "metadata": {
        "id": "fvgPhbBwmkzP"
      },
      "execution_count": null,
      "outputs": []
    },
    {
      "cell_type": "code",
      "source": [
        "! git clone https://github.com/ruanjue/bsalign.git"
      ],
      "metadata": {
        "id": "bEPIzmwa2dFO"
      },
      "execution_count": null,
      "outputs": []
    },
    {
      "cell_type": "code",
      "source": [
        "! cd /content/bsalign && make"
      ],
      "metadata": {
        "id": "mlblnJtF2eyk"
      },
      "execution_count": null,
      "outputs": []
    },
    {
      "cell_type": "markdown",
      "source": [
        "###$\\color{#ff00d5}{\\text{StringTie: transcript assembly - installation}}$"
      ],
      "metadata": {
        "id": "EFHE0ybf9rRI"
      }
    },
    {
      "cell_type": "markdown",
      "source": [
        "StringTie is a program which can produce transcriptomes specific to the sample input (documentation: http://ccb.jhu.edu/software/stringtie/index.shtml?t=manual#run)."
      ],
      "metadata": {
        "id": "WCeEyrb4S0xW"
      }
    },
    {
      "cell_type": "code",
      "source": [
        "! conda install -c bioconda stringtie -y"
      ],
      "metadata": {
        "id": "ljsRmfFksCki"
      },
      "execution_count": null,
      "outputs": []
    },
    {
      "cell_type": "markdown",
      "source": [
        "###$\\color{#ff00d5}{\\text{GffCompare: transcript assembly statistics - installation}}$"
      ],
      "metadata": {
        "id": "CId-MKlu9uMZ"
      }
    },
    {
      "cell_type": "markdown",
      "source": [
        "GffCompare is a program which can evaluate the specificity and novelty of transcripts within a sample-specific transcriptome to a reference transcriptome (documentation: http://ccb.jhu.edu/software/stringtie/gffcompare.shtml)."
      ],
      "metadata": {
        "id": "Hy2ietg1UPWj"
      }
    },
    {
      "cell_type": "code",
      "source": [
        "! conda install -c bioconda gffcompare -y"
      ],
      "metadata": {
        "id": "iKx4Bn4wSyLb"
      },
      "execution_count": null,
      "outputs": []
    },
    {
      "cell_type": "markdown",
      "metadata": {
        "id": "npZwllsupfEJ"
      },
      "source": [
        "###$\\color{#ff00d5}{\\text{svist4get: visualize genomic tracks from sequencing experiments - installation}}$"
      ]
    },
    {
      "cell_type": "markdown",
      "metadata": {
        "id": "niesqrQ1nHMM"
      },
      "source": [
        "svist4get allows you to view read coverage at a defined region on a chromosome (documentation: https://bitbucket.org/artegorov/svist4get/src/master/)"
      ]
    },
    {
      "cell_type": "code",
      "execution_count": null,
      "metadata": {
        "id": "iaRNkYPEoa0T"
      },
      "outputs": [],
      "source": [
        "! apt-get update"
      ]
    },
    {
      "cell_type": "code",
      "execution_count": null,
      "metadata": {
        "id": "-gNi5jxXA5oq"
      },
      "outputs": [],
      "source": [
        "! apt-get install libmagickwand-dev"
      ]
    },
    {
      "cell_type": "code",
      "execution_count": null,
      "metadata": {
        "id": "3HS96PJ45f26"
      },
      "outputs": [],
      "source": [
        "! cp -r $PIPELINE_FILE_PATH/long-read-sequencing-pipeline/svist4get/policy_revised.xml /etc/ImageMagick-6/policy.xml"
      ]
    },
    {
      "cell_type": "code",
      "execution_count": null,
      "metadata": {
        "id": "ZNVRJydu1wIV"
      },
      "outputs": [],
      "source": [
        "! python3 -m pip install svist4get"
      ]
    },
    {
      "cell_type": "markdown",
      "metadata": {
        "id": "5CwywN4tc74s"
      },
      "source": [
        "###$\\color{#ff00d5}{\\text{Pistis: quality control plotting for long reads - installation}}$"
      ]
    },
    {
      "cell_type": "markdown",
      "metadata": {
        "id": "ckgZcyKcpFyC"
      },
      "source": [
        "Pistis generates long-read specific quality control graphs, including a plot demonstrating read alignment percentage to the reference genome (documentation: https://github.com/mbhall88/pistis)"
      ]
    },
    {
      "cell_type": "code",
      "execution_count": null,
      "metadata": {
        "id": "S5mHHUr1d50q"
      },
      "outputs": [],
      "source": [
        "! pip3 install pistis"
      ]
    },
    {
      "cell_type": "markdown",
      "metadata": {
        "id": "EQn9Ikb3YkFC"
      },
      "source": [
        "###$\\color{#0072ff}{\\text{MakeHub: generate UCSC assembly hubs - installation}}$"
      ]
    },
    {
      "cell_type": "markdown",
      "metadata": {
        "id": "X7J1qXU1bmXd"
      },
      "source": [
        "MakeHub is a command line tool for the fully automatic generation of of track data hubs for visualizing genomes with the UCSC genome browser (documentation: https://github.com/Gaius-Augustus/MakeHub)."
      ]
    },
    {
      "cell_type": "code",
      "execution_count": null,
      "metadata": {
        "id": "_eYWwdsmdsBa"
      },
      "outputs": [],
      "source": [
        "! python3.7 -m pip install biopython"
      ]
    },
    {
      "cell_type": "code",
      "execution_count": null,
      "metadata": {
        "id": "yudzuOTW2IQ-"
      },
      "outputs": [],
      "source": [
        "! sudo apt install augustus augustus-data augustus-doc"
      ]
    },
    {
      "cell_type": "markdown",
      "metadata": {
        "id": "kpfzCCTKuqMt"
      },
      "source": [
        "###$\\color{#ff00d5}{\\text{MultiQC: aggregate bioinformatics analysis - installation}}$\n",
        "\n"
      ]
    },
    {
      "cell_type": "markdown",
      "metadata": {
        "id": "Jluk65BgNoEJ"
      },
      "source": [
        "MultiQC is a program which allows you to combine reports for as many samples as you wish ([documentation](https://multiqc.info/docs/))"
      ]
    },
    {
      "cell_type": "code",
      "execution_count": null,
      "metadata": {
        "id": "B6OuaTChNs4J"
      },
      "outputs": [],
      "source": [
        "! pip install multiqc"
      ]
    },
    {
      "cell_type": "markdown",
      "metadata": {
        "id": "oBdBA_CDdE0z"
      },
      "source": [
        "##$\\color{#d42bb4}{\\text{Kingfisher: procurement of sequence files - usage}}$\n"
      ]
    },
    {
      "cell_type": "markdown",
      "metadata": {
        "id": "IE4T9swGdQY-"
      },
      "source": [
        "The Kingfisher program allows for sequence files to be downloaded from the European Nucleotide Archive (documentation: https://github.com/wwood/kingfisher-download)."
      ]
    },
    {
      "cell_type": "code",
      "execution_count": null,
      "metadata": {
        "id": "ReZdoTfnd5uQ"
      },
      "outputs": [],
      "source": [
        "! cd $PIPELINE_FILE_PATH/long-read-sequencing-pipeline/fastq ; /content/kingfisher-download/bin/kingfisher get -r $ACC -m ena-ascp aws-http prefetch"
      ]
    },
    {
      "cell_type": "markdown",
      "source": [
        "The next command will unzip a fastq file, if neccessary. Please do not be concerned if this command throws an error. "
      ],
      "metadata": {
        "id": "V5WMZKjYx6YU"
      }
    },
    {
      "cell_type": "code",
      "execution_count": null,
      "metadata": {
        "id": "wwpiZ9OU6WPn"
      },
      "outputs": [],
      "source": [
        "! cd $PIPELINE_FILE_PATH/long-read-sequencing-pipeline/fastq ; gunzip *.gz"
      ]
    },
    {
      "cell_type": "markdown",
      "metadata": {
        "id": "izrcNnG0REyD"
      },
      "source": [
        "The next two commands simply standardize the file name away from uncommon variants provided by depositors in the European Nucleotide Archive. In rare instances pipeline users may need to directly manipulate these commands to standardize the filename. Please do not be concerned if either command throws an error. "
      ]
    },
    {
      "cell_type": "code",
      "execution_count": null,
      "metadata": {
        "id": "4pmkDR2x6SzT"
      },
      "outputs": [],
      "source": [
        "! cd $PIPELINE_FILE_PATH/long-read-sequencing-pipeline/fastq ; mv ${ACC}_1.fastq $ACC.fastq"
      ]
    },
    {
      "cell_type": "code",
      "execution_count": null,
      "metadata": {
        "id": "5_r7Ed86Q-cI"
      },
      "outputs": [],
      "source": [
        "! cd $PIPELINE_FILE_PATH/long-read-sequencing-pipeline/fastq ; mv ${ACC}_subreads.fastq $ACC.fastq"
      ]
    },
    {
      "cell_type": "markdown",
      "metadata": {
        "id": "_MislmkXZcz-"
      },
      "source": [
        "##$\\color{#a7588f}{\\text{Kingfisher: procurement of sequence files - export}}$\n"
      ]
    },
    {
      "cell_type": "markdown",
      "metadata": {
        "id": "-mPcrcf-Kmfl"
      },
      "source": [
        "To Store Resulting Files in your Google Drive: "
      ]
    },
    {
      "cell_type": "code",
      "execution_count": null,
      "metadata": {
        "id": "U0pvTRDjKtqG"
      },
      "outputs": [],
      "source": [
        "! cp $PIPELINE_FILE_PATH/long-read-sequencing-pipeline/fastq/$ACC.fastq $STORAGE_FILE_PATH/$ACC.fastq"
      ]
    },
    {
      "cell_type": "markdown",
      "metadata": {
        "id": "txLoObMrKrnJ"
      },
      "source": [
        "To Store Resulting Files in your Local Hard Drive: "
      ]
    },
    {
      "cell_type": "code",
      "execution_count": null,
      "metadata": {
        "id": "sWZhEEl3KuIu"
      },
      "outputs": [],
      "source": [
        "from google.colab import files\n",
        "import os\n",
        "\n",
        "files.download(\"\".join([os.environ[\"PIPELINE_FILE_PATH\"],\"/long-read-sequencing-pipeline/fastq/\",os.environ[\"ACC\"],\".fastq\"]))"
      ]
    },
    {
      "cell_type": "markdown",
      "metadata": {
        "id": "SQb5HTiwtfMn"
      },
      "source": [
        "##$\\color{#d42bb4}{\\text{FastQC: quality control tool for high-throughput sequence data - usage}}$"
      ]
    },
    {
      "cell_type": "markdown",
      "metadata": {
        "id": "ZoutKrvVtjAY"
      },
      "source": [
        "FastQC is a program designed to spot potential problems in high througput sequencing datasets ([documentation](https://github.com/s-andrews/FastQC))."
      ]
    },
    {
      "cell_type": "code",
      "execution_count": null,
      "metadata": {
        "id": "bTYA5m273eVN"
      },
      "outputs": [],
      "source": [
        "! fastqc -t 2 $PIPELINE_FILE_PATH/long-read-sequencing-pipeline/fastq/$ACC.fastq --outdir $PIPELINE_FILE_PATH/long-read-sequencing-pipeline/fastqc"
      ]
    },
    {
      "cell_type": "markdown",
      "metadata": {
        "id": "nHGHIAKCSUen"
      },
      "source": [
        "For the best viewing experience, please download the HTML output to your Hard Drive and open in your local browser, such as Google Chrome, Firefox or Edge. "
      ]
    },
    {
      "cell_type": "markdown",
      "metadata": {
        "id": "NOrgEp-fbtBt"
      },
      "source": [
        "##$\\color{#a7588f}{\\text{FastQC: quality control tool for high-throughput sequence data - export}}$\n"
      ]
    },
    {
      "cell_type": "markdown",
      "metadata": {
        "id": "bGhAXFSfbtBx"
      },
      "source": [
        "To Store Resulting Files in your Google Drive: "
      ]
    },
    {
      "cell_type": "code",
      "execution_count": null,
      "metadata": {
        "id": "z2dsXIK4btBy"
      },
      "outputs": [],
      "source": [
        "! cp -r $PIPELINE_FILE_PATH/long-read-sequencing-pipeline/fastqc/ $STORAGE_FILE_PATH"
      ]
    },
    {
      "cell_type": "markdown",
      "metadata": {
        "id": "6CZoOeptbtB0"
      },
      "source": [
        "To Store Resulting Files in your Local Hard Drive: "
      ]
    },
    {
      "cell_type": "code",
      "source": [
        "! zip -r $PIPELINE_FILE_PATH/long-read-sequencing-pipeline/fastqc.zip $PIPELINE_FILE_PATH/long-read-sequencing-pipeline/fastqc/"
      ],
      "metadata": {
        "id": "H3dCOerJqUoS"
      },
      "execution_count": null,
      "outputs": []
    },
    {
      "cell_type": "code",
      "execution_count": null,
      "metadata": {
        "id": "LqiW6frsbtB1"
      },
      "outputs": [],
      "source": [
        "from google.colab import files\n",
        "import os\n",
        "\n",
        "files.download(\"\".join([os.environ[\"PIPELINE_FILE_PATH\"],\"/long-read-sequencing-pipeline/fastqc.zip\"]))"
      ]
    },
    {
      "cell_type": "markdown",
      "metadata": {
        "id": "7uHwZ4Zj1vgC"
      },
      "source": [
        "##$\\color{#e74b4b}{\\text{Reference Genome - installation}}$"
      ]
    },
    {
      "cell_type": "markdown",
      "metadata": {
        "id": "5FvumDB7c6bH"
      },
      "source": [
        "The Reference Genome provides a scaffold to align long-read data. These commands install the hg38 genome and ensembl annotation availiable from UCSC. You can download more current genomes by utilizing the appropriate links from NCBI RefSeq, Ensembl, or other reference genome providers. If you are unsure of how to find other species, we recommend checking out the list of species available in the ```current_fasta``` and ```current_gtf``` folders: http://ftp.ensembl.org/pub/"
      ]
    },
    {
      "cell_type": "code",
      "execution_count": null,
      "metadata": {
        "id": "_D5cG18VURVJ"
      },
      "outputs": [],
      "source": [
        "! wget -P $PIPELINE_FILE_PATH/long-read-sequencing-pipeline/prebuilt_indices http://hgdownload.cse.ucsc.edu/goldenPath/hg38/bigZips/hg38.fa.gz"
      ]
    },
    {
      "cell_type": "code",
      "execution_count": null,
      "metadata": {
        "id": "Jy4bAiZ6z3Qb"
      },
      "outputs": [],
      "source": [
        "! wget -P $PIPELINE_FILE_PATH/long-read-sequencing-pipeline/prebuilt_indices http://hgdownload.cse.ucsc.edu/goldenPath/hg38/bigZips/genes/hg38.ensGene.gtf.gz"
      ]
    },
    {
      "cell_type": "code",
      "execution_count": null,
      "metadata": {
        "id": "bz8hNYEvUXOE"
      },
      "outputs": [],
      "source": [
        "! gunzip -c $PIPELINE_FILE_PATH/long-read-sequencing-pipeline/prebuilt_indices/hg38.fa.gz > $PIPELINE_FILE_PATH/long-read-sequencing-pipeline/prebuilt_indices/hg38.fa"
      ]
    },
    {
      "cell_type": "code",
      "execution_count": null,
      "metadata": {
        "id": "z2Hqu_wb0NOv"
      },
      "outputs": [],
      "source": [
        "! gunzip -c $PIPELINE_FILE_PATH/long-read-sequencing-pipeline/prebuilt_indices/hg38.ensGene.gtf.gz > $PIPELINE_FILE_PATH/long-read-sequencing-pipeline/prebuilt_indices/hg38.ensGene.gtf"
      ]
    },
    {
      "cell_type": "markdown",
      "metadata": {
        "id": "iulCArtGA6sw"
      },
      "source": [
        "Another example is provided for which installs the UCSC murine mm39 genome. Note that the reference annotation is from RefSeq. "
      ]
    },
    {
      "cell_type": "code",
      "execution_count": null,
      "metadata": {
        "id": "rf6DUsMHBUmp"
      },
      "outputs": [],
      "source": [
        "! wget -P $PIPELINE_FILE_PATH/long-read-sequencing-pipeline/prebuilt_indices ftp://hgdownload.soe.ucsc.edu/goldenPath/mm39/bigZips/mm39.fa.gz"
      ]
    },
    {
      "cell_type": "code",
      "execution_count": null,
      "metadata": {
        "id": "IL949aPzBUsA"
      },
      "outputs": [],
      "source": [
        "! wget -P $PIPELINE_FILE_PATH/long-read-sequencing-pipeline/prebuilt_indices https://hgdownload.soe.ucsc.edu/goldenPath/mm39/bigZips/genes/mm39.ncbiRefSeq.gtf.gz"
      ]
    },
    {
      "cell_type": "code",
      "execution_count": null,
      "metadata": {
        "id": "vAqaExDBBUxi"
      },
      "outputs": [],
      "source": [
        "! gunzip -c $PIPELINE_FILE_PATH/long-read-sequencing-pipeline/prebuilt_indices/mm39.fa.gz > $PIPELINE_FILE_PATH/long-read-sequencing-pipeline/prebuilt_indices/mm39.fa"
      ]
    },
    {
      "cell_type": "code",
      "execution_count": null,
      "metadata": {
        "id": "suKULpveBU20"
      },
      "outputs": [],
      "source": [
        "! gunzip -c $PIPELINE_FILE_PATH/long-read-sequencing-pipeline/prebuilt_indices/mm39.ncbiRefSeq.gtf.gz > $PIPELINE_FILE_PATH/long-read-sequencing-pipeline/prebuilt_indices/mm39.ncbiRefSeq.gtf"
      ]
    },
    {
      "cell_type": "markdown",
      "source": [
        "##$\\color{#d42bb4}{\\text{Shark: fishing relevant reads in an RNA-Seq sample - usage}}$"
      ],
      "metadata": {
        "id": "D6iKV4YDiJQk"
      }
    },
    {
      "cell_type": "markdown",
      "source": [
        "Shark is a tool to extract gene-specific reads from a RNA-seq sample (documentation: https://github.com/AlgoLab/shark)."
      ],
      "metadata": {
        "id": "9BtvLo6dHRxt"
      }
    },
    {
      "cell_type": "code",
      "source": [
        "! echo ${CHROMOSOME}$'\\t'${CHROMOSOME_START}$'\\t'${CHROMOSOME_FINISH} > $PIPELINE_FILE_PATH/long-read-sequencing-pipeline/prebuilt_indices/$REGION_NAME.bed"
      ],
      "metadata": {
        "id": "Jjx8LrclHVCH"
      },
      "execution_count": null,
      "outputs": []
    },
    {
      "cell_type": "code",
      "source": [
        "! eval bedtools getfasta -fi $INDEX_FILE_PATH -bed $PIPELINE_FILE_PATH/long-read-sequencing-pipeline/prebuilt_indices/$REGION_NAME.bed -fo $PIPELINE_FILE_PATH/long-read-sequencing-pipeline/prebuilt_indices/$REGION_NAME.fasta"
      ],
      "metadata": {
        "id": "BxccuEsbFpyJ"
      },
      "execution_count": null,
      "outputs": []
    },
    {
      "cell_type": "code",
      "source": [
        "! eval shark -c .40 -k 10 -r $PIPELINE_FILE_PATH/long-read-sequencing-pipeline/prebuilt_indices/$REGION_NAME.fasta -1 $PIPELINE_FILE_PATH/long-read-sequencing-pipeline/fastq/$ACC.fastq -o $PIPELINE_FILE_PATH/long-read-sequencing-pipeline/fastq/$REGION_NAME$ACC.fastq"
      ],
      "metadata": {
        "id": "FB1MpOyLnRxD"
      },
      "execution_count": null,
      "outputs": []
    },
    {
      "cell_type": "markdown",
      "source": [
        "In order to continue analysis with just the filtered reads, please utilize the following command:"
      ],
      "metadata": {
        "id": "cDYzmwgwdZtX"
      }
    },
    {
      "cell_type": "code",
      "source": [
        "%env ACC=${REGION_NAME}${ACC}"
      ],
      "metadata": {
        "id": "hBuWfjZDdZ7M"
      },
      "execution_count": null,
      "outputs": []
    },
    {
      "cell_type": "markdown",
      "metadata": {
        "id": "EJ0KI6ZxJInS"
      },
      "source": [
        "##$\\color{#a7588f}{\\text{Shark: fishing relevant reads in an RNA-Seq sample - export}}$\n"
      ]
    },
    {
      "cell_type": "markdown",
      "metadata": {
        "id": "Q3quwJI4JInW"
      },
      "source": [
        "To Store Resulting Files in your Google Drive: "
      ]
    },
    {
      "cell_type": "code",
      "execution_count": null,
      "metadata": {
        "id": "11khL1RgJInX"
      },
      "outputs": [],
      "source": [
        "! cp -r $PIPELINE_FILE_PATH/long-read-sequencing-pipeline/fastq/$REGION_NAME.fastq $STORAGE_FILE_PATH/$REGION_NAME$ACC.fastq"
      ]
    },
    {
      "cell_type": "markdown",
      "metadata": {
        "id": "ePctHvJkJInY"
      },
      "source": [
        "To Store Resulting Files in your Local Hard Drive: "
      ]
    },
    {
      "cell_type": "code",
      "execution_count": null,
      "metadata": {
        "id": "a1IIimzeJInb"
      },
      "outputs": [],
      "source": [
        "from google.colab import files\n",
        "import os\n",
        "\n",
        "files.download(\"\".join([os.environ[\"PIPELINE_FILE_PATH\"],\"/long-read-sequencing-pipeline/fastq/\",os.environ[\"REGION_NAME\"],os.environ[\"ACC\"],\".fastq\"]))"
      ]
    },
    {
      "cell_type": "markdown",
      "metadata": {
        "id": "oBPQyTcKOPDF"
      },
      "source": [
        "##$\\color{#e74b4b}{\\text{minimap2: A versatile pairwise aligner for spliced nucleotide sequences - index minimization}}$"
      ]
    },
    {
      "cell_type": "markdown",
      "metadata": {
        "id": "of339UK9OT_0"
      },
      "source": [
        "minimap2 is a long-read sequencing aligner (documentation: https://github.com/lh3/minimap2). "
      ]
    },
    {
      "cell_type": "code",
      "execution_count": null,
      "metadata": {
        "id": "ZFQz8s-vFrNG"
      },
      "outputs": [],
      "source": [
        "! eval minimap2 -k15 -w5 -d $INDEX_FILE_PATH.mmi $INDEX_FILE_PATH"
      ]
    },
    {
      "cell_type": "markdown",
      "metadata": {
        "id": "f8EfwQZze29B"
      },
      "source": [
        "##$\\color{#e74b4b}{\\text{minimap2: A versatile pairwise aligner for spliced nucleotide sequences - usage}}$"
      ]
    },
    {
      "cell_type": "markdown",
      "metadata": {
        "id": "xlj72R1ofOAz"
      },
      "source": [
        "minimap2 is a long-read sequencing aligner (documentation: https://github.com/lh3/minimap2). "
      ]
    },
    {
      "cell_type": "code",
      "execution_count": null,
      "metadata": {
        "id": "YjPnVj5PTRtK"
      },
      "outputs": [],
      "source": [
        "! eval minimap2 -ax splice $INDEX_FILE_PATH.mmi $PIPELINE_FILE_PATH/long-read-sequencing-pipeline/fastq/$ACC.fastq > $PIPELINE_FILE_PATH/long-read-sequencing-pipeline/sam/$ACC.sam"
      ]
    },
    {
      "cell_type": "markdown",
      "metadata": {
        "id": "J_OH_OItuBjO"
      },
      "source": [
        "##$\\color{#e74b4b}{\\text{minimap2: A versatile pairwise aligner for spliced nucleotide sequences - export}}$\n"
      ]
    },
    {
      "cell_type": "markdown",
      "metadata": {
        "id": "tCKOQBzbuBjR"
      },
      "source": [
        "To Store Resulting Files in your Google Drive: "
      ]
    },
    {
      "cell_type": "code",
      "execution_count": null,
      "metadata": {
        "id": "xEM-Bg_nuBjS"
      },
      "outputs": [],
      "source": [
        "! cp $PIPELINE_FILE_PATH/long-read-sequencing-pipeline/sam/$ACC.sam $STORAGE_FILE_PATH/$ACC.sam"
      ]
    },
    {
      "cell_type": "markdown",
      "metadata": {
        "id": "sfmGI2VruBjS"
      },
      "source": [
        "To Store Resulting Files in your Local Hard Drive: "
      ]
    },
    {
      "cell_type": "code",
      "execution_count": null,
      "metadata": {
        "id": "zpy-NJKXuBjU"
      },
      "outputs": [],
      "source": [
        "from google.colab import files\n",
        "import os\n",
        "\n",
        "files.download(\"\".join([os.environ[\"PIPELINE_FILE_PATH\"],\"/long-read-sequencing-pipeline/sam/\",os.environ[\"ACC\"],\".sam\"]))"
      ]
    },
    {
      "cell_type": "markdown",
      "metadata": {
        "id": "sjns1XbAkILI"
      },
      "source": [
        "##$\\color{#e74b4b}{\\text{samtools: Write/Index SAM to BAM - usage}}$"
      ]
    },
    {
      "cell_type": "markdown",
      "metadata": {
        "id": "KfgkJ0bJkYDv"
      },
      "source": [
        "samtools allows for manipulation of high-throughput sequencing data (documentation: http://www.htslib.org/) \n"
      ]
    },
    {
      "cell_type": "code",
      "execution_count": null,
      "metadata": {
        "id": "fAFTMfy2HDOs"
      },
      "outputs": [],
      "source": [
        "! samtools view -S -b $PIPELINE_FILE_PATH/long-read-sequencing-pipeline/sam/$ACC.sam > $PIPELINE_FILE_PATH/long-read-sequencing-pipeline/bam/$ACC.bam "
      ]
    },
    {
      "cell_type": "code",
      "execution_count": null,
      "metadata": {
        "id": "qYOZbl8PJo-h"
      },
      "outputs": [],
      "source": [
        "! samtools sort $PIPELINE_FILE_PATH/long-read-sequencing-pipeline/bam/$ACC.bam -o $PIPELINE_FILE_PATH/long-read-sequencing-pipeline/bam/$ACC.sorted.bam  "
      ]
    },
    {
      "cell_type": "code",
      "execution_count": null,
      "metadata": {
        "id": "ypjDsfP7JpM6"
      },
      "outputs": [],
      "source": [
        "! samtools index $PIPELINE_FILE_PATH/long-read-sequencing-pipeline/bam/$ACC.sorted.bam "
      ]
    },
    {
      "cell_type": "markdown",
      "metadata": {
        "id": "swcyphLAvE52"
      },
      "source": [
        "##$\\color{#e74b4b}{\\text{samtools: Write/Index SAM to BAM - export}}$\n"
      ]
    },
    {
      "cell_type": "markdown",
      "metadata": {
        "id": "GbZSSgbkvE54"
      },
      "source": [
        "To Store Resulting Files in your Google Drive: "
      ]
    },
    {
      "cell_type": "code",
      "execution_count": null,
      "metadata": {
        "id": "qi5xpmLnvE55"
      },
      "outputs": [],
      "source": [
        "! cp $PIPELINE_FILE_PATH/long-read-sequencing-pipeline/bam/$ACC.sorted.bam $STORAGE_FILE_PATH/$ACC.sorted.bam"
      ]
    },
    {
      "cell_type": "code",
      "execution_count": null,
      "metadata": {
        "id": "_QPGPrNnXNi_"
      },
      "outputs": [],
      "source": [
        "! cp $PIPELINE_FILE_PATH/long-read-sequencing-pipeline/bam/$ACC.sorted.bam.bai $STORAGE_FILE_PATH/$ACC.sorted.bam.bai"
      ]
    },
    {
      "cell_type": "markdown",
      "metadata": {
        "id": "psCo62ZRvE57"
      },
      "source": [
        "To Store Resulting Files in your Local Hard Drive: "
      ]
    },
    {
      "cell_type": "code",
      "execution_count": null,
      "metadata": {
        "id": "TSjtffSHvE59"
      },
      "outputs": [],
      "source": [
        "from google.colab import files\n",
        "import os\n",
        "\n",
        "files.download(\"\".join([os.environ[\"PIPELINE_FILE_PATH\"],\"/long-read-sequencing-pipeline/bam/\",os.environ[\"ACC\"],\".sorted.bam\"]))"
      ]
    },
    {
      "cell_type": "code",
      "execution_count": null,
      "metadata": {
        "id": "sD5KruF8XV86"
      },
      "outputs": [],
      "source": [
        "from google.colab import files\n",
        "import os\n",
        "\n",
        "files.download(\"\".join([os.environ[\"PIPELINE_FILE_PATH\"],\"/long-read-sequencing-pipeline/bam/\",os.environ[\"ACC\"],\".sorted.bam.bai\"]))"
      ]
    },
    {
      "cell_type": "markdown",
      "metadata": {
        "id": "zqQcBdxa4X7q"
      },
      "source": [
        "##$\\color{#d42bb4}{\\text{TranscriptClean: correct mismatches, microindels, and noncanonical splice junctions - usage}}$"
      ]
    },
    {
      "cell_type": "markdown",
      "metadata": {
        "id": "r5CNnQ5w4k_K"
      },
      "source": [
        "TranscriptClean is a command-line program which corrects long-read mismatches, microindels and noncanonical splice junctions (documentation: https://github.com/mortazavilab/TranscriptClean). "
      ]
    },
    {
      "cell_type": "markdown",
      "metadata": {
        "id": "ZU_kVYSvWXdN"
      },
      "source": [
        "Please note that the corrected reads should not be utilized for downstream-level base-calling analysis such as variant calling. "
      ]
    },
    {
      "cell_type": "code",
      "execution_count": null,
      "metadata": {
        "id": "sJPb4PSU5LmU"
      },
      "outputs": [],
      "source": [
        "! eval python /content/TranscriptClean-2.0.3/TranscriptClean.py --sam $PIPELINE_FILE_PATH/long-read-sequencing-pipeline/sam/$ACC.sam --genome $INDEX_FILE_PATH --outprefix $PIPELINE_FILE_PATH/long-read-sequencing-pipeline/transcriptclean/$ACC"
      ]
    },
    {
      "cell_type": "markdown",
      "source": [
        "Convert the resulting sam file to a bam file:"
      ],
      "metadata": {
        "id": "11Qa37-tea-K"
      }
    },
    {
      "cell_type": "code",
      "source": [
        "! samtools view -S -b $PIPELINE_FILE_PATH/long-read-sequencing-pipeline/transcriptclean/${ACC}_clean.sam > $PIPELINE_FILE_PATH/long-read-sequencing-pipeline/bam/${ACC}_clean.bam"
      ],
      "metadata": {
        "id": "bn_4YOoJd68N"
      },
      "execution_count": null,
      "outputs": []
    },
    {
      "cell_type": "code",
      "source": [
        "! samtools sort $PIPELINE_FILE_PATH/long-read-sequencing-pipeline/bam/${ACC}_clean.bam -o $PIPELINE_FILE_PATH/long-read-sequencing-pipeline/bam/${ACC}_clean.sorted.bam  "
      ],
      "metadata": {
        "id": "kVdkAQw0eStU"
      },
      "execution_count": null,
      "outputs": []
    },
    {
      "cell_type": "code",
      "source": [
        "! samtools index $PIPELINE_FILE_PATH/long-read-sequencing-pipeline/bam/${ACC}_clean.sorted.bam "
      ],
      "metadata": {
        "id": "G8A4OL32eXcI"
      },
      "execution_count": null,
      "outputs": []
    },
    {
      "cell_type": "markdown",
      "metadata": {
        "id": "iUwbIIRkwWrL"
      },
      "source": [
        "##$\\color{#a7588f}{\\text{TranscriptClean: correct mismatches, microindels, and noncanonical splice junctions - export}}$\n"
      ]
    },
    {
      "cell_type": "markdown",
      "metadata": {
        "id": "1K-zlCYDwWrL"
      },
      "source": [
        "To Store Resulting Files in your Google Drive: "
      ]
    },
    {
      "cell_type": "code",
      "execution_count": null,
      "metadata": {
        "id": "j_1xnKJJwWrM"
      },
      "outputs": [],
      "source": [
        "! cp -r $PIPELINE_FILE_PATH/long-read-sequencing-pipeline/transcriptclean/ $STORAGE_FILE_PATH"
      ]
    },
    {
      "cell_type": "markdown",
      "metadata": {
        "id": "tcK1cY7pwWrN"
      },
      "source": [
        "To Store Resulting Files in your Local Hard Drive: "
      ]
    },
    {
      "cell_type": "code",
      "source": [
        "! zip -r $PIPELINE_FILE_PATH/long-read-sequencing-pipeline/transcriptclean.zip $PIPELINE_FILE_PATH/long-read-sequencing-pipeline/transcriptclean/"
      ],
      "metadata": {
        "id": "_t5YZRckdd_T"
      },
      "execution_count": null,
      "outputs": []
    },
    {
      "cell_type": "code",
      "execution_count": null,
      "metadata": {
        "id": "RW7dqOgpwWrP"
      },
      "outputs": [],
      "source": [
        "from google.colab import files\n",
        "import os\n",
        "\n",
        "files.download(\"\".join([os.environ[\"PIPELINE_FILE_PATH\"],\"/long-read-sequencing-pipeline/transcriptclean.zip\"]))"
      ]
    },
    {
      "cell_type": "markdown",
      "source": [
        "##$\\color{#d42bb4}{\\text{StringTie: transcript assembly - usage}}$\n"
      ],
      "metadata": {
        "id": "BKjT28HjsBkW"
      }
    },
    {
      "cell_type": "markdown",
      "source": [
        "StringTie is a program which can collapse sample reads into transcriptomes specific to the sample input (documentation: http://ccb.jhu.edu/software/stringtie/index.shtml?t=manual#run)."
      ],
      "metadata": {
        "id": "FuoJtl20TNAx"
      }
    },
    {
      "cell_type": "code",
      "source": [
        "! eval stringtie -L -o $PIPELINE_FILE_PATH/long-read-sequencing-pipeline/stringtie/${ACC}.gtf -G $ANNOTATION_FILE_PATH $PIPELINE_FILE_PATH/long-read-sequencing-pipeline/bam/$ACC.sorted.bam "
      ],
      "metadata": {
        "id": "_gRdTG0lsDQb"
      },
      "execution_count": null,
      "outputs": []
    },
    {
      "cell_type": "markdown",
      "metadata": {
        "id": "xiPsVkfrUw6S"
      },
      "source": [
        "##$\\color{#a7588f}{\\text{StringTie: transcript assembly - export}}$\n"
      ]
    },
    {
      "cell_type": "markdown",
      "metadata": {
        "id": "or7JeoLlUw6U"
      },
      "source": [
        "To Store Resulting Files in your Google Drive: "
      ]
    },
    {
      "cell_type": "code",
      "execution_count": null,
      "metadata": {
        "id": "EWrA0eBPUw6V"
      },
      "outputs": [],
      "source": [
        "! cp -r $PIPELINE_FILE_PATH/long-read-sequencing-pipeline/stringtie $STORAGE_FILE_PATH"
      ]
    },
    {
      "cell_type": "markdown",
      "metadata": {
        "id": "Y7ib8gNMUw6Y"
      },
      "source": [
        "To Store Resulting Files in your Local Hard Drive: "
      ]
    },
    {
      "cell_type": "code",
      "source": [
        "! zip -r $PIPELINE_FILE_PATH/long-read-sequencing-pipeline/stringtie.zip $PIPELINE_FILE_PATH/long-read-sequencing-pipeline/stringtie/"
      ],
      "metadata": {
        "id": "MglPWDSTUw6b"
      },
      "execution_count": null,
      "outputs": []
    },
    {
      "cell_type": "code",
      "source": [
        "from google.colab import files\n",
        "import os\n",
        "\n",
        "files.download(\"\".join([os.environ[\"PIPELINE_FILE_PATH\"],\"/long-read-sequencing-pipeline/stringtie.zip\"]))"
      ],
      "metadata": {
        "id": "EvsEJOAdUw6c"
      },
      "execution_count": null,
      "outputs": []
    },
    {
      "cell_type": "markdown",
      "source": [
        "##$\\color{#d42bb4}{\\text{GffCompare: transcript assembly statistics - usage}}$"
      ],
      "metadata": {
        "id": "TAN1_OR6TfkL"
      }
    },
    {
      "cell_type": "markdown",
      "source": [
        "GffCompare is a program which can evaluate the specificity and novelty of transcripts within a sample-specific transcriptome to a reference transcriptome (documentation: http://ccb.jhu.edu/software/stringtie/gffcompare.shtml)."
      ],
      "metadata": {
        "id": "wjUMZNQ0TwR9"
      }
    },
    {
      "cell_type": "code",
      "source": [
        "! eval gffcompare -o $PIPELINE_FILE_PATH/long-read-sequencing-pipeline/gffcompare/$ACC -r $ANNOTATION_FILE_PATH -R -Q $PIPELINE_FILE_PATH/long-read-sequencing-pipeline/stringtie/${ACC}.gtf"
      ],
      "metadata": {
        "id": "G3BM5t4ZzVHD"
      },
      "execution_count": null,
      "outputs": []
    },
    {
      "cell_type": "markdown",
      "metadata": {
        "id": "W8SCLFLZUyVs"
      },
      "source": [
        "##$\\color{#a7588f}{\\text{GffCompare: transcript assembly statistics - export}}$\n"
      ]
    },
    {
      "cell_type": "markdown",
      "metadata": {
        "id": "TEKaFxwJUyVs"
      },
      "source": [
        "To Store Resulting Files in your Google Drive: "
      ]
    },
    {
      "cell_type": "code",
      "execution_count": null,
      "metadata": {
        "id": "zsj9Lt__UyVt"
      },
      "outputs": [],
      "source": [
        "! cp -r $PIPELINE_FILE_PATH/long-read-sequencing-pipeline/gffcompare $STORAGE_FILE_PATH"
      ]
    },
    {
      "cell_type": "markdown",
      "metadata": {
        "id": "kC2Gvg3nUyVu"
      },
      "source": [
        "To Store Resulting Files in your Local Hard Drive: "
      ]
    },
    {
      "cell_type": "code",
      "source": [
        "! zip -r $PIPELINE_FILE_PATH/long-read-sequencing-pipeline/gffcompare.zip $PIPELINE_FILE_PATH/long-read-sequencing-pipeline/gffcompare/"
      ],
      "metadata": {
        "id": "U1eeIJFhUyVv"
      },
      "execution_count": null,
      "outputs": []
    },
    {
      "cell_type": "code",
      "source": [
        "from google.colab import files\n",
        "import os\n",
        "\n",
        "files.download(\"\".join([os.environ[\"PIPELINE_FILE_PATH\"],\"/long-read-sequencing-pipeline/gffcompare.zip\"]))"
      ],
      "metadata": {
        "id": "ic6DjrjFUyVv"
      },
      "execution_count": null,
      "outputs": []
    },
    {
      "cell_type": "markdown",
      "metadata": {
        "id": "y3bt2k_tBGnT"
      },
      "source": [
        "##$\\color{#d42bb4}{\\text{FLAME: gene-specific long-read splice variant annotation - usage}}$"
      ]
    },
    {
      "cell_type": "markdown",
      "source": [
        "Full-Length Adjacency Matrix Enumeration (FLAME) is a program which can detect and quantify novel splice junctions on an annotated gene locus (documentation: https://github.com/marabouboy/FLAME). "
      ],
      "metadata": {
        "id": "kXs3BJZqygs7"
      }
    },
    {
      "cell_type": "code",
      "execution_count": null,
      "metadata": {
        "id": "JB86-GcXZHIT"
      },
      "outputs": [],
      "source": [
        "! bedtools bamtobed -bed12 -i $PIPELINE_FILE_PATH/long-read-sequencing-pipeline/bam/$ACC.sorted.bam > $PIPELINE_FILE_PATH/long-read-sequencing-pipeline/bed/$ACC.sorted.bed12"
      ]
    },
    {
      "cell_type": "code",
      "execution_count": null,
      "metadata": {
        "id": "_Y4DKdo5LhBB"
      },
      "outputs": [],
      "source": [
        "! eval python3 /content/FLAME/FLAME/FLAME.py -I $PIPELINE_FILE_PATH/long-read-sequencing-pipeline/bed/$ACC.sorted.bed12 -GTF $ANNOTATION_FILE_PATH -G $REGION_NAME -O $PIPELINE_FILE_PATH/long-read-sequencing-pipeline/flame/$ACC"
      ]
    },
    {
      "cell_type": "markdown",
      "metadata": {
        "id": "yNrDbLpg4H6_"
      },
      "source": [
        "##$\\color{#a7588f}{\\text{FLAME: gene-specific long-read splice variant annotation - export}}$\n"
      ]
    },
    {
      "cell_type": "markdown",
      "metadata": {
        "id": "gtxRHyEO4H7A"
      },
      "source": [
        "To Store Resulting Files in your Google Drive: "
      ]
    },
    {
      "cell_type": "code",
      "execution_count": null,
      "metadata": {
        "id": "cLxi8NXw4H7C"
      },
      "outputs": [],
      "source": [
        "! cp -r $PIPELINE_FILE_PATH/long-read-sequencing-pipeline/flame $STORAGE_FILE_PATH"
      ]
    },
    {
      "cell_type": "markdown",
      "metadata": {
        "id": "lM7C8DCy4H7D"
      },
      "source": [
        "To Store Resulting Files in your Local Hard Drive: "
      ]
    },
    {
      "cell_type": "code",
      "source": [
        "! zip -r $PIPELINE_FILE_PATH/long-read-sequencing-pipeline/flame.zip $PIPELINE_FILE_PATH/long-read-sequencing-pipeline/flame/"
      ],
      "metadata": {
        "id": "KdiyIHxkwdFT"
      },
      "execution_count": null,
      "outputs": []
    },
    {
      "cell_type": "code",
      "execution_count": null,
      "metadata": {
        "id": "T3GgoMYP4H7F"
      },
      "outputs": [],
      "source": [
        "from google.colab import files\n",
        "import os\n",
        "\n",
        "files.download(\"\".join([os.environ[\"PIPELINE_FILE_PATH\"],\"/long-read-sequencing-pipeline/flame.zip\"]))"
      ]
    },
    {
      "cell_type": "markdown",
      "metadata": {
        "id": "7yVbaSBc5cu7"
      },
      "source": [
        "##$\\color{#d42bb4}{\\text{featureCounts: assign sequence reads to genomic features - usage}}$"
      ]
    },
    {
      "cell_type": "markdown",
      "metadata": {
        "id": "-2kbK23S5oi5"
      },
      "source": [
        "featureCounts is a read summarization program suitable for counting reads generated from either RNA or genomic DNA sequencing experiments (documentation: http://subread.sourceforge.net/). "
      ]
    },
    {
      "cell_type": "code",
      "execution_count": null,
      "metadata": {
        "id": "1ycdSYt_5plb"
      },
      "outputs": [],
      "source": [
        "! eval featureCounts -O -L -a $ANNOTATION_FILE_PATH -t exon -g gene_id -o $PIPELINE_FILE_PATH/long-read-sequencing-pipeline/featureCounts/$ACC.txt $PIPELINE_FILE_PATH/long-read-sequencing-pipeline/bam/$ACC.sorted.bam "
      ]
    },
    {
      "cell_type": "markdown",
      "metadata": {
        "id": "a2s7KTWRw3ry"
      },
      "source": [
        "##$\\color{#a7588f}{\\text{featureCounts: assign sequence reads to genomic features - export}}$\n"
      ]
    },
    {
      "cell_type": "markdown",
      "metadata": {
        "id": "ZsTqqT1aw3r0"
      },
      "source": [
        "To Store Resulting Files in your Google Drive: "
      ]
    },
    {
      "cell_type": "code",
      "execution_count": null,
      "metadata": {
        "id": "StNofMQFw3r1"
      },
      "outputs": [],
      "source": [
        "! cp -r $PIPELINE_FILE_PATH/long-read-sequencing-pipeline/featureCounts/ $STORAGE_FILE_PATH"
      ]
    },
    {
      "cell_type": "markdown",
      "metadata": {
        "id": "jqBqz7Ztw3r2"
      },
      "source": [
        "To Store Resulting Files in your Local Hard Drive: "
      ]
    },
    {
      "cell_type": "code",
      "source": [
        "! zip -r $PIPELINE_FILE_PATH/long-read-sequencing-pipeline/featureCounts.zip $PIPELINE_FILE_PATH/long-read-sequencing-pipeline/featureCounts/"
      ],
      "metadata": {
        "id": "CpJsMgUNVogc"
      },
      "execution_count": null,
      "outputs": []
    },
    {
      "cell_type": "code",
      "source": [
        "from google.colab import files\n",
        "import os\n",
        "\n",
        "files.download(\"\".join([os.environ[\"PIPELINE_FILE_PATH\"],\"/long-read-sequencing-pipeline/featureCounts.zip\"]))"
      ],
      "metadata": {
        "id": "udK69J1FpWIF"
      },
      "execution_count": null,
      "outputs": []
    },
    {
      "cell_type": "markdown",
      "source": [
        "##$\\color{#d42bb4}{\\text{LIQA: transcript quantification - usage}}$"
      ],
      "metadata": {
        "id": "v8jXqioM50fY"
      }
    },
    {
      "cell_type": "markdown",
      "source": [
        "LIQA is a program which quantifies isoform/transcript expression based on long read RNA sequencing data (documentation: https://github.com/WGLab/LIQA)"
      ],
      "metadata": {
        "id": "MrRLmJ1Ojbcc"
      }
    },
    {
      "cell_type": "code",
      "source": [
        "! eval liqa -task refgene -ref $ANNOTATION_FILE_PATH -format gtf -out $PIPELINE_FILE_PATH/long-read-sequencing-pipeline/prebuilt_indices/$ACC.refgene"
      ],
      "metadata": {
        "id": "2_zvCVli55EX"
      },
      "execution_count": null,
      "outputs": []
    },
    {
      "cell_type": "code",
      "source": [
        "! eval liqa -task quantify -refgene $PIPELINE_FILE_PATH/long-read-sequencing-pipeline/prebuilt_indices/$ACC.refgene -bam $PIPELINE_FILE_PATH/long-read-sequencing-pipeline/bam/$ACC.sorted.bam -out $PIPELINE_FILE_PATH/long-read-sequencing-pipeline/liqa/${ACC}_quantification.txt -max_distance 10 -f_weight 1"
      ],
      "metadata": {
        "id": "Hy-E4YBT7iCr"
      },
      "execution_count": null,
      "outputs": []
    },
    {
      "cell_type": "markdown",
      "metadata": {
        "id": "fQy3NibXkZww"
      },
      "source": [
        "##$\\color{#a7588f}{\\text{LIQA: transcript quantification - export}}$\n"
      ]
    },
    {
      "cell_type": "markdown",
      "metadata": {
        "id": "zfLiaJmBkZwx"
      },
      "source": [
        "To Store Resulting Files in your Google Drive: "
      ]
    },
    {
      "cell_type": "code",
      "execution_count": null,
      "metadata": {
        "id": "lNQuGyYNkZwy"
      },
      "outputs": [],
      "source": [
        "! cp -r $PIPELINE_FILE_PATH/long-read-sequencing-pipeline/liqa/ $STORAGE_FILE_PATH"
      ]
    },
    {
      "cell_type": "markdown",
      "metadata": {
        "id": "ZJ50Bs_RkZwz"
      },
      "source": [
        "To Store Resulting Files in your Local Hard Drive: "
      ]
    },
    {
      "cell_type": "code",
      "source": [
        "! zip -r $PIPELINE_FILE_PATH/long-read-sequencing-pipeline/liqa.zip $PIPELINE_FILE_PATH/long-read-sequencing-pipeline/liqa/"
      ],
      "metadata": {
        "id": "4c9Rnp_HkZwz"
      },
      "execution_count": null,
      "outputs": []
    },
    {
      "cell_type": "code",
      "source": [
        "from google.colab import files\n",
        "import os\n",
        "\n",
        "files.download(\"\".join([os.environ[\"PIPELINE_FILE_PATH\"],\"/long-read-sequencing-pipeline/liqa.zip\"]))"
      ],
      "metadata": {
        "id": "TPLA1-_6kZw0"
      },
      "execution_count": null,
      "outputs": []
    },
    {
      "cell_type": "markdown",
      "source": [
        "##$\\color{#d42bb4}{\\text{FusionSeeker: detect gene fusions - usage}}$"
      ],
      "metadata": {
        "id": "VXojzd-9mjPc"
      }
    },
    {
      "cell_type": "markdown",
      "source": [
        "FussionCaller is a gene fusion caller for long-read single-molecular sequencing data (documentation: https://github.com/Maggi-Chen/FusionSeeker). "
      ],
      "metadata": {
        "id": "kAb1EVhSpyhS"
      }
    },
    {
      "cell_type": "code",
      "source": [
        "! eval /content/FusionSeeker/fusionseeker --bam $PIPELINE_FILE_PATH/long-read-sequencing-pipeline/bam/$ACC.sorted.bam --outpath $PIPELINE_FILE_PATH/long-read-sequencing-pipeline/fusionseeker/ --ref $INDEX_FILE_PATH --gtf $ANNOTATION_FILE_PATH "
      ],
      "metadata": {
        "id": "_x9eJ_oDmmU8"
      },
      "execution_count": null,
      "outputs": []
    },
    {
      "cell_type": "markdown",
      "metadata": {
        "id": "veJUugPx8-Q_"
      },
      "source": [
        "##$\\color{#a7588f}{\\text{FusionSeeker: detect gene fusions - export}}$\n"
      ]
    },
    {
      "cell_type": "markdown",
      "metadata": {
        "id": "A9IgEX-88-RE"
      },
      "source": [
        "To Store Resulting Files in your Google Drive: "
      ]
    },
    {
      "cell_type": "code",
      "execution_count": null,
      "metadata": {
        "id": "nx5uVzJX8-RF"
      },
      "outputs": [],
      "source": [
        "! cp -r $PIPELINE_FILE_PATH/long-read-sequencing-pipeline/fusionseeker $STORAGE_FILE_PATH"
      ]
    },
    {
      "cell_type": "markdown",
      "metadata": {
        "id": "6JwKYuga8-RG"
      },
      "source": [
        "To Store Resulting Files in your Local Hard Drive: "
      ]
    },
    {
      "cell_type": "code",
      "source": [
        "! zip -r $PIPELINE_FILE_PATH/long-read-sequencing-pipeline/fusionseeker.zip $PIPELINE_FILE_PATH/long-read-sequencing-pipeline/fusionseeker/"
      ],
      "metadata": {
        "id": "aO9VI51c8-RI"
      },
      "execution_count": null,
      "outputs": []
    },
    {
      "cell_type": "code",
      "source": [
        "from google.colab import files\n",
        "import os\n",
        "\n",
        "files.download(\"\".join([os.environ[\"PIPELINE_FILE_PATH\"],\"/long-read-sequencing-pipeline/fusionseeker.zip\"]))"
      ],
      "metadata": {
        "id": "ge2aCdde8-RJ"
      },
      "execution_count": null,
      "outputs": []
    },
    {
      "cell_type": "markdown",
      "metadata": {
        "id": "S9r4MCB0lvAf"
      },
      "source": [
        "##$\\color{#d42bb4}{\\text{svist4get: visualize genomic tracks from sequencing experiments - usage}}$"
      ]
    },
    {
      "cell_type": "markdown",
      "metadata": {
        "id": "3T2Y3dcAnaWu"
      },
      "source": [
        "svist4get allows you to view read coverage at a defined region on a chromosome (documentation: https://bitbucket.org/artegorov/svist4get/src/master/)"
      ]
    },
    {
      "cell_type": "code",
      "execution_count": null,
      "metadata": {
        "id": "ehHeatJQCZ42"
      },
      "outputs": [],
      "source": [
        "! bedtools genomecov -split -ibam $PIPELINE_FILE_PATH/long-read-sequencing-pipeline/bam/$ACC.sorted.bam -bg > $PIPELINE_FILE_PATH/long-read-sequencing-pipeline/bed/$ACC.sorted.bedgraph"
      ]
    },
    {
      "cell_type": "code",
      "execution_count": null,
      "metadata": {
        "id": "OpQMW3gI15ZI"
      },
      "outputs": [],
      "source": [
        "! eval svist4get -bg $PIPELINE_FILE_PATH/long-read-sequencing-pipeline/bed/$ACC.sorted.bedgraph -gtf $ANNOTATION_FILE_PATH -fa $INDEX_FILE_PATH -bl Long-Read Coverage -w $CHROMOSOME $CHROMOSOME_START $CHROMOSOME_FINISH -it \"$REGION_NAME\" -o $PIPELINE_FILE_PATH/long-read-sequencing-pipeline/svist4get/$ACC"
      ]
    },
    {
      "cell_type": "markdown",
      "metadata": {
        "id": "emZMFcIZ4Z7q"
      },
      "source": [
        "##$\\color{#a7588f}{\\text{svist4get: visualize genomic tracks from sequencing experiments - export}}$\n"
      ]
    },
    {
      "cell_type": "markdown",
      "metadata": {
        "id": "rB3h07vK4Z7s"
      },
      "source": [
        "To Store Resulting Files in your Google Drive: "
      ]
    },
    {
      "cell_type": "code",
      "execution_count": null,
      "metadata": {
        "id": "HY784C9N4Z7t"
      },
      "outputs": [],
      "source": [
        "! cp -r $PIPELINE_FILE_PATH/long-read-sequencing-pipeline/svist4get/ $STORAGE_FILE_PATH"
      ]
    },
    {
      "cell_type": "markdown",
      "metadata": {
        "id": "w6hQ-NhH4Z7u"
      },
      "source": [
        "To Store Resulting Files in your Local Hard Drive: "
      ]
    },
    {
      "cell_type": "code",
      "source": [
        "! zip -r $PIPELINE_FILE_PATH/long-read-sequencing-pipeline/svist4get.zip $PIPELINE_FILE_PATH/long-read-sequencing-pipeline/svist4get/"
      ],
      "metadata": {
        "id": "c9bDP-P1vvA4"
      },
      "execution_count": null,
      "outputs": []
    },
    {
      "cell_type": "code",
      "execution_count": null,
      "metadata": {
        "id": "XyJTQFQZ4Z7w"
      },
      "outputs": [],
      "source": [
        "from google.colab import files\n",
        "import os\n",
        "\n",
        "files.download(\"\".join([os.environ[\"PIPELINE_FILE_PATH\"],\"/long-read-sequencing-pipeline/svist4get.zip\"]))"
      ]
    },
    {
      "cell_type": "markdown",
      "metadata": {
        "id": "MjZ_tYz4pEHX"
      },
      "source": [
        "##$\\color{#d42bb4}{\\text{Pistis: quality control plotting for long reads - usage}}$"
      ]
    },
    {
      "cell_type": "markdown",
      "metadata": {
        "id": "RFhhJITCphA_"
      },
      "source": [
        "Pistis generates long-read specific quality control graphs, including a plot demonstrating read alignment percentage to the reference genome (documentation: https://github.com/mbhall88/pistis)"
      ]
    },
    {
      "cell_type": "markdown",
      "metadata": {
        "id": "B5Zv-aSzVPwK"
      },
      "source": [
        "Please note that the report generates assuming alignment of more than 50,000 reads. If this is not the case, please add the flag `--downsample INTEGER` replacing `INTEGER` with a number less than the number of aligned reads. Additionally, please ignore deprecation warnings. "
      ]
    },
    {
      "cell_type": "code",
      "execution_count": null,
      "metadata": {
        "id": "ik-boaBxeNjP"
      },
      "outputs": [],
      "source": [
        "! pistis -f $PIPELINE_FILE_PATH/long-read-sequencing-pipeline/fastq/$ACC.fastq -b $PIPELINE_FILE_PATH/long-read-sequencing-pipeline/bam/$ACC.sorted.bam  -o $PIPELINE_FILE_PATH/long-read-sequencing-pipeline/pistis/$ACC.pdf"
      ]
    },
    {
      "cell_type": "markdown",
      "metadata": {
        "id": "ZzePzpXU48T0"
      },
      "source": [
        "##$\\color{#a7588f}{\\text{Pistis: quality control plotting for long reads - export}}$\n"
      ]
    },
    {
      "cell_type": "markdown",
      "metadata": {
        "id": "Ev9sTiLI48T2"
      },
      "source": [
        "To Store Resulting Files in your Google Drive: "
      ]
    },
    {
      "cell_type": "code",
      "execution_count": null,
      "metadata": {
        "id": "rUoqVlq548T3"
      },
      "outputs": [],
      "source": [
        "! cp -r $PIPELINE_FILE_PATH/long-read-sequencing-pipeline/pistis/ $STORAGE_FILE_PATH"
      ]
    },
    {
      "cell_type": "markdown",
      "metadata": {
        "id": "_XM7DHSH48T4"
      },
      "source": [
        "To Store Resulting Files in your Local Hard Drive: "
      ]
    },
    {
      "cell_type": "code",
      "source": [
        "! zip -r $PIPELINE_FILE_PATH/long-read-sequencing-pipeline/pistis.zip $PIPELINE_FILE_PATH/long-read-sequencing-pipeline/pistis/"
      ],
      "metadata": {
        "id": "uPjj7MrHa23h"
      },
      "execution_count": null,
      "outputs": []
    },
    {
      "cell_type": "code",
      "execution_count": null,
      "metadata": {
        "id": "ToqqgNwD48T7"
      },
      "outputs": [],
      "source": [
        "from google.colab import files\n",
        "import os\n",
        "\n",
        "files.download(\"\".join([os.environ[\"PIPELINE_FILE_PATH\"],\"/long-read-sequencing-pipeline/pistis.zip\"]))"
      ]
    },
    {
      "cell_type": "markdown",
      "metadata": {
        "id": "POLtVVCEKndf"
      },
      "source": [
        "##$\\color{#2977d6}{\\text{MakeHub: generate UCSC assembly hubs - usage}}$"
      ]
    },
    {
      "cell_type": "markdown",
      "metadata": {
        "id": "ZcW7zXOoKrCy"
      },
      "source": [
        "MakeHub is a command line tool for the fully automatic generation of of track data hubs for visualizing genomes with the UCSC genome browser (documentation: https://github.com/Gaius-Augustus/MakeHub)."
      ]
    },
    {
      "cell_type": "code",
      "execution_count": null,
      "metadata": {
        "id": "fMN2TYdniufR"
      },
      "outputs": [],
      "source": [
        "! chmod 755 $PIPELINE_FILE_PATH/long-read-sequencing-pipeline/makehub/make_hub.py"
      ]
    },
    {
      "cell_type": "code",
      "execution_count": null,
      "metadata": {
        "id": "pVA2mrrjZ2yM"
      },
      "outputs": [],
      "source": [
        "! eval $PIPELINE_FILE_PATH/long-read-sequencing-pipeline/makehub/make_hub.py -l $HUB_KEYWORD -L $HUB_NAME -g $INDEX_FILE_PATH -e \\\n",
        "  $HUB_EMAIL -a $ANNOTATION_FILE_PATH -b $PIPELINE_FILE_PATH/long-read-sequencing-pipeline/bam/$ACC.sorted.bam -o $PIPELINE_FILE_PATH/long-read-sequencing-pipeline/makehub/"
      ]
    },
    {
      "cell_type": "markdown",
      "metadata": {
        "id": "E2nQAifZ6Fn9"
      },
      "source": [
        "##$\\color{#4f7bb0}{\\text{MakeHub: generate UCSC assembly hubs - export}}$\n"
      ]
    },
    {
      "cell_type": "markdown",
      "metadata": {
        "id": "NTlyCHAj6Fn_"
      },
      "source": [
        "To Store Resulting Files in your Google Drive: "
      ]
    },
    {
      "cell_type": "code",
      "execution_count": null,
      "metadata": {
        "id": "OyvrqB4n6FoA"
      },
      "outputs": [],
      "source": [
        "! cp -r $PIPELINE_FILE_PATH/long-read-sequencing-pipeline/makehub $STORAGE_FILE_PATH"
      ]
    },
    {
      "cell_type": "markdown",
      "metadata": {
        "id": "AB1LYUCh6FoA"
      },
      "source": [
        "To Store Resulting Files in your Local Hard Drive: "
      ]
    },
    {
      "cell_type": "code",
      "source": [
        "! zip -r $PIPELINE_FILE_PATH/long-read-sequencing-pipeline/makehub.zip $PIPELINE_FILE_PATH/long-read-sequencing-pipeline/makehub/"
      ],
      "metadata": {
        "id": "u_2BDvY0bz8Y"
      },
      "execution_count": null,
      "outputs": []
    },
    {
      "cell_type": "code",
      "execution_count": null,
      "metadata": {
        "id": "-vJjpEWh6FoD"
      },
      "outputs": [],
      "source": [
        "from google.colab import files\n",
        "import os\n",
        "\n",
        "files.download(\"\".join([os.environ[\"PIPELINE_FILE_PATH\"],\"/long-read-sequencing-pipeline/makehub.zip\"]))"
      ]
    },
    {
      "cell_type": "markdown",
      "metadata": {
        "id": "m5pU9i4DvGxQ"
      },
      "source": [
        "##$\\color{#d42bb4}{\\text{MultiQC: aggregate bioinformatics analysis - usage}}$"
      ]
    },
    {
      "cell_type": "markdown",
      "metadata": {
        "id": "sPB5udNzvVdJ"
      },
      "source": [
        "MultiQC is a program which allows you to combine reports for as many samples as you wish ([documentation](https://multiqc.info/docs/))"
      ]
    },
    {
      "cell_type": "code",
      "execution_count": null,
      "metadata": {
        "id": "SEBsMVQ5OG4U"
      },
      "outputs": [],
      "source": [
        "! multiqc $PIPELINE_FILE_PATH/long-read-sequencing-pipeline -o $PIPELINE_FILE_PATH/long-read-sequencing-pipeline/multiqc/$ACC.pdf"
      ]
    },
    {
      "cell_type": "markdown",
      "metadata": {
        "id": "n-WhLFAz5e0s"
      },
      "source": [
        "##$\\color{#a7588f}{\\text{MultiQC: aggregate bioinformatics analysis - export}}$\n"
      ]
    },
    {
      "cell_type": "markdown",
      "metadata": {
        "id": "n98P06aH5e0t"
      },
      "source": [
        "To Store Resulting Files in your Google Drive: "
      ]
    },
    {
      "cell_type": "code",
      "execution_count": null,
      "metadata": {
        "id": "28HahdKB5e0u"
      },
      "outputs": [],
      "source": [
        "! cp -r $PIPELINE_FILE_PATH/long-read-sequencing-pipeline/multiqc/ $STORAGE_FILE_PATH"
      ]
    },
    {
      "cell_type": "markdown",
      "metadata": {
        "id": "FmRDMa3Q5e0v"
      },
      "source": [
        "To Store Resulting Files in your Local Hard Drive: "
      ]
    },
    {
      "cell_type": "code",
      "source": [
        "! zip -r $PIPELINE_FILE_PATH/long-read-sequencing-pipeline/multiqc.zip $PIPELINE_FILE_PATH/long-read-sequencing-pipeline/multiqc/"
      ],
      "metadata": {
        "id": "mj5NMZTucrsV"
      },
      "execution_count": null,
      "outputs": []
    },
    {
      "cell_type": "code",
      "execution_count": null,
      "metadata": {
        "id": "5o0K3bsz5e0x"
      },
      "outputs": [],
      "source": [
        "from google.colab import files\n",
        "import os\n",
        "\n",
        "files.download(\"\".join([os.environ[\"PIPELINE_FILE_PATH\"],\"/long-read-sequencing-pipeline/multiqc.zip\"]))"
      ]
    }
  ],
  "metadata": {
    "colab": {
      "collapsed_sections": [
        "RrTcAlHtbWfg",
        "z1lysGn4hO-i",
        "F0hFNwmcv5qr",
        "k_oe5__lB6Lz",
        "gyh52FxVTSQt",
        "dxspwFM3_1qN",
        "Y9qrP4Ip3xwz",
        "3U_BpHSJA9Xe",
        "yhR96h7O5CHN",
        "vZPSGeXlh7kh",
        "oOS4NvQ8o5Q7",
        "EFHE0ybf9rRI",
        "CId-MKlu9uMZ",
        "npZwllsupfEJ",
        "5CwywN4tc74s",
        "EQn9Ikb3YkFC",
        "kpfzCCTKuqMt",
        "oBdBA_CDdE0z",
        "_MislmkXZcz-",
        "SQb5HTiwtfMn",
        "NOrgEp-fbtBt",
        "7uHwZ4Zj1vgC",
        "D6iKV4YDiJQk",
        "EJ0KI6ZxJInS",
        "oBPQyTcKOPDF",
        "f8EfwQZze29B",
        "J_OH_OItuBjO",
        "sjns1XbAkILI",
        "swcyphLAvE52",
        "zqQcBdxa4X7q",
        "iUwbIIRkwWrL",
        "y3bt2k_tBGnT",
        "yNrDbLpg4H6_",
        "7yVbaSBc5cu7",
        "a2s7KTWRw3ry",
        "fQy3NibXkZww",
        "veJUugPx8-Q_",
        "BKjT28HjsBkW",
        "xiPsVkfrUw6S",
        "TAN1_OR6TfkL",
        "W8SCLFLZUyVs",
        "S9r4MCB0lvAf",
        "emZMFcIZ4Z7q",
        "MjZ_tYz4pEHX",
        "ZzePzpXU48T0",
        "POLtVVCEKndf",
        "E2nQAifZ6Fn9",
        "m5pU9i4DvGxQ",
        "n-WhLFAz5e0s"
      ],
      "machine_shape": "hm",
      "provenance": []
    },
    "kernelspec": {
      "display_name": "Python 3",
      "name": "python3"
    },
    "language_info": {
      "name": "python"
    },
    "gpuClass": "standard"
  },
  "nbformat": 4,
  "nbformat_minor": 0
}