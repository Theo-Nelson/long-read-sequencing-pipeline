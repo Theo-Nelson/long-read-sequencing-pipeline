{
  "cells": [
    {
      "cell_type": "markdown",
      "metadata": {
        "id": "P5k_WL74Y2Ei"
      },
      "source": [
        "#Long Read RNA Sequencing Analysis Pipeline (Requires Pre-Built Indices)\n"
      ]
    },
    {
      "cell_type": "markdown",
      "metadata": {
        "id": "IaygDNNEZnph"
      },
      "source": [
        "A pipeline to analyze Oxford Nanopore and PacBio third-generation long transcriptomic sequencing reads"
      ]
    },
    {
      "cell_type": "markdown",
      "metadata": {
        "id": "hIjUpSQCZlw1"
      },
      "source": [
        "*Theodore Nelson (tmn2126)* - Columbia University Irving Medical Center\n"
      ]
    },
    {
      "cell_type": "markdown",
      "metadata": {
        "id": "AUKHTlobUcf_"
      },
      "source": [
        "##Parameter Input and User Instructions"
      ]
    },
    {
      "cell_type": "markdown",
      "source": [
        "Please define where the file structure is within your Google Drive:"
      ],
      "metadata": {
        "id": "oM-NaZDK63YC"
      }
    },
    {
      "cell_type": "markdown",
      "source": [
        "<ul type=disc>\n",
        "<li><b>PIPELINE_FILE_PATH</b>: file path to location of long-read RNA sequencing analysis pipeline within your Google Drive/general file system - required for most applications. This must be defined and initialized first.</li>\n",
        "</ul>"
      ],
      "metadata": {
        "id": "uc1rzY2x6tvu"
      }
    },
    {
      "cell_type": "code",
      "source": [
        "%env PIPELINE_FILE_PATH=/content/drive/MyDrive/long-read-sequencing-pipeline\n"
      ],
      "metadata": {
        "colab": {
          "base_uri": "https://localhost:8080/"
        },
        "id": "_P4OAFNrzifE",
        "outputId": "918483da-efae-49d2-ec78-fe932ffc8bee"
      },
      "execution_count": null,
      "outputs": [
        {
          "output_type": "stream",
          "name": "stdout",
          "text": [
            "env: PIPELINE_FILE_PATH=/content/drive/MyDrive/long_read_transcriptomic_sequencing_pipeline\n"
          ]
        }
      ]
    },
    {
      "cell_type": "markdown",
      "source": [
        "Please modify the following parameters within the code box below to fit your own study requirements:  "
      ],
      "metadata": {
        "id": "2USxlBU47A0L"
      }
    },
    {
      "cell_type": "markdown",
      "metadata": {
        "id": "f99vaAE0Z0AG"
      },
      "source": [
        "<li><b>ACC</b>: Run accession number for reads within the [European Nucleotide Archive](https://www.ebi.ac.uk/ena/browser/) (SRR...) or file path to location of long-read RNA sequencing data within your Google Drive/general file system - required for most applications</li>\n",
        "<li><b>PLATFORM_FREE</b>: choose either `map-ont` (Nanopore reads) or `map-pac` (PacBio reads) - required for minimap2 featherweight version</li>\n",
        "<li><b>INDEX_FILE_PATH</b>: file path to location of reference genome (e.g. .FASTA) within your Google Drive/general file system - required for most applications</li>\n",
        "<li><b>ANNOTATION_FILE_PATH</b>: file path to location of reference annotation (e.g. .GTF) within your Google Drive/general file system - required for most applications</li>\n",
        "<li><b>PARTITIONED_INDEX_FILE_PATH</b>: file path to location of partioned reference annotation (e.g. .idx) within your Google Drive/general file system - required for minimap2 featherweight version</li>\n",
        "<li><b>CHROMOSOME</b>: Name of Chromosome of Interest matching the name of the Chromosome within your Reference Annotation - required for svist4get</li>\n",
        "<li><b>CHROMOSOME_START</b>: Starting Location of Interest on the Chromosome - required for svist4get</li>\n",
        "<li><b>CHROMOSOME_FINISH</b>: Ending Location of Interest on the Chromosome - required for svist4get</li>\n",
        "<li><b>REGION_NAME</b>: Gene Name (does not need to match annotation file) - required for svist4get</li>\n",
        "<li><b>HUB_KEYWORD</b>: Short Keyword for your UCSC Track Hub - required for MakeHub</li>\n",
        "<li><b>HUB_NAME</b>: Longer Title for your UCSC Track Hub - required for MakeHub</li>\n",
        "<li><b>HUB_EMAIL</b>: Email for your UCSC Track Hub (if you publish your track hub then this email will be public) - required for MakeHub</li>\n"
      ]
    },
    {
      "cell_type": "code",
      "execution_count": null,
      "metadata": {
        "colab": {
          "base_uri": "https://localhost:8080/"
        },
        "id": "tqGM1OFhUcoo",
        "outputId": "0ad8a492-ec3d-40eb-e082-062ad62e32b8"
      },
      "outputs": [
        {
          "output_type": "stream",
          "name": "stdout",
          "text": [
            "env: ACC=SRR12389274\n",
            "env: PLATFORM_FREE=map-ont\n",
            "env: INDEX_FILE_PATH=$PIPELINE_FILE_PATH/prebuilt_indices/hg38.fa\n",
            "env: ANNOTATION_FILE_PATH=${PIPELINE_FILE_PATH}/prebuilt_indices/hg38.ensGene.gtf\n",
            "env: PARTITIONED_INDEX_FILE_PATH=${PIPELINE_FILE_PATH}/prebuilt_indices/hg38.idx\n",
            "env: CHROMOSOME=chr12\n",
            "env: CHROMOSOME_START=116533435\n",
            "env: CHROMOSOME_FINISH=116536513\n",
            "env: REGION_NAME=LINC00173\n",
            "env: HUB_KEYWORD=lnc173\n",
            "env: HUB_NAME=\"293T LINC00173\"\n",
            "env: HUB_EMAIL=tmn2126@columbia.edu\n"
          ]
        }
      ],
      "source": [
        "%env ACC=SRR12389274  \n",
        "%env PLATFORM_FREE=map-ont\n",
        "%env INDEX_FILE_PATH=$PIPELINE_FILE_PATH/prebuilt_indices/hg38.fa\n",
        "%env ANNOTATION_FILE_PATH=${PIPELINE_FILE_PATH}/prebuilt_indices/hg38.ensGene.gtf\n",
        "%env PARTITIONED_INDEX_FILE_PATH=${PIPELINE_FILE_PATH}/prebuilt_indices/hg38.idx\n",
        "%env CHROMOSOME=chr12 \n",
        "%env CHROMOSOME_START=116533435 \n",
        "%env CHROMOSOME_FINISH=116536513\n",
        "%env REGION_NAME=LINC00173\n",
        "%env HUB_KEYWORD=lnc173\n",
        "%env HUB_NAME=\"293T LINC00173\"\n",
        "%env HUB_EMAIL=tmn2126@columbia.edu"
      ]
    },
    {
      "cell_type": "markdown",
      "source": [
        "##Mounting your Google Drive"
      ],
      "metadata": {
        "id": "RrTcAlHtbWfg"
      }
    },
    {
      "cell_type": "markdown",
      "source": [
        "This step allows for permeanent storage of your bioinformatics analysis in Google Drive"
      ],
      "metadata": {
        "id": "C5_iJ_KkbYt3"
      }
    },
    {
      "cell_type": "code",
      "source": [
        "from google.colab import drive\n",
        "drive.mount('/content/drive')"
      ],
      "metadata": {
        "colab": {
          "base_uri": "https://localhost:8080/"
        },
        "id": "aQOezcA5ZrFA",
        "outputId": "e5eb67b6-15b0-4d49-bc36-180c9a6abce6"
      },
      "execution_count": null,
      "outputs": [
        {
          "output_type": "stream",
          "name": "stdout",
          "text": [
            "Mounted at /content/drive\n"
          ]
        }
      ]
    },
    {
      "cell_type": "markdown",
      "metadata": {
        "id": "24vu4E_8vbKa"
      },
      "source": [
        "##Managing Software via BioConda"
      ]
    },
    {
      "cell_type": "markdown",
      "metadata": {
        "id": "lz3I3YU06E6z"
      },
      "source": [
        "BioConda is a software environment and package manager, providing acess to over 8,000 different software packages related to bioinformatics (documentation: [BioConda](https://bioconda.github.io/user/install.html) and [Managing Environments via Conda](https://docs.conda.io/projects/conda/en/latest/user-guide/tasks/manage-environments.html)). "
      ]
    },
    {
      "cell_type": "code",
      "execution_count": null,
      "metadata": {
        "colab": {
          "base_uri": "https://localhost:8080/"
        },
        "id": "oxEPAO-_wpbz",
        "outputId": "3099494c-432f-4010-a313-833b82effdeb"
      },
      "outputs": [
        {
          "output_type": "stream",
          "name": "stdout",
          "text": [
            "--2022-02-06 21:18:51--  https://repo.anaconda.com/miniconda/Miniconda3-py37_4.8.2-Linux-x86_64.sh\n",
            "Resolving repo.anaconda.com (repo.anaconda.com)... 104.16.131.3, 104.16.130.3, 2606:4700::6810:8203, ...\n",
            "Connecting to repo.anaconda.com (repo.anaconda.com)|104.16.131.3|:443... connected.\n",
            "HTTP request sent, awaiting response... 200 OK\n",
            "Length: 85055499 (81M) [application/x-sh]\n",
            "Saving to: ‘Miniconda3-py37_4.8.2-Linux-x86_64.sh’\n",
            "\n",
            "Miniconda3-py37_4.8 100%[===================>]  81.12M   256MB/s    in 0.3s    \n",
            "\n",
            "2022-02-06 21:18:51 (256 MB/s) - ‘Miniconda3-py37_4.8.2-Linux-x86_64.sh’ saved [85055499/85055499]\n",
            "\n",
            "PREFIX=/usr/local\n",
            "Unpacking payload ...\n",
            "Collecting package metadata (current_repodata.json): - \b\b\\ \b\b| \b\bdone\n",
            "Solving environment: - \b\b\\ \b\bdone\n",
            "\n",
            "## Package Plan ##\n",
            "\n",
            "  environment location: /usr/local\n",
            "\n",
            "  added / updated specs:\n",
            "    - _libgcc_mutex==0.1=main\n",
            "    - asn1crypto==1.3.0=py37_0\n",
            "    - ca-certificates==2020.1.1=0\n",
            "    - certifi==2019.11.28=py37_0\n",
            "    - cffi==1.14.0=py37h2e261b9_0\n",
            "    - chardet==3.0.4=py37_1003\n",
            "    - conda-package-handling==1.6.0=py37h7b6447c_0\n",
            "    - conda==4.8.2=py37_0\n",
            "    - cryptography==2.8=py37h1ba5d50_0\n",
            "    - idna==2.8=py37_0\n",
            "    - ld_impl_linux-64==2.33.1=h53a641e_7\n",
            "    - libedit==3.1.20181209=hc058e9b_0\n",
            "    - libffi==3.2.1=hd88cf55_4\n",
            "    - libgcc-ng==9.1.0=hdf63c60_0\n",
            "    - libstdcxx-ng==9.1.0=hdf63c60_0\n",
            "    - ncurses==6.2=he6710b0_0\n",
            "    - openssl==1.1.1d=h7b6447c_4\n",
            "    - pip==20.0.2=py37_1\n",
            "    - pycosat==0.6.3=py37h7b6447c_0\n",
            "    - pycparser==2.19=py37_0\n",
            "    - pyopenssl==19.1.0=py37_0\n",
            "    - pysocks==1.7.1=py37_0\n",
            "    - python==3.7.6=h0371630_2\n",
            "    - readline==7.0=h7b6447c_5\n",
            "    - requests==2.22.0=py37_1\n",
            "    - ruamel_yaml==0.15.87=py37h7b6447c_0\n",
            "    - setuptools==45.2.0=py37_0\n",
            "    - six==1.14.0=py37_0\n",
            "    - sqlite==3.31.1=h7b6447c_0\n",
            "    - tk==8.6.8=hbc83047_0\n",
            "    - tqdm==4.42.1=py_0\n",
            "    - urllib3==1.25.8=py37_0\n",
            "    - wheel==0.34.2=py37_0\n",
            "    - xz==5.2.4=h14c3975_4\n",
            "    - yaml==0.1.7=had09818_2\n",
            "    - zlib==1.2.11=h7b6447c_3\n",
            "\n",
            "\n",
            "The following NEW packages will be INSTALLED:\n",
            "\n",
            "  _libgcc_mutex      pkgs/main/linux-64::_libgcc_mutex-0.1-main\n",
            "  asn1crypto         pkgs/main/linux-64::asn1crypto-1.3.0-py37_0\n",
            "  ca-certificates    pkgs/main/linux-64::ca-certificates-2020.1.1-0\n",
            "  certifi            pkgs/main/linux-64::certifi-2019.11.28-py37_0\n",
            "  cffi               pkgs/main/linux-64::cffi-1.14.0-py37h2e261b9_0\n",
            "  chardet            pkgs/main/linux-64::chardet-3.0.4-py37_1003\n",
            "  conda              pkgs/main/linux-64::conda-4.8.2-py37_0\n",
            "  conda-package-han~ pkgs/main/linux-64::conda-package-handling-1.6.0-py37h7b6447c_0\n",
            "  cryptography       pkgs/main/linux-64::cryptography-2.8-py37h1ba5d50_0\n",
            "  idna               pkgs/main/linux-64::idna-2.8-py37_0\n",
            "  ld_impl_linux-64   pkgs/main/linux-64::ld_impl_linux-64-2.33.1-h53a641e_7\n",
            "  libedit            pkgs/main/linux-64::libedit-3.1.20181209-hc058e9b_0\n",
            "  libffi             pkgs/main/linux-64::libffi-3.2.1-hd88cf55_4\n",
            "  libgcc-ng          pkgs/main/linux-64::libgcc-ng-9.1.0-hdf63c60_0\n",
            "  libstdcxx-ng       pkgs/main/linux-64::libstdcxx-ng-9.1.0-hdf63c60_0\n",
            "  ncurses            pkgs/main/linux-64::ncurses-6.2-he6710b0_0\n",
            "  openssl            pkgs/main/linux-64::openssl-1.1.1d-h7b6447c_4\n",
            "  pip                pkgs/main/linux-64::pip-20.0.2-py37_1\n",
            "  pycosat            pkgs/main/linux-64::pycosat-0.6.3-py37h7b6447c_0\n",
            "  pycparser          pkgs/main/linux-64::pycparser-2.19-py37_0\n",
            "  pyopenssl          pkgs/main/linux-64::pyopenssl-19.1.0-py37_0\n",
            "  pysocks            pkgs/main/linux-64::pysocks-1.7.1-py37_0\n",
            "  python             pkgs/main/linux-64::python-3.7.6-h0371630_2\n",
            "  readline           pkgs/main/linux-64::readline-7.0-h7b6447c_5\n",
            "  requests           pkgs/main/linux-64::requests-2.22.0-py37_1\n",
            "  ruamel_yaml        pkgs/main/linux-64::ruamel_yaml-0.15.87-py37h7b6447c_0\n",
            "  setuptools         pkgs/main/linux-64::setuptools-45.2.0-py37_0\n",
            "  six                pkgs/main/linux-64::six-1.14.0-py37_0\n",
            "  sqlite             pkgs/main/linux-64::sqlite-3.31.1-h7b6447c_0\n",
            "  tk                 pkgs/main/linux-64::tk-8.6.8-hbc83047_0\n",
            "  tqdm               pkgs/main/noarch::tqdm-4.42.1-py_0\n",
            "  urllib3            pkgs/main/linux-64::urllib3-1.25.8-py37_0\n",
            "  wheel              pkgs/main/linux-64::wheel-0.34.2-py37_0\n",
            "  xz                 pkgs/main/linux-64::xz-5.2.4-h14c3975_4\n",
            "  yaml               pkgs/main/linux-64::yaml-0.1.7-had09818_2\n",
            "  zlib               pkgs/main/linux-64::zlib-1.2.11-h7b6447c_3\n",
            "\n",
            "\n",
            "Preparing transaction: / \b\b- \b\b\\ \b\b| \b\bdone\n",
            "Executing transaction: - \b\b\\ \b\b| \b\b/ \b\b- \b\b\\ \b\b| \b\b/ \b\b- \b\b\\ \b\b| \b\b/ \b\b- \b\b\\ \b\b| \b\b/ \b\b- \b\bdone\n",
            "installation finished.\n",
            "WARNING:\n",
            "    You currently have a PYTHONPATH environment variable set. This may cause\n",
            "    unexpected behavior when running the Python interpreter in Miniconda3.\n",
            "    For best results, please verify that your PYTHONPATH only points to\n",
            "    directories of packages that are compatible with the Python interpreter\n",
            "    in Miniconda3: /usr/local\n"
          ]
        }
      ],
      "source": [
        "! wget https://repo.anaconda.com/miniconda/Miniconda3-py37_4.8.2-Linux-x86_64.sh\n",
        "! chmod +x Miniconda3-py37_4.8.2-Linux-x86_64.sh\n",
        "! bash ./Miniconda3-py37_4.8.2-Linux-x86_64.sh -b -f -p /usr/local\n",
        "import sys\n",
        "sys.path.append('/usr/local/lib/python3.7/site-packages/')"
      ]
    },
    {
      "cell_type": "markdown",
      "source": [
        "##Kingfisher: fast and flexible program for procurement of sequence files - installation "
      ],
      "metadata": {
        "id": "z1lysGn4hO-i"
      }
    },
    {
      "cell_type": "markdown",
      "source": [
        "The Kingfisher program allows for sequence files to be downloaded from the European Nucleotide Archive (documentation: https://github.com/wwood/kingfisher-download)."
      ],
      "metadata": {
        "id": "X4iuuuqPkKcT"
      }
    },
    {
      "cell_type": "code",
      "execution_count": null,
      "metadata": {
        "colab": {
          "base_uri": "https://localhost:8080/"
        },
        "id": "_Kn0KYlyOi2r",
        "outputId": "2c8bc046-14be-40c0-f2af-7b9c394c0d40"
      },
      "outputs": [
        {
          "output_type": "stream",
          "name": "stdout",
          "text": [
            "fatal: destination path 'kingfisher-download' already exists and is not an empty directory.\n"
          ]
        }
      ],
      "source": [
        "! git clone https://github.com/MakeTheBrainHappy/kingfisher-download"
      ]
    },
    {
      "cell_type": "code",
      "source": [
        "! conda env update -n base --file kingfisher-download/kingfisher.yml"
      ],
      "metadata": {
        "colab": {
          "base_uri": "https://localhost:8080/"
        },
        "id": "NNtGMks8OkmZ",
        "outputId": "1793afb8-fd82-40a1-d0ec-fe8c50cc3fe3"
      },
      "execution_count": null,
      "outputs": [
        {
          "output_type": "stream",
          "name": "stdout",
          "text": [
            "Collecting package metadata (repodata.json): - \b\b\\ \b\b| \b\b/ \b\b- \b\b\\ \b\b| \b\b/ \b\b- \b\b\\ \b\b| \b\b/ \b\b- \b\b\\ \b\b| \b\b/ \b\b- \b\b\\ \b\b| \b\b/ \b\b- \b\b\\ \b\b| \b\b/ \b\b- \b\b\\ \b\b| \b\b/ \b\b- \b\b\\ \b\b| \b\b/ \b\b- \b\b\\ \b\b| \b\b/ \b\b- \b\b\\ \b\b| \b\b/ \b\b- \b\b\\ \b\b| \b\b/ \b\b- \b\b\\ \b\b| \b\b/ \b\b- \b\b\\ \b\b| \b\b/ \b\b- \b\b\\ \b\b| \b\b/ \b\b- \b\b\\ \b\b| \b\b/ \b\b- \b\b\\ \b\b| \b\b/ \b\b- \b\b\\ \b\b| \b\b/ \b\b- \b\b\\ \b\b| \b\b/ \b\b- \b\b\\ \b\b| \b\b/ \b\b- \b\b\\ \b\b| \b\b/ \b\b- \b\b\\ \b\b| \b\b/ \b\b- \b\b\\ \b\b| \b\b/ \b\b- \b\b\\ \b\b| \b\b/ \b\b- \b\b\\ \b\b| \b\b/ \b\b- \b\b\\ \b\b| \b\b/ \b\b- \b\b\\ \b\b| \b\b/ \b\b- \b\b\\ \b\b| \b\b/ \b\b- \b\b\\ \b\b| \b\b/ \b\b- \b\b\\ \b\b| \b\b/ \b\b- \b\b\\ \b\b| \b\b/ \b\b- \b\b\\ \b\b| \b\b/ \b\b- \b\b\\ \b\b| \b\b/ \b\b- \b\b\\ \b\b| \b\b/ \b\b- \b\b\\ \b\b| \b\b/ \b\b- \b\b\\ \b\b| \b\b/ \b\b- \b\b\\ \b\b| \b\b/ \b\b- \b\b\\ \b\b| \b\b/ \b\b- \b\b\\ \b\b| \b\b/ \b\b- \b\b\\ \b\b| \b\b/ \b\b- \b\b\\ \b\b| \b\b/ \b\b- \b\b\\ \b\b| \b\b/ \b\b- \b\b\\ \b\b| \b\b/ \b\b- \b\b\\ \b\b| \b\b/ \b\b- \b\b\\ \b\b| \b\b/ \b\b- \b\b\\ \b\b| \b\b/ \b\b- \b\b\\ \b\b| \b\b/ \b\b- \b\b\\ \b\b| \b\b/ \b\b- \b\b\\ \b\b| \b\b/ \b\b- \b\b\\ \b\b| \b\b/ \b\b- \b\b\\ \b\b| \b\b/ \b\b- \b\b\\ \b\b| \b\b/ \b\b- \b\b\\ \b\b| \b\b/ \b\b- \b\b\\ \b\b| \b\b/ \b\b- \b\b\\ \b\b| \b\b/ \b\b- \b\b\\ \b\b| \b\b/ \b\b- \b\b\\ \b\b| \b\b/ \b\b- \b\b\\ \b\b| \b\b/ \b\b- \b\b\\ \b\b| \b\b/ \b\b- \b\b\\ \b\b| \b\b/ \b\b- \b\b\\ \b\b| \b\b/ \b\b- \b\b\\ \b\b| \b\b/ \b\b- \b\b\\ \b\b| \b\b/ \b\b- \b\b\\ \b\b| \b\b/ \b\b- \b\b\\ \b\b| \b\b/ \b\b- \b\b\\ \b\b| \b\b/ \b\b- \b\b\\ \b\b| \b\b/ \b\b- \b\b\\ \b\b| \b\b/ \b\b- \b\b\\ \b\b| \b\b/ \b\b- \b\b\\ \b\b| \b\b/ \b\b- \b\b\\ \b\b| \b\b/ \b\b- \b\b\\ \b\b| \b\b/ \b\b- \b\b\\ \b\b| \b\b/ \b\b- \b\b\\ \b\b| \b\b/ \b\b- \b\b\\ \b\b| \b\b/ \b\b- \b\b\\ \b\b| \b\b/ \b\b- \b\b\\ \b\b| \b\b/ \b\b- \b\b\\ \b\b| \b\b/ \b\b- \b\b\\ \b\b| \b\b/ \b\b- \b\b\\ \b\b| \b\b/ \b\b- \b\b\\ \b\b| \b\b/ \b\b- \b\b\\ \b\b| \b\b/ \b\b- \b\b\\ \b\b| \b\b/ \b\b- \b\b\\ \b\b| \b\b/ \b\b- \b\b\\ \b\b| \b\b/ \b\b- \b\b\\ \b\b| \b\b/ \b\b- \b\b\\ \b\b| \b\b/ \b\b- \b\b\\ \b\b| \b\b/ \b\b- \b\b\\ \b\b| \b\b/ \b\b- \b\b\\ \b\b| \b\b/ \b\b- \b\b\\ \b\b| \b\b/ \b\b- \b\b\\ \b\b| \b\b/ \b\b- \b\b\\ \b\b| \b\b/ \b\b- \b\b\\ \b\b| \b\b/ \b\b- \b\b\\ \b\b| \b\b/ \b\b- \b\b\\ \b\b| \b\b/ \b\b- \b\b\\ \b\b| \b\b/ \b\b- \b\b\\ \b\b| \b\b/ \b\b- \b\b\\ \b\b| \b\b/ \b\b- \b\b\\ \b\b| \b\b/ \b\b- \b\b\\ \b\b| \b\b/ \b\b- \b\b\\ \b\b| \b\b/ \b\b- \b\b\\ \b\b| \b\b/ \b\b- \b\b\\ \b\b| \b\b/ \b\b- \b\b\\ \b\b| \b\b/ \b\b- \b\b\\ \b\b| \b\b/ \b\b- \b\b\\ \b\b| \b\b/ \b\b- \b\b\\ \b\b| \b\b/ \b\b- \b\b\\ \b\b| \b\b/ \b\b- \b\b\\ \b\b| \b\b/ \b\b- \b\b\\ \b\b| \b\b/ \b\b- \b\b\\ \b\b| \b\b/ \b\b- \b\bdone\n",
            "Solving environment: | \b\b/ \b\b- \b\b\\ \b\b| \b\b/ \b\b- \b\b\\ \b\b| \b\b/ \b\b- \b\b\\ \b\b| \b\b/ \b\b- \b\b\\ \b\b| \b\b/ \b\b- \b\b\\ \b\b| \b\b/ \b\b- \b\b\\ \b\b| \b\b/ \b\b- \b\b\\ \b\b| \b\b/ \b\b- \b\b\\ \b\b| \b\b/ \b\b- \b\b\\ \b\b| \b\b/ \b\b- \b\b\\ \b\b| \b\b/ \b\b- \b\b\\ \b\b| \b\b/ \b\b- \b\b\\ \b\b| \b\b/ \b\b- \b\b\\ \b\b| \b\b/ \b\b- \b\b\\ \b\b| \b\b/ \b\b- \b\b\\ \b\b| \b\b/ \b\b- \b\b\\ \b\b| \b\b/ \b\b- \b\b\\ \b\b| \b\b/ \b\b- \b\b\\ \b\b| \b\b/ \b\b- \b\b\\ \b\b| \b\b/ \b\b- \b\b\\ \b\b| \b\b/ \b\b- \b\b\\ \b\b| \b\b/ \b\b- \b\b\\ \b\b| \b\b/ \b\b- \b\b\\ \b\b| \b\b/ \b\b- \b\b\\ \b\b| \b\b/ \b\b- \b\b\\ \b\b| \b\b/ \b\b- \b\b\\ \b\b| \b\b/ \b\b- \b\b\\ \b\b| \b\b/ \b\b- \b\b\\ \b\b| \b\b/ \b\b- \b\b\\ \b\b| \b\b/ \b\b- \b\b\\ \b\b| \b\b/ \b\b- \b\b\\ \b\b| \b\b/ \b\b- \b\b\\ \b\b| \b\b/ \b\b- \b\b\\ \b\b| \b\b/ \b\b- \b\b\\ \b\b| \b\b/ \b\b- \b\b\\ \b\b| \b\b/ \b\b- \b\b\\ \b\b| \b\b/ \b\b- \b\b\\ \b\b| \b\b/ \b\b- \b\b\\ \b\b| \b\b/ \b\b- \b\b\\ \b\b| \b\b/ \b\b- \b\b\\ \b\b| \b\b/ \b\b- \b\b\\ \b\b| \b\b/ \b\b- \b\b\\ \b\b| \b\b/ \b\b- \b\b\\ \b\b| \b\b/ \b\b- \b\b\\ \b\b| \b\b/ \b\b- \b\b\\ \b\b| \b\b/ \b\b- \b\b\\ \b\b| \b\b/ \b\b- \b\b\\ \b\b| \b\b/ \b\b- \b\b\\ \b\b| \b\b/ \b\b- \b\b\\ \b\b| \b\b/ \b\b- \b\b\\ \b\b| \b\b/ \b\b- \b\b\\ \b\b| \b\b/ \b\b- \b\b\\ \b\b| \b\b/ \b\b- \b\b\\ \b\b| \b\b/ \b\b- \b\b\\ \b\b| \b\b/ \b\b- \b\b\\ \b\b| \b\b/ \b\b- \b\b\\ \b\b| \b\b/ \b\b- \b\b\\ \b\b| \b\b/ \b\b- \b\b\\ \b\b| \b\b/ \b\b- \b\b\\ \b\b| \b\b/ \b\b- \b\b\\ \b\b| \b\b/ \b\b- \b\b\\ \b\b| \b\b/ \b\b- \b\b\\ \b\b| \b\b/ \b\b- \b\b\\ \b\b| \b\b/ \b\b- \b\b\\ \b\b| \b\b/ \b\b- \b\b\\ \b\b| \b\b/ \b\b- \b\b\\ \b\b| \b\b/ \b\b- \b\b\\ \b\b| \b\b/ \b\b- \b\b\\ \b\b| \b\b/ \b\b- \b\b\\ \b\b| \b\b/ \b\b- \b\b\\ \b\b| \b\b/ \b\b- \b\b\\ \b\b| \b\b/ \b\b- \b\b\\ \b\b| \b\b/ \b\b- \b\b\\ \b\b| \b\b/ \b\b- \b\b\\ \b\b| \b\b/ \b\b- \b\b\\ \b\b| \b\b/ \b\b- \b\b\\ \b\b| \b\b/ \b\b- \b\b\\ \b\b| \b\b/ \b\b- \b\b\\ \b\b| \b\b/ \b\b- \b\b\\ \b\b| \b\b/ \b\b- \b\b\\ \b\b| \b\b/ \b\b- \b\b\\ \b\b| \b\b/ \b\b- \b\b\\ \b\b| \b\b/ \b\b- \b\b\\ \b\b| \b\b/ \b\b- \b\b\\ \b\b| \b\b/ \b\b- \b\b\\ \b\b| \b\b/ \b\b- \b\b\\ \b\b| \b\b/ \b\b- \b\b\\ \b\b| \b\b/ \b\b- \b\b\\ \b\b| \b\b/ \b\b- \b\b\\ \b\b| \b\b/ \b\b- \b\b\\ \b\b| \b\b/ \b\b- \b\b\\ \b\b| \b\b/ \b\b- \b\b\\ \b\b| \b\b/ \b\b- \b\b\\ \b\b| \b\b/ \b\b- \b\b\\ \b\b| \b\b/ \b\b- \b\b\\ \b\b| \b\b/ \b\b- \b\b\\ \b\b| \b\b/ \b\b- \b\b\\ \b\b| \b\b/ \b\b- \b\b\\ \b\b| \b\b/ \b\b- \b\b\\ \b\b| \b\b/ \b\b- \b\b\\ \b\b| \b\b/ \b\b- \b\b\\ \b\b| \b\b/ \b\b- \b\b\\ \b\b| \b\b/ \b\b- \b\b\\ \b\b| \b\b/ \b\b- \b\b\\ \b\b| \b\b/ \b\b- \b\b\\ \b\b| \b\b/ \b\b- \b\b\\ \b\b| \b\b/ \b\b- \b\b\\ \b\b| \b\b/ \b\b- \b\b\\ \b\b| \b\b/ \b\b- \b\b\\ \b\b| \b\b/ \b\b- \b\b\\ \b\b| \b\b/ \b\b- \b\b\\ \b\b| \b\b/ \b\b- \b\b\\ \b\b| \b\b/ \b\b- \b\b\\ \b\b| \b\b/ \b\b- \b\b\\ \b\b| \b\b/ \b\b- \b\b\\ \b\b| \b\b/ \b\b- \b\b\\ \b\b| \b\b/ \b\b- \b\b\\ \b\b| \b\b/ \b\b- \b\b\\ \b\b| \b\b/ \b\b- \b\b\\ \b\b| \b\b/ \b\b- \b\b\\ \b\b| \b\b/ \b\b- \b\b\\ \b\b| \b\b/ \b\b- \b\b\\ \b\b| \b\b/ \b\b- \b\b\\ \b\b| \b\b/ \b\b- \b\b\\ \b\b| \b\b/ \b\b- \b\b\\ \b\b| \b\b/ \b\b- \b\b\\ \b\b| \b\b/ \b\b- \b\b\\ \b\b| \b\b/ \b\b- \b\b\\ \b\b| \b\b/ \b\b- \b\b\\ \b\b| \b\b/ \b\b- \b\b\\ \b\b| \b\b/ \b\b- \b\b\\ \b\b| \b\b/ \b\b- \b\b\\ \b\b| \b\b/ \b\b- \b\b\\ \b\b| \b\b/ \b\b- \b\b\\ \b\b| \b\b/ \b\b- \b\b\\ \b\b| \b\b/ \b\b- \b\b\\ \b\b| \b\b/ \b\b- \b\b\\ \b\b| \b\b/ \b\b- \b\b\\ \b\b| \b\b/ \b\b- \b\b\\ \b\b| \b\b/ \b\b- \b\b\\ \b\b| \b\b/ \b\b- \b\b\\ \b\b| \b\b/ \b\b- \b\b\\ \b\b| \b\b/ \b\b- \b\b\\ \b\b| \b\b/ \b\b- \b\b\\ \b\b| \b\b/ \b\b- \b\b\\ \b\b| \b\b/ \b\b- \b\b\\ \b\b| \b\b/ \b\b- \b\b\\ \b\b| \b\b/ \b\b- \b\b\\ \b\b| \b\b/ \b\b- \b\b\\ \b\b| \b\b/ \b\b- \b\b\\ \b\b| \b\b/ \b\b- \b\b\\ \b\b| \b\b/ \b\b- \b\b\\ \b\b| \b\b/ \b\b- \b\b\\ \b\b| \b\b/ \b\b- \b\b\\ \b\b| \b\b/ \b\b- \b\b\\ \b\b| \b\b/ \b\b- \b\b\\ \b\b| \b\b/ \b\b- \b\b\\ \b\b| \b\b/ \b\b- \b\b\\ \b\b| \b\b/ \b\b- \b\b\\ \b\b| \b\b/ \b\b- \b\b\\ \b\b| \b\b/ \b\b- \b\b\\ \b\b| \b\b/ \b\b- \b\b\\ \b\b| \b\b/ \b\b- \b\b\\ \b\b| \b\b/ \b\b- \b\b\\ \b\b| \b\b/ \b\b- \b\b\\ \b\b| \b\b/ \b\b- \b\b\\ \b\b| \b\b/ \b\b- \b\b\\ \b\b| \b\b/ \b\b- \b\b\\ \b\b| \b\b/ \b\b- \b\b\\ \b\b| \b\b/ \b\b- \b\b\\ \b\b| \b\b/ \b\b- \b\b\\ \b\b| \b\b/ \b\b- \b\b\\ \b\b| \b\b/ \b\b- \b\b\\ \b\b| \b\b/ \b\b- \b\b\\ \b\b| \b\b/ \b\b- \b\b\\ \b\b| \b\b/ \b\b- \b\b\\ \b\b| \b\b/ \b\b- \b\b\\ \b\b| \b\b/ \b\b- \b\bdone\n",
            "\n",
            "\n",
            "==> WARNING: A newer version of conda exists. <==\n",
            "  current version: 4.8.2\n",
            "  latest version: 4.11.0\n",
            "\n",
            "Please update conda by running\n",
            "\n",
            "    $ conda update -n base -c defaults conda\n",
            "\n",
            "\n",
            "\n",
            "Downloading and Extracting Packages\n",
            "_openmp_mutex-4.5    | 22 KB     | : 100% 1.0/1 [00:00<00:00, 12.60it/s]\n",
            "idna-3.3             | 55 KB     | : 100% 1.0/1 [00:00<00:00, 24.77it/s]\n",
            "pyyaml-5.4.1         | 196 KB    | : 100% 1.0/1 [00:00<00:00, 10.86it/s]\n",
            "cryptography-36.0.1  | 1.7 MB    | : 100% 1.0/1 [00:00<00:00,  2.11it/s]\n",
            "_libgcc_mutex-0.1    | 3 KB      | : 100% 1.0/1 [00:00<00:00, 24.23it/s]\n",
            "libblas-3.9.0        | 12 KB     | : 100% 1.0/1 [00:00<00:00, 17.84it/s]\n",
            "setuptools-60.7.1    | 1.1 MB    | : 100% 1.0/1 [00:00<00:00,  2.72it/s]\n",
            "liblapack-3.9.0      | 12 KB     | : 100% 1.0/1 [00:00<00:00, 30.16it/s]\n",
            "aria2-1.36.0         | 1.5 MB    | : 100% 1.0/1 [00:00<00:00,  2.14it/s]               \n",
            "icu-68.2             | 13.1 MB   | : 100% 1.0/1 [00:02<00:00,  1.99s/it]               \n",
            "libiconv-1.16        | 1.4 MB    | : 100% 1.0/1 [00:00<00:00,  3.78it/s]\n",
            "curl-7.76.1          | 149 KB    | : 100% 1.0/1 [00:00<00:00, 17.90it/s]\n",
            "python-dateutil-2.8. | 240 KB    | : 100% 1.0/1 [00:00<00:00, 15.07it/s]\n",
            "brotlipy-0.7.0       | 342 KB    | : 100% 1.0/1 [00:00<00:00, 11.21it/s]\n",
            "libxml2-2.9.12       | 772 KB    | : 100% 1.0/1 [00:00<00:00,  5.75it/s]\n",
            "pip-20.2             | 1.1 MB    | : 100% 1.0/1 [00:00<00:00,  2.32it/s]\n",
            "libgcc-ng-11.2.0     | 904 KB    | : 100% 1.0/1 [00:00<00:00,  5.24it/s]\n",
            "conda-package-handli | 1005 KB   | : 100% 1.0/1 [00:00<00:00,  5.13it/s]\n",
            "tk-8.6.11            | 3.3 MB    | : 100% 1.0/1 [00:00<00:00,  1.33it/s]\n",
            "six-1.16.0           | 14 KB     | : 100% 1.0/1 [00:00<00:00, 24.80it/s]\n",
            "rsa-4.7.2            | 28 KB     | : 100% 1.0/1 [00:00<00:00, 28.26it/s]\n",
            "certifi-2021.10.8    | 145 KB    | : 100% 1.0/1 [00:00<00:00, 15.84it/s]\n",
            "botocore-1.23.49     | 5.2 MB    | : 100% 1.0/1 [00:02<00:00,  1.87s/it]               \n",
            "libgfortran5-11.2.0  | 1.7 MB    | : 100% 1.0/1 [00:00<00:00,  2.65it/s]\n",
            "readline-8.1         | 295 KB    | : 100% 1.0/1 [00:00<00:00,  9.84it/s]\n",
            "libgomp-11.2.0       | 426 KB    | : 100% 1.0/1 [00:00<00:00,  9.98it/s]\n",
            "s3transfer-0.5.1     | 55 KB     | : 100% 1.0/1 [00:00<00:00, 23.96it/s]\n",
            "python-3.9.0         | 24.0 MB   | : 100% 1.0/1 [00:04<00:00,  4.77s/it]             \n",
            "pigz-2.6             | 87 KB     | : 100% 1.0/1 [00:00<00:00, 17.96it/s]\n",
            "charset-normalizer-2 | 35 KB     | : 100% 1.0/1 [00:00<00:00, 32.66it/s]\n",
            "pyasn1-0.4.8         | 53 KB     | : 100% 1.0/1 [00:00<00:00, 13.50it/s]\n",
            "argparse-manpage-bir | 16 KB     | : 100% 1.0/1 [00:00<00:00, 17.71it/s]\n",
            "nose-1.3.7           | 118 KB    | : 100% 1.0/1 [00:00<00:00, 14.17it/s]\n",
            "xz-5.2.5             | 343 KB    | : 100% 1.0/1 [00:00<00:00,  9.38it/s]\n",
            "sracat-0.2           | 1.5 MB    | : 100% 1.0/1 [00:00<00:00, 10.93s/it]                 \n",
            "urllib3-1.26.8       | 100 KB    | : 100% 1.0/1 [00:00<00:00, 18.23it/s]\n",
            "krb5-1.17.1          | 1.5 MB    | : 100% 1.0/1 [00:00<00:00,  2.43it/s]\n",
            "ca-certificates-2021 | 139 KB    | : 100% 1.0/1 [00:00<00:00, 20.83it/s]\n",
            "libcblas-3.9.0       | 12 KB     | : 100% 1.0/1 [00:00<00:00, 30.41it/s]\n",
            "ruamel_yaml-0.15.80  | 268 KB    | : 100% 1.0/1 [00:00<00:00,  9.45it/s]\n",
            "colorama-0.4.3       | 17 KB     | : 100% 1.0/1 [00:00<00:00, 25.38it/s]\n",
            "sqlite-3.36.0        | 1.4 MB    | : 100% 1.0/1 [00:00<00:00,  3.20it/s]\n",
            "jmespath-0.10.0      | 21 KB     | : 100% 1.0/1 [00:00<00:00, 28.82it/s]\n",
            "libssh2-1.10.0       | 233 KB    | : 100% 1.0/1 [00:00<00:00, 10.26it/s]\n",
            "pysocks-1.7.1        | 28 KB     | : 100% 1.0/1 [00:00<00:00, 24.02it/s]\n",
            "libcurl-7.76.1       | 328 KB    | : 100% 1.0/1 [00:00<00:00, 11.56it/s]\n",
            "pandas-1.4.0         | 44.1 MB   | : 100% 1.0/1 [00:10<00:00, 10.53s/it]               \n",
            "conda-4.11.0         | 16.8 MB   | : 100% 1.0/1 [00:04<00:00,  4.15s/it]               \n",
            "pyopenssl-22.0.0     | 49 KB     | : 100% 1.0/1 [00:00<00:00, 18.42it/s]\n",
            "libev-4.33           | 104 KB    | : 100% 1.0/1 [00:00<00:00, 16.24it/s]\n",
            "yaml-0.2.5           | 87 KB     | : 100% 1.0/1 [00:00<00:00, 15.25it/s]\n",
            "openssl-1.1.1l       | 2.1 MB    | : 100% 1.0/1 [00:00<00:00,  2.47it/s]\n",
            "python_abi-3.9       | 4 KB      | : 100% 1.0/1 [00:00<00:00, 27.91it/s]\n",
            "docutils-0.15.2      | 742 KB    | : 100% 1.0/1 [00:00<00:00,  4.41it/s]\n",
            "pycparser-2.21       | 100 KB    | : 100% 1.0/1 [00:00<00:00, 14.36it/s]\n",
            "extern-0.4.1         | 8 KB      | : 100% 1.0/1 [00:00<00:00, 19.29it/s]\n",
            "c-ares-1.18.1        | 113 KB    | : 100% 1.0/1 [00:00<00:00, 20.15it/s]\n",
            "libopenblas-0.3.18   | 9.6 MB    | : 100% 1.0/1 [00:01<00:00,  1.95s/it]               \n",
            "tzdata-2021e         | 121 KB    | : 100% 1.0/1 [00:00<00:00,  9.35it/s]\n",
            "sra-tools-2.8.0      | 99.7 MB   | : 100% 1.0/1 [00:19<00:00, 19.53s/it]               \n",
            "cffi-1.14.4          | 227 KB    | : 100% 1.0/1 [00:00<00:00, 12.95it/s]\n",
            "pycosat-0.6.3        | 107 KB    | : 100% 1.0/1 [00:00<00:00, 15.21it/s]\n",
            "numpy-1.22.2         | 6.9 MB    | : 100% 1.0/1 [00:01<00:00,  1.67s/it]\n",
            "awscli-1.22.49       | 1.9 MB    | : 100% 1.0/1 [00:01<00:00,  1.05s/it]\n",
            "libgfortran-ng-11.2. | 19 KB     | : 100% 1.0/1 [00:00<00:00, 31.63it/s]\n",
            "libstdcxx-ng-11.2.0  | 4.2 MB    | : 100% 1.0/1 [00:00<00:00,  1.37it/s]\n",
            "pytz-2021.3          | 242 KB    | : 100% 1.0/1 [00:00<00:00,  5.71it/s]\n",
            "requests-2.27.1      | 53 KB     | : 100% 1.0/1 [00:00<00:00, 20.38it/s]\n",
            "bird_tool_utils_pyth | 27 KB     | : 100% 1.0/1 [00:00<00:00,  6.93it/s]               \n",
            "libnghttp2-1.43.0    | 790 KB    | : 100% 1.0/1 [00:00<00:00,  5.58it/s]\n",
            "wheel-0.37.1         | 31 KB     | : 100% 1.0/1 [00:00<00:00, 20.20it/s]\n",
            "Preparing transaction: | \b\b/ \b\b- \b\b\\ \b\b| \b\b/ \b\b- \b\b\\ \b\b| \b\b/ \b\b- \b\b\\ \b\bdone\n",
            "Verifying transaction: / \b\b- \b\b\\ \b\b| \b\b/ \b\b- \b\b\\ \b\b| \b\b/ \b\b- \b\b\\ \b\b| \b\b/ \b\b- \b\b\\ \b\b| \b\b/ \b\b- \b\b\\ \b\b| \b\b/ \b\b- \b\b\\ \b\b| \b\b/ \b\b- \b\b\\ \b\b| \b\b/ \b\b- \b\b\\ \b\b| \b\b/ \b\b- \b\b\\ \b\b| \b\b/ \b\b- \b\b\\ \b\b| \b\b/ \b\b- \b\b\\ \b\b| \b\b/ \b\b- \b\b\\ \b\b| \b\b/ \b\b- \b\b\\ \b\b| \b\bdone\n",
            "Executing transaction: - \b\b\\ \b\b| \b\b/ \b\b- \b\b\\ \b\b| \b\b/ \b\b- \b\b\\ \b\b| \b\b/ \b\b- \b\b\\ \b\b| \b\b/ \b\b- \b\b\\ \b\b| \b\b/ \b\b- \b\b\\ \b\b| \b\b/ \b\b- \b\b\\ \b\b| \b\b/ \b\b- \b\b\\ \b\b| \b\b/ \b\b- \b\b\\ \b\b| \b\b/ \b\b- \b\b\\ \b\b| \b\b/ \b\b- \b\b\\ \b\b| \b\b/ \b\b- \b\b\\ \b\b| \b\b/ \b\b- \b\b\\ \b\bdone\n",
            "#\n",
            "# To activate this environment, use\n",
            "#\n",
            "#     $ conda activate base\n",
            "#\n",
            "# To deactivate an active environment, use\n",
            "#\n",
            "#     $ conda deactivate\n",
            "\n"
          ]
        }
      ]
    },
    {
      "cell_type": "code",
      "execution_count": null,
      "metadata": {
        "colab": {
          "base_uri": "https://localhost:8080/"
        },
        "id": "fDjCnO4C3NQu",
        "outputId": "3e21014e-b6cb-413a-d885-ae834a3a8bd5"
      },
      "outputs": [
        {
          "output_type": "stream",
          "name": "stdout",
          "text": [
            "Collecting package metadata (current_repodata.json): - \b\b\\ \b\b| \b\b/ \b\b- \b\b\\ \b\b| \b\b/ \b\b- \b\b\\ \b\b| \b\b/ \b\b- \b\b\\ \b\b| \b\b/ \b\b- \b\bdone\n",
            "Solving environment: | \b\b/ \b\b- \b\b\\ \b\b| \b\b/ \b\b- \b\b\\ \b\b| \b\b/ \b\b- \b\b\\ \b\bdone\n",
            "\n",
            "## Package Plan ##\n",
            "\n",
            "  environment location: /usr/local\n",
            "\n",
            "  added / updated specs:\n",
            "    - aspera-connect\n",
            "\n",
            "\n",
            "The following packages will be downloaded:\n",
            "\n",
            "    package                    |            build\n",
            "    ---------------------------|-----------------\n",
            "    aspera-connect-3.9.6       |                0        34.3 MB  rpetit3\n",
            "    ca-certificates-2021.10.26 |       h06a4308_2         115 KB\n",
            "    certifi-2021.10.8          |   py39h06a4308_2         151 KB\n",
            "    conda-4.11.0               |   py39h06a4308_0        14.4 MB\n",
            "    openssl-1.1.1m             |       h7f8727e_0         2.5 MB\n",
            "    ------------------------------------------------------------\n",
            "                                           Total:        51.5 MB\n",
            "\n",
            "The following NEW packages will be INSTALLED:\n",
            "\n",
            "  aspera-connect     rpetit3/linux-64::aspera-connect-3.9.6-0\n",
            "\n",
            "The following packages will be UPDATED:\n",
            "\n",
            "  ca-certificates    conda-forge::ca-certificates-2021.10.~ --> pkgs/main::ca-certificates-2021.10.26-h06a4308_2\n",
            "  certifi            conda-forge::certifi-2021.10.8-py39hf~ --> pkgs/main::certifi-2021.10.8-py39h06a4308_2\n",
            "  openssl            conda-forge::openssl-1.1.1l-h7f98852_0 --> pkgs/main::openssl-1.1.1m-h7f8727e_0\n",
            "\n",
            "The following packages will be SUPERSEDED by a higher-priority channel:\n",
            "\n",
            "  conda              conda-forge::conda-4.11.0-py39hf3d152~ --> pkgs/main::conda-4.11.0-py39h06a4308_0\n",
            "\n",
            "\n",
            "\n",
            "Downloading and Extracting Packages\n",
            "openssl-1.1.1m       | 2.5 MB    | : 100% 1.0/1 [00:00<00:00,  6.29it/s]\n",
            "aspera-connect-3.9.6 | 34.3 MB   | : 100% 1.0/1 [00:06<00:00,  6.51s/it]\n",
            "conda-4.11.0         | 14.4 MB   | : 100% 1.0/1 [00:00<00:00,  1.27it/s]               \n",
            "ca-certificates-2021 | 115 KB    | : 100% 1.0/1 [00:00<00:00, 16.02it/s]\n",
            "certifi-2021.10.8    | 151 KB    | : 100% 1.0/1 [00:00<00:00, 18.57it/s]\n",
            "Preparing transaction: / \b\bdone\n",
            "Verifying transaction: \\ \b\b| \b\b/ \b\bdone\n",
            "Executing transaction: \\ \b\bdone\n"
          ]
        }
      ],
      "source": [
        "! conda install -c rpetit3 aspera-connect -y"
      ]
    },
    {
      "cell_type": "code",
      "execution_count": null,
      "metadata": {
        "colab": {
          "base_uri": "https://localhost:8080/"
        },
        "id": "ksJvQOCtx8BJ",
        "outputId": "8dadaee8-2377-4a6c-dae6-77504d35602c"
      },
      "outputs": [
        {
          "output_type": "stream",
          "name": "stdout",
          "text": [
            "ibm-aspera-connect-3.9.8.176272-linux-g2.12-64.sh\n"
          ]
        }
      ],
      "source": [
        "! wget -qO- https://download.asperasoft.com/download/sw/connect/3.9.8/ibm-aspera-connect-3.9.8.176272-linux-g2.12-64.tar.gz | tar xvz"
      ]
    },
    {
      "cell_type": "markdown",
      "source": [
        "this command will pop up with an error message; please disregard"
      ],
      "metadata": {
        "id": "RHjWyX6Ei_jT"
      }
    },
    {
      "cell_type": "code",
      "execution_count": null,
      "metadata": {
        "colab": {
          "base_uri": "https://localhost:8080/"
        },
        "id": "anXSgAYa3xQU",
        "outputId": "6b53d631-d4c0-4331-8473-11d039432b64"
      },
      "outputs": [
        {
          "output_type": "stream",
          "name": "stdout",
          "text": [
            "\n",
            "Installing IBM Aspera Connect\n",
            "\n",
            "This script cannot be run as root, IBM Aspera Connect must be installed per user.\n"
          ]
        }
      ],
      "source": [
        "! ./ibm-aspera-connect-3.9.8.176272-linux-g2.12-64.sh"
      ]
    },
    {
      "cell_type": "markdown",
      "source": [
        "##Kingfisher: fast and flexible program for procurement of sequence files - usage \n"
      ],
      "metadata": {
        "id": "oBdBA_CDdE0z"
      }
    },
    {
      "cell_type": "markdown",
      "source": [
        "The Kingfisher program allows for sequence files to be downloaded from the European Nucleotide Archive (documentation: https://github.com/wwood/kingfisher-download)."
      ],
      "metadata": {
        "id": "IE4T9swGdQY-"
      }
    },
    {
      "cell_type": "code",
      "source": [
        "! cd $PIPELINE_FILE_PATH/fastq ; /content/kingfisher-download/bin/kingfisher get -r $ACC -m ena-ascp aws-http prefetch"
      ],
      "metadata": {
        "colab": {
          "base_uri": "https://localhost:8080/"
        },
        "id": "ReZdoTfnd5uQ",
        "outputId": "e5b1175c-9004-409f-ee85-59725068549e"
      },
      "execution_count": null,
      "outputs": [
        {
          "output_type": "stream",
          "name": "stdout",
          "text": [
            "02/06/2022 09:25:07 PM INFO: Kingfisher v0.0.1-dev\n",
            "02/06/2022 09:25:07 PM INFO: Attempting download method ena-ascp for run SRR12389274 ..\n",
            "02/06/2022 09:25:07 PM INFO: Using aspera ssh key file: $HOME/.aspera/connect/etc/asperaweb_id_dsa.openssh\n",
            "02/06/2022 09:25:07 PM INFO: Querying ENA for FTP paths for SRR12389274..\n",
            "02/06/2022 09:25:08 PM INFO: Downloading 1 FTP read set(s): ftp.sra.ebi.ac.uk/vol1/fastq/SRR123/074/SRR12389274/SRR12389274_1.fastq.gz\n",
            "02/06/2022 09:25:08 PM INFO: Running command: ascp -T -l 300m -P33001 -k 2 -i $HOME/.aspera/connect/etc/asperaweb_id_dsa.openssh era-fasp@fasp.sra.ebi.ac.uk:/vol1/fastq/SRR123/074/SRR12389274/SRR12389274_1.fastq.gz .\n",
            "02/06/2022 09:36:31 PM INFO: Method ena-ascp worked.\n",
            "02/06/2022 09:36:31 PM INFO: Output files: ./SRR12389274_1.fastq.gz\n",
            "02/06/2022 09:36:31 PM INFO: Kingfisher done.\n"
          ]
        }
      ]
    },
    {
      "cell_type": "code",
      "source": [
        "! cd $PIPELINE_FILE_PATH/fastq ; gunzip *.gz"
      ],
      "metadata": {
        "id": "wwpiZ9OU6WPn"
      },
      "execution_count": null,
      "outputs": []
    },
    {
      "cell_type": "code",
      "source": [
        "! cd $PIPELINE_FILE_PATH/fastq ; mv ${ACC}_1.fastq $ACC.fastq"
      ],
      "metadata": {
        "id": "4pmkDR2x6SzT"
      },
      "execution_count": null,
      "outputs": []
    },
    {
      "cell_type": "markdown",
      "metadata": {
        "id": "F0hFNwmcv5qr"
      },
      "source": [
        "##FastQC: A quality control tool for high throughput sequence data - installation"
      ]
    },
    {
      "cell_type": "markdown",
      "metadata": {
        "id": "68fqL9EGNOKE"
      },
      "source": [
        "FastQC is a program designed to spot potential problems in high througput sequencing datasets ([documentation](https://github.com/s-andrews/FastQC))."
      ]
    },
    {
      "cell_type": "code",
      "metadata": {
        "colab": {
          "base_uri": "https://localhost:8080/"
        },
        "id": "_bRfEf9e3Sp-",
        "outputId": "463b1968-6d85-4e4a-e290-33812fc624a3"
      },
      "source": [
        "! conda install -c bioconda fastqc -y"
      ],
      "execution_count": null,
      "outputs": [
        {
          "output_type": "stream",
          "name": "stdout",
          "text": [
            "Collecting package metadata (current_repodata.json): - \b\b\\ \b\b| \b\b/ \b\b- \b\b\\ \b\b| \b\b/ \b\b- \b\b\\ \b\b| \b\b/ \b\b- \b\b\\ \b\b| \b\b/ \b\b- \b\b\\ \b\b| \b\b/ \b\b- \b\b\\ \b\b| \b\b/ \b\b- \b\b\\ \b\b| \b\b/ \b\b- \b\b\\ \b\b| \b\b/ \b\bdone\n",
            "Solving environment: \\ \b\b| \b\b/ \b\b- \b\b\\ \b\b| \b\b/ \b\b- \b\b\\ \b\b| \b\b/ \b\b- \b\b\\ \b\b| \b\b/ \b\b- \b\b\\ \b\b| \b\bdone\n",
            "\n",
            "## Package Plan ##\n",
            "\n",
            "  environment location: /usr/local\n",
            "\n",
            "  added / updated specs:\n",
            "    - fastqc\n",
            "\n",
            "\n",
            "The following packages will be downloaded:\n",
            "\n",
            "    package                    |            build\n",
            "    ---------------------------|-----------------\n",
            "    fastqc-0.11.9              |       hdfd78af_1         9.7 MB  bioconda\n",
            "    font-ttf-dejavu-sans-mono-2.37|       hd3eb1b0_0         335 KB\n",
            "    fontconfig-2.13.1          |       h6c09931_0         250 KB\n",
            "    freetype-2.11.0            |       h70c0345_0         618 KB\n",
            "    libpng-1.6.37              |       hbc83047_0         278 KB\n",
            "    libuuid-1.0.3              |       h7f8727e_2          17 KB\n",
            "    openjdk-8.0.152            |       h7b6447c_3        57.4 MB\n",
            "    perl-5.26.2                |       h14c3975_0        10.5 MB\n",
            "    ------------------------------------------------------------\n",
            "                                           Total:        79.0 MB\n",
            "\n",
            "The following NEW packages will be INSTALLED:\n",
            "\n",
            "  fastqc             bioconda/noarch::fastqc-0.11.9-hdfd78af_1\n",
            "  font-ttf-dejavu-s~ pkgs/main/noarch::font-ttf-dejavu-sans-mono-2.37-hd3eb1b0_0\n",
            "  fontconfig         pkgs/main/linux-64::fontconfig-2.13.1-h6c09931_0\n",
            "  freetype           pkgs/main/linux-64::freetype-2.11.0-h70c0345_0\n",
            "  libpng             pkgs/main/linux-64::libpng-1.6.37-hbc83047_0\n",
            "  libuuid            pkgs/main/linux-64::libuuid-1.0.3-h7f8727e_2\n",
            "  openjdk            pkgs/main/linux-64::openjdk-8.0.152-h7b6447c_3\n",
            "  perl               pkgs/main/linux-64::perl-5.26.2-h14c3975_0\n",
            "\n",
            "\n",
            "\n",
            "Downloading and Extracting Packages\n",
            "fastqc-0.11.9        | 9.7 MB    | : 100% 1.0/1 [00:01<00:00,  1.67s/it]              \n",
            "perl-5.26.2          | 10.5 MB   | : 100% 1.0/1 [00:00<00:00,  1.15it/s]\n",
            "libpng-1.6.37        | 278 KB    | : 100% 1.0/1 [00:00<00:00, 12.31it/s]\n",
            "freetype-2.11.0      | 618 KB    | : 100% 1.0/1 [00:00<00:00, 10.82it/s]\n",
            "libuuid-1.0.3        | 17 KB     | : 100% 1.0/1 [00:00<00:00, 12.98it/s]\n",
            "fontconfig-2.13.1    | 250 KB    | : 100% 1.0/1 [00:00<00:00,  9.58it/s]\n",
            "openjdk-8.0.152      | 57.4 MB   | : 100% 1.0/1 [00:03<00:00,  3.63s/it]               \n",
            "font-ttf-dejavu-sans | 335 KB    | : 100% 1.0/1 [00:00<00:00, 10.38it/s]\n",
            "Preparing transaction: - \b\b\\ \b\bdone\n",
            "Verifying transaction: / \b\b- \b\b\\ \b\b| \b\b/ \b\bdone\n",
            "Executing transaction: \\ \b\b| \b\b/ \b\bdone\n"
          ]
        }
      ]
    },
    {
      "cell_type": "markdown",
      "source": [
        "##FastQC: A quality control tool for high throughput sequence data - usage"
      ],
      "metadata": {
        "id": "SQb5HTiwtfMn"
      }
    },
    {
      "cell_type": "markdown",
      "source": [
        "FastQC is a program designed to spot potential problems in high througput sequencing datasets ([documentation](https://github.com/s-andrews/FastQC))."
      ],
      "metadata": {
        "id": "ZoutKrvVtjAY"
      }
    },
    {
      "cell_type": "code",
      "metadata": {
        "colab": {
          "base_uri": "https://localhost:8080/"
        },
        "id": "bTYA5m273eVN",
        "outputId": "bb291b8c-0c70-41f3-d55c-7023d14b0ff5"
      },
      "source": [
        "! fastqc $PIPELINE_FILE_PATH/fastq/$ACC.fastq --outdir $PIPELINE_FILE_PATH/fastqc"
      ],
      "execution_count": null,
      "outputs": [
        {
          "output_type": "stream",
          "name": "stdout",
          "text": [
            "Started analysis of SRR12389274.fastq\n",
            "Approx 5% complete for SRR12389274.fastq\n",
            "Approx 10% complete for SRR12389274.fastq\n",
            "Approx 15% complete for SRR12389274.fastq\n",
            "Approx 20% complete for SRR12389274.fastq\n",
            "Approx 25% complete for SRR12389274.fastq\n",
            "Approx 30% complete for SRR12389274.fastq\n",
            "Approx 35% complete for SRR12389274.fastq\n",
            "Approx 40% complete for SRR12389274.fastq\n",
            "Approx 45% complete for SRR12389274.fastq\n",
            "Approx 50% complete for SRR12389274.fastq\n",
            "Approx 55% complete for SRR12389274.fastq\n",
            "Approx 60% complete for SRR12389274.fastq\n",
            "Approx 65% complete for SRR12389274.fastq\n",
            "Approx 70% complete for SRR12389274.fastq\n",
            "Approx 75% complete for SRR12389274.fastq\n",
            "Approx 80% complete for SRR12389274.fastq\n",
            "Approx 85% complete for SRR12389274.fastq\n",
            "Approx 90% complete for SRR12389274.fastq\n",
            "Approx 95% complete for SRR12389274.fastq\n",
            "Analysis complete for SRR12389274.fastq\n"
          ]
        }
      ]
    },
    {
      "cell_type": "markdown",
      "metadata": {
        "id": "gyh52FxVTSQt"
      },
      "source": [
        "##minimap2: A versatile pairwise aligner for genomic and spliced nucleotide sequences (Google Colab Pro required) - installation"
      ]
    },
    {
      "cell_type": "markdown",
      "metadata": {
        "id": "0bXGX4mEeegN"
      },
      "source": [
        "minimap2 is a long-read sequencing aligner (documentation: https://github.com/lh3/minimap2). "
      ]
    },
    {
      "cell_type": "code",
      "execution_count": null,
      "metadata": {
        "colab": {
          "base_uri": "https://localhost:8080/"
        },
        "id": "yZz8ktFYTQ1F",
        "outputId": "356ca5f2-de1c-4ff3-960c-7a9105708581"
      },
      "outputs": [
        {
          "output_type": "stream",
          "name": "stdout",
          "text": [
            "Collecting package metadata (current_repodata.json): - \b\b\\ \b\b| \b\b/ \b\b- \b\b\\ \b\b| \b\b/ \b\b- \b\b\\ \b\b| \b\b/ \b\b- \b\b\\ \b\b| \b\b/ \b\b- \b\b\\ \b\b| \b\b/ \b\b- \b\b\\ \b\b| \b\b/ \b\b- \b\b\\ \b\b| \b\b/ \b\b- \b\b\\ \b\bdone\n",
            "Solving environment: / \b\b- \b\b\\ \b\b| \b\b/ \b\b- \b\b\\ \b\b| \b\b/ \b\b- \b\b\\ \b\bdone\n",
            "\n",
            "## Package Plan ##\n",
            "\n",
            "  environment location: /usr/local\n",
            "\n",
            "  added / updated specs:\n",
            "    - minimap2\n",
            "\n",
            "\n",
            "The following packages will be downloaded:\n",
            "\n",
            "    package                    |            build\n",
            "    ---------------------------|-----------------\n",
            "    k8-0.2.5                   |       h9a82719_1         1.7 MB  bioconda\n",
            "    minimap2-2.17              |       h5bf99c6_4         448 KB  bioconda\n",
            "    ------------------------------------------------------------\n",
            "                                           Total:         2.1 MB\n",
            "\n",
            "The following NEW packages will be INSTALLED:\n",
            "\n",
            "  k8                 bioconda/linux-64::k8-0.2.5-h9a82719_1\n",
            "  minimap2           bioconda/linux-64::minimap2-2.17-h5bf99c6_4\n",
            "\n",
            "\n",
            "\n",
            "Downloading and Extracting Packages\n",
            "k8-0.2.5             | 1.7 MB    | : 100% 1.0/1 [00:00<00:00,  2.64it/s]\n",
            "minimap2-2.17        | 448 KB    | : 100% 1.0/1 [00:00<00:00,  4.93it/s]                 \n",
            "Preparing transaction: / \b\bdone\n",
            "Verifying transaction: \\ \b\bdone\n",
            "Executing transaction: / \b\bdone\n"
          ]
        }
      ],
      "source": [
        "! conda install -c bioconda minimap2 -y"
      ]
    },
    {
      "cell_type": "markdown",
      "source": [
        "##minimap2: A versatile pairwise aligner for genomic and spliced nucleotide sequences (Google Colab Pro required) - usage"
      ],
      "metadata": {
        "id": "f8EfwQZze29B"
      }
    },
    {
      "cell_type": "markdown",
      "metadata": {
        "id": "xlj72R1ofOAz"
      },
      "source": [
        "minimap2 is a long-read sequencing aligner (documentation: https://github.com/lh3/minimap2). "
      ]
    },
    {
      "cell_type": "markdown",
      "metadata": {
        "id": "nZvCDgAqY5dZ"
      },
      "source": [
        "Google Colab will typically provide virtual machines with 12 GB of RAM. minimap2 in the case of the human genome usually requires more than 12 GB of RAM. Therefore this command will fail to execute within the free version of Google Colab. However, this pipeline also implements a less memory-intensive version of minimap2 for free tier users. "
      ]
    },
    {
      "cell_type": "code",
      "execution_count": null,
      "metadata": {
        "colab": {
          "base_uri": "https://localhost:8080/"
        },
        "id": "YjPnVj5PTRtK",
        "outputId": "3596a391-f202-4c06-c419-cce50b11d0e8"
      },
      "outputs": [
        {
          "output_type": "stream",
          "name": "stdout",
          "text": [
            "tcmalloc: large alloc 1073741824 bytes == 0x5565594fa000 @  0x7fcbc6b60162 0x55652f9a55fe 0x55652f996db1 0x55652f9a306d 0x7fcbc65766db 0x7fcbc629f71f\n",
            "tcmalloc: large alloc 2147483648 bytes == 0x5565b956a000 @  0x7fcbc6b602a4 0x55652f9a557c 0x55652f996db1 0x55652f9a306d 0x7fcbc65766db 0x7fcbc629f71f\n",
            "^C\n"
          ]
        }
      ],
      "source": [
        "! eval minimap2 -ax splice $INDEX_FILE_PATH $PIPELINE_FILE_PATH/fastq/$ACC.fastq > $PIPELINE_FILE_PATH/sam/$ACC.sam"
      ]
    },
    {
      "cell_type": "markdown",
      "metadata": {
        "id": "1mvZC8IsijTg"
      },
      "source": [
        "##minimap2 featherweight alignment - installation"
      ]
    },
    {
      "cell_type": "markdown",
      "metadata": {
        "id": "_Z4pLWqTe6K7"
      },
      "source": [
        "The minimap2 featherweight implementation works by splitting the reference genome into four parts with minimal loss in alignment accuracy (documentation: https://doi.org/10.1038/s41598-019-40739-8)."
      ]
    },
    {
      "cell_type": "code",
      "execution_count": null,
      "metadata": {
        "colab": {
          "base_uri": "https://localhost:8080/"
        },
        "id": "0FCbrpo9ijfj",
        "outputId": "b24af520-4839-4300-a78d-96a4b1e7b531"
      },
      "outputs": [
        {
          "output_type": "stream",
          "name": "stdout",
          "text": [
            "--2022-02-07 05:43:37--  https://github.com/hasindu2008/minimap2-arm/archive/v0.1.tar.gz\n",
            "Resolving github.com (github.com)... 13.114.40.48\n",
            "Connecting to github.com (github.com)|13.114.40.48|:443... connected.\n",
            "HTTP request sent, awaiting response... 302 Found\n",
            "Location: https://codeload.github.com/hasindu2008/minimap2-arm/tar.gz/v0.1 [following]\n",
            "--2022-02-07 05:43:38--  https://codeload.github.com/hasindu2008/minimap2-arm/tar.gz/v0.1\n",
            "Resolving codeload.github.com (codeload.github.com)... 52.193.111.178\n",
            "Connecting to codeload.github.com (codeload.github.com)|52.193.111.178|:443... connected.\n",
            "HTTP request sent, awaiting response... 200 OK\n",
            "Length: unspecified [application/x-gzip]\n",
            "Saving to: ‘v0.1.tar.gz’\n",
            "\n",
            "v0.1.tar.gz             [ <=>                ] 228.88K  1.42MB/s    in 0.2s    \n",
            "\n",
            "2022-02-07 05:43:38 (1.42 MB/s) - ‘v0.1.tar.gz’ saved [234373]\n",
            "\n",
            "minimap2-arm-0.1/\n",
            "minimap2-arm-0.1/.gitignore\n",
            "minimap2-arm-0.1/.travis.yml\n",
            "minimap2-arm-0.1/LICENSE.txt\n",
            "minimap2-arm-0.1/MANIFEST.in\n",
            "minimap2-arm-0.1/Makefile\n",
            "minimap2-arm-0.1/NEWS.md\n",
            "minimap2-arm-0.1/README.md\n",
            "minimap2-arm-0.1/align.c\n",
            "minimap2-arm-0.1/bseq.c\n",
            "minimap2-arm-0.1/bseq.h\n",
            "minimap2-arm-0.1/chain.c\n",
            "minimap2-arm-0.1/cookbook.md\n",
            "minimap2-arm-0.1/esterr.c\n",
            "minimap2-arm-0.1/example.c\n",
            "minimap2-arm-0.1/format.c\n",
            "minimap2-arm-0.1/getopt.c\n",
            "minimap2-arm-0.1/getopt.h\n",
            "minimap2-arm-0.1/hit.c\n",
            "minimap2-arm-0.1/index.c\n",
            "minimap2-arm-0.1/kalloc.c\n",
            "minimap2-arm-0.1/kalloc.h\n",
            "minimap2-arm-0.1/kdq.h\n",
            "minimap2-arm-0.1/khash.h\n",
            "minimap2-arm-0.1/kseq.h\n",
            "minimap2-arm-0.1/ksort.h\n",
            "minimap2-arm-0.1/ksw2.h\n",
            "minimap2-arm-0.1/ksw2_dispatch.c\n",
            "minimap2-arm-0.1/ksw2_extd2_sse.c\n",
            "minimap2-arm-0.1/ksw2_exts2_sse.c\n",
            "minimap2-arm-0.1/ksw2_extz2_sse.c\n",
            "minimap2-arm-0.1/ksw2_ll_sse.c\n",
            "minimap2-arm-0.1/kthread.c\n",
            "minimap2-arm-0.1/kthread.h\n",
            "minimap2-arm-0.1/kvec.h\n",
            "minimap2-arm-0.1/main.c\n",
            "minimap2-arm-0.1/map.c\n",
            "minimap2-arm-0.1/merge.c\n",
            "minimap2-arm-0.1/merge.h\n",
            "minimap2-arm-0.1/minimap.h\n",
            "minimap2-arm-0.1/minimap2.1\n",
            "minimap2-arm-0.1/misc.c\n",
            "minimap2-arm-0.1/misc/\n",
            "minimap2-arm-0.1/misc/README.md\n",
            "minimap2-arm-0.1/misc/idxtools/\n",
            "minimap2-arm-0.1/misc/idxtools/.gitignore\n",
            "minimap2-arm-0.1/misc/idxtools/Makefile\n",
            "minimap2-arm-0.1/misc/idxtools/README.md\n",
            "minimap2-arm-0.1/misc/idxtools/divide.c\n",
            "minimap2-arm-0.1/misc/idxtools/divide_and_index.sh\n",
            "minimap2-arm-0.1/misc/idxtools/eval/\n",
            "minimap2-arm-0.1/misc/idxtools/eval/Mem_usage_with_chr_balance.sh\n",
            "minimap2-arm-0.1/misc/idxtools/eval/README.md\n",
            "minimap2-arm-0.1/misc/idxtools/eval/chimeric_eval.sh\n",
            "minimap2-arm-0.1/misc/idxtools/eval/chimeric_plot.m\n",
            "minimap2-arm-0.1/misc/idxtools/eval/comparesam.c\n",
            "minimap2-arm-0.1/misc/idxtools/eval/gettime.sh\n",
            "minimap2-arm-0.1/misc/idxtools/eval/mem_usage_no_chr_balance.sh\n",
            "minimap2-arm-0.1/misc/idxtools/eval/real_get_stat.sh\n",
            "minimap2-arm-0.1/misc/idxtools/eval/run_comparesam.sh\n",
            "minimap2-arm-0.1/misc/idxtools/eval/synth_eval.sh\n",
            "minimap2-arm-0.1/misc/idxtools/eval/synth_plot.m\n",
            "minimap2-arm-0.1/misc/paftools.js\n",
            "minimap2-arm-0.1/mmpriv.h\n",
            "minimap2-arm-0.1/options.c\n",
            "minimap2-arm-0.1/pe.c\n",
            "minimap2-arm-0.1/python/\n",
            "minimap2-arm-0.1/python/README.rst\n",
            "minimap2-arm-0.1/python/cmappy.h\n",
            "minimap2-arm-0.1/python/cmappy.pxd\n",
            "minimap2-arm-0.1/python/mappy.pyx\n",
            "minimap2-arm-0.1/python/minimap2.py\n",
            "minimap2-arm-0.1/sdust.c\n",
            "minimap2-arm-0.1/sdust.h\n",
            "minimap2-arm-0.1/setup.py\n",
            "minimap2-arm-0.1/sketch.c\n",
            "minimap2-arm-0.1/sse2neon/\n",
            "minimap2-arm-0.1/sse2neon/emmintrin.h\n",
            "minimap2-arm-0.1/test/\n",
            "minimap2-arm-0.1/test/MT-human.fa\n",
            "minimap2-arm-0.1/test/MT-orang.fa\n",
            "minimap2-arm-0.1/test/q-inv.fa\n",
            "minimap2-arm-0.1/test/q2.fa\n",
            "minimap2-arm-0.1/test/t-inv.fa\n",
            "minimap2-arm-0.1/test/t2.fa\n",
            "minimap2-arm-0.1/tex/\n",
            "minimap2-arm-0.1/tex/Makefile\n",
            "minimap2-arm-0.1/tex/bioinfo.cls\n",
            "minimap2-arm-0.1/tex/blasr-mc.eval\n",
            "minimap2-arm-0.1/tex/bowtie2-s3.sam.eval\n",
            "minimap2-arm-0.1/tex/bwa-s3.sam.eval\n",
            "minimap2-arm-0.1/tex/bwa.eval\n",
            "minimap2-arm-0.1/tex/eval2roc.pl\n",
            "minimap2-arm-0.1/tex/graphmap.eval\n",
            "minimap2-arm-0.1/tex/hs38-simu.sh\n",
            "minimap2-arm-0.1/tex/minialign.eval\n",
            "minimap2-arm-0.1/tex/minimap2.bib\n",
            "minimap2-arm-0.1/tex/minimap2.tex\n",
            "minimap2-arm-0.1/tex/mm2-s3.sam.eval\n",
            "minimap2-arm-0.1/tex/mm2.approx.eval\n",
            "minimap2-arm-0.1/tex/mm2.eval\n",
            "minimap2-arm-0.1/tex/natbib.bst\n",
            "minimap2-arm-0.1/tex/natbib.sty\n",
            "minimap2-arm-0.1/tex/ngmlr.eval\n",
            "minimap2-arm-0.1/tex/roc.gp\n",
            "minimap2-arm-0.1/tex/snap-s3.sam.eval\n",
            "cc -c -g -Wall -O2 -Wc++-compat  -DHAVE_KALLOC  main.c -o main.o\n",
            "cc -c -g -Wall -O2 -Wc++-compat  -DHAVE_KALLOC  getopt.c -o getopt.o\n",
            "cc -c -g -Wall -O2 -Wc++-compat  -DHAVE_KALLOC  kthread.c -o kthread.o\n",
            "cc -c -g -Wall -O2 -Wc++-compat  -DHAVE_KALLOC  kalloc.c -o kalloc.o\n",
            "cc -c -g -Wall -O2 -Wc++-compat  -DHAVE_KALLOC  misc.c -o misc.o\n",
            "cc -c -g -Wall -O2 -Wc++-compat  -DHAVE_KALLOC  bseq.c -o bseq.o\n",
            "cc -c -g -Wall -O2 -Wc++-compat  -DHAVE_KALLOC  sketch.c -o sketch.o\n",
            "cc -c -g -Wall -O2 -Wc++-compat  -DHAVE_KALLOC  sdust.c -o sdust.o\n",
            "cc -c -g -Wall -O2 -Wc++-compat  -DHAVE_KALLOC  options.c -o options.o\n",
            "cc -c -g -Wall -O2 -Wc++-compat  -DHAVE_KALLOC  index.c -o index.o\n",
            "\u001b[01m\u001b[Kindex.c:\u001b[m\u001b[K In function ‘\u001b[01m\u001b[Kmm_idx_load\u001b[m\u001b[K’:\n",
            "\u001b[01m\u001b[Kindex.c:472:3:\u001b[m\u001b[K \u001b[01;35m\u001b[Kwarning: \u001b[m\u001b[Kignoring return value of ‘\u001b[01m\u001b[Kfread\u001b[m\u001b[K’, declared with attribute warn_unused_result [\u001b[01;35m\u001b[K-Wunused-result\u001b[m\u001b[K]\n",
            "   \u001b[01;35m\u001b[Kfread(&l, 1, 1, fp)\u001b[m\u001b[K;\n",
            "   \u001b[01;35m\u001b[K^~~~~~~~~~~~~~~~~~~\u001b[m\u001b[K\n",
            "\u001b[01m\u001b[Kindex.c:475:4:\u001b[m\u001b[K \u001b[01;35m\u001b[Kwarning: \u001b[m\u001b[Kignoring return value of ‘\u001b[01m\u001b[Kfread\u001b[m\u001b[K’, declared with attribute warn_unused_result [\u001b[01;35m\u001b[K-Wunused-result\u001b[m\u001b[K]\n",
            "    \u001b[01;35m\u001b[Kfread(s->name, 1, l, fp)\u001b[m\u001b[K;\n",
            "    \u001b[01;35m\u001b[K^~~~~~~~~~~~~~~~~~~~~~~~\u001b[m\u001b[K\n",
            "\u001b[01m\u001b[Kindex.c:478:3:\u001b[m\u001b[K \u001b[01;35m\u001b[Kwarning: \u001b[m\u001b[Kignoring return value of ‘\u001b[01m\u001b[Kfread\u001b[m\u001b[K’, declared with attribute warn_unused_result [\u001b[01;35m\u001b[K-Wunused-result\u001b[m\u001b[K]\n",
            "   \u001b[01;35m\u001b[Kfread(&s->len, 4, 1, fp)\u001b[m\u001b[K;\n",
            "   \u001b[01;35m\u001b[K^~~~~~~~~~~~~~~~~~~~~~~~\u001b[m\u001b[K\n",
            "\u001b[01m\u001b[Kindex.c:487:3:\u001b[m\u001b[K \u001b[01;35m\u001b[Kwarning: \u001b[m\u001b[Kignoring return value of ‘\u001b[01m\u001b[Kfread\u001b[m\u001b[K’, declared with attribute warn_unused_result [\u001b[01;35m\u001b[K-Wunused-result\u001b[m\u001b[K]\n",
            "   \u001b[01;35m\u001b[Kfread(&b->n, 4, 1, fp)\u001b[m\u001b[K;\n",
            "   \u001b[01;35m\u001b[K^~~~~~~~~~~~~~~~~~~~~~\u001b[m\u001b[K\n",
            "\u001b[01m\u001b[Kindex.c:489:3:\u001b[m\u001b[K \u001b[01;35m\u001b[Kwarning: \u001b[m\u001b[Kignoring return value of ‘\u001b[01m\u001b[Kfread\u001b[m\u001b[K’, declared with attribute warn_unused_result [\u001b[01;35m\u001b[K-Wunused-result\u001b[m\u001b[K]\n",
            "   \u001b[01;35m\u001b[Kfread(b->p, 8, b->n, fp)\u001b[m\u001b[K;\n",
            "   \u001b[01;35m\u001b[K^~~~~~~~~~~~~~~~~~~~~~~~\u001b[m\u001b[K\n",
            "\u001b[01m\u001b[Kindex.c:490:3:\u001b[m\u001b[K \u001b[01;35m\u001b[Kwarning: \u001b[m\u001b[Kignoring return value of ‘\u001b[01m\u001b[Kfread\u001b[m\u001b[K’, declared with attribute warn_unused_result [\u001b[01;35m\u001b[K-Wunused-result\u001b[m\u001b[K]\n",
            "   \u001b[01;35m\u001b[Kfread(&size, 4, 1, fp)\u001b[m\u001b[K;\n",
            "   \u001b[01;35m\u001b[K^~~~~~~~~~~~~~~~~~~~~~\u001b[m\u001b[K\n",
            "\u001b[01m\u001b[Kindex.c:497:4:\u001b[m\u001b[K \u001b[01;35m\u001b[Kwarning: \u001b[m\u001b[Kignoring return value of ‘\u001b[01m\u001b[Kfread\u001b[m\u001b[K’, declared with attribute warn_unused_result [\u001b[01;35m\u001b[K-Wunused-result\u001b[m\u001b[K]\n",
            "    \u001b[01;35m\u001b[Kfread(x, 8, 2, fp)\u001b[m\u001b[K;\n",
            "    \u001b[01;35m\u001b[K^~~~~~~~~~~~~~~~~~\u001b[m\u001b[K\n",
            "\u001b[01m\u001b[Kindex.c:505:3:\u001b[m\u001b[K \u001b[01;35m\u001b[Kwarning: \u001b[m\u001b[Kignoring return value of ‘\u001b[01m\u001b[Kfread\u001b[m\u001b[K’, declared with attribute warn_unused_result [\u001b[01;35m\u001b[K-Wunused-result\u001b[m\u001b[K]\n",
            "   \u001b[01;35m\u001b[Kfread(mi->S, 4, (sum_len + 7) / 8, fp)\u001b[m\u001b[K;\n",
            "   \u001b[01;35m\u001b[K^~~~~~~~~~~~~~~~~~~~~~~~~~~~~~~~~~~~~~\u001b[m\u001b[K\n",
            "cc -c -g -Wall -O2 -Wc++-compat  -DHAVE_KALLOC  chain.c -o chain.o\n",
            "cc -c -g -Wall -O2 -Wc++-compat  -DHAVE_KALLOC  align.c -o align.o\n",
            "cc -c -g -Wall -O2 -Wc++-compat  -DHAVE_KALLOC  hit.c -o hit.o\n",
            "cc -c -g -Wall -O2 -Wc++-compat  -DHAVE_KALLOC  map.c -o map.o\n",
            "cc -c -g -Wall -O2 -Wc++-compat  -DHAVE_KALLOC  format.c -o format.o\n",
            "cc -c -g -Wall -O2 -Wc++-compat  -DHAVE_KALLOC  pe.c -o pe.o\n",
            "cc -c -g -Wall -O2 -Wc++-compat  -DHAVE_KALLOC  esterr.c -o esterr.o\n",
            "cc -c -g -Wall -O2 -Wc++-compat  -msse2 -DHAVE_KALLOC  ksw2_ll_sse.c -o ksw2_ll_sse.o\n",
            "cc -c -g -Wall -O2 -Wc++-compat  -DHAVE_KALLOC  merge.c -o merge.o\n",
            "cc -c -g -Wall -O2 -Wc++-compat  -msse4.1 -DHAVE_KALLOC -DKSW_CPU_DISPATCH  ksw2_extz2_sse.c -o ksw2_extz2_sse41.o\n",
            "cc -c -g -Wall -O2 -Wc++-compat  -msse4.1 -DHAVE_KALLOC -DKSW_CPU_DISPATCH  ksw2_extd2_sse.c -o ksw2_extd2_sse41.o\n",
            "cc -c -g -Wall -O2 -Wc++-compat  -msse4.1 -DHAVE_KALLOC -DKSW_CPU_DISPATCH  ksw2_exts2_sse.c -o ksw2_exts2_sse41.o\n",
            "cc -c -g -Wall -O2 -Wc++-compat  -msse2 -mno-sse4.1 -DHAVE_KALLOC -DKSW_CPU_DISPATCH -DKSW_SSE2_ONLY  ksw2_extz2_sse.c -o ksw2_extz2_sse2.o\n",
            "cc -c -g -Wall -O2 -Wc++-compat  -msse2 -mno-sse4.1 -DHAVE_KALLOC -DKSW_CPU_DISPATCH -DKSW_SSE2_ONLY  ksw2_extd2_sse.c -o ksw2_extd2_sse2.o\n",
            "cc -c -g -Wall -O2 -Wc++-compat  -msse2 -mno-sse4.1 -DHAVE_KALLOC -DKSW_CPU_DISPATCH -DKSW_SSE2_ONLY  ksw2_exts2_sse.c -o ksw2_exts2_sse2.o\n",
            "cc -c -g -Wall -O2 -Wc++-compat  -msse4.1 -DHAVE_KALLOC -DKSW_CPU_DISPATCH  ksw2_dispatch.c -o ksw2_dispatch.o\n",
            "ar -csru libminimap2.a kthread.o kalloc.o misc.o bseq.o sketch.o sdust.o options.o index.o chain.o align.o hit.o map.o format.o pe.o esterr.o ksw2_ll_sse.o merge.o ksw2_extz2_sse41.o ksw2_extd2_sse41.o ksw2_exts2_sse41.o ksw2_extz2_sse2.o ksw2_extd2_sse2.o ksw2_exts2_sse2.o ksw2_dispatch.o\n",
            "ar: `u' modifier ignored since `D' is the default (see `U')\n",
            "cc -g -Wall -O2 -Wc++-compat  main.o getopt.o -o minimap2 -L. -lminimap2 -lm -lz -lpthread\n"
          ]
        }
      ],
      "source": [
        "! wget https://github.com/hasindu2008/minimap2-arm/archive/v0.1.tar.gz\n",
        "! tar xvf v0.1.tar.gz && cd minimap2-arm-0.1 && make"
      ]
    },
    {
      "cell_type": "code",
      "execution_count": null,
      "metadata": {
        "id": "sHkWpwJ0js-U"
      },
      "outputs": [],
      "source": [
        "! chmod u+x /content/minimap2-arm-0.1/misc/idxtools/divide_and_index.sh"
      ]
    },
    {
      "cell_type": "code",
      "execution_count": null,
      "metadata": {
        "colab": {
          "base_uri": "https://localhost:8080/"
        },
        "id": "OSo_TWKelVjr",
        "outputId": "06b93fec-9b14-428e-c3a6-bcc8fcce062a"
      },
      "outputs": [
        {
          "output_type": "stream",
          "name": "stdout",
          "text": [
            "Reading package lists... Done\n",
            "Building dependency tree       \n",
            "Reading state information... Done\n",
            "The following packages were automatically installed and are no longer required:\n",
            "  cuda-command-line-tools-10-0 cuda-command-line-tools-10-1\n",
            "  cuda-command-line-tools-11-0 cuda-compiler-10-0 cuda-compiler-10-1\n",
            "  cuda-compiler-11-0 cuda-cuobjdump-10-0 cuda-cuobjdump-10-1\n",
            "  cuda-cuobjdump-11-0 cuda-cupti-10-0 cuda-cupti-10-1 cuda-cupti-11-0\n",
            "  cuda-cupti-dev-11-0 cuda-documentation-10-0 cuda-documentation-10-1\n",
            "  cuda-documentation-11-0 cuda-documentation-11-1 cuda-gdb-10-0 cuda-gdb-10-1\n",
            "  cuda-gdb-11-0 cuda-gpu-library-advisor-10-0 cuda-gpu-library-advisor-10-1\n",
            "  cuda-libraries-10-0 cuda-libraries-10-1 cuda-libraries-11-0\n",
            "  cuda-memcheck-10-0 cuda-memcheck-10-1 cuda-memcheck-11-0 cuda-nsight-10-0\n",
            "  cuda-nsight-10-1 cuda-nsight-11-0 cuda-nsight-11-1 cuda-nsight-compute-10-0\n",
            "  cuda-nsight-compute-10-1 cuda-nsight-compute-11-0 cuda-nsight-compute-11-1\n",
            "  cuda-nsight-systems-10-1 cuda-nsight-systems-11-0 cuda-nsight-systems-11-1\n",
            "  cuda-nvcc-10-0 cuda-nvcc-10-1 cuda-nvcc-11-0 cuda-nvdisasm-10-0\n",
            "  cuda-nvdisasm-10-1 cuda-nvdisasm-11-0 cuda-nvml-dev-10-0 cuda-nvml-dev-10-1\n",
            "  cuda-nvml-dev-11-0 cuda-nvprof-10-0 cuda-nvprof-10-1 cuda-nvprof-11-0\n",
            "  cuda-nvprune-10-0 cuda-nvprune-10-1 cuda-nvprune-11-0 cuda-nvtx-10-0\n",
            "  cuda-nvtx-10-1 cuda-nvtx-11-0 cuda-nvvp-10-0 cuda-nvvp-10-1 cuda-nvvp-11-0\n",
            "  cuda-nvvp-11-1 cuda-samples-10-0 cuda-samples-10-1 cuda-samples-11-0\n",
            "  cuda-samples-11-1 cuda-sanitizer-11-0 cuda-sanitizer-api-10-1\n",
            "  cuda-toolkit-10-0 cuda-toolkit-10-1 cuda-toolkit-11-0 cuda-toolkit-11-1\n",
            "  cuda-tools-10-0 cuda-tools-10-1 cuda-tools-11-0 cuda-tools-11-1\n",
            "  cuda-visual-tools-10-0 cuda-visual-tools-10-1 cuda-visual-tools-11-0\n",
            "  cuda-visual-tools-11-1 default-jre dkms freeglut3 freeglut3-dev\n",
            "  keyboard-configuration libargon2-0 libcap2 libcryptsetup12\n",
            "  libdevmapper1.02.1 libfontenc1 libidn11 libip4tc0 libjansson4\n",
            "  libnvidia-cfg1-510 libnvidia-common-460 libnvidia-common-510\n",
            "  libnvidia-extra-510 libnvidia-fbc1-510 libnvidia-gl-510 libpam-systemd\n",
            "  libpolkit-agent-1-0 libpolkit-backend-1-0 libpolkit-gobject-1-0 libxfont2\n",
            "  libxi-dev libxkbfile1 libxmu-dev libxmu-headers libxnvctrl0 libxtst6\n",
            "  nsight-compute-2020.2.1 nsight-compute-2022.1.0 nsight-systems-2020.3.2\n",
            "  nsight-systems-2020.3.4 nsight-systems-2021.5.2 nvidia-dkms-510\n",
            "  nvidia-kernel-common-510 nvidia-kernel-source-510 nvidia-modprobe\n",
            "  nvidia-settings openjdk-11-jre policykit-1 policykit-1-gnome python3-xkit\n",
            "  screen-resolution-extra systemd systemd-sysv udev x11-xkb-utils\n",
            "  xserver-common xserver-xorg-core-hwe-18.04 xserver-xorg-video-nvidia-510\n",
            "Use 'apt autoremove' to remove them.\n",
            "The following NEW packages will be installed:\n",
            "  bc\n",
            "0 upgraded, 1 newly installed, 0 to remove and 39 not upgraded.\n",
            "Need to get 86.2 kB of archives.\n",
            "After this operation, 223 kB of additional disk space will be used.\n",
            "Get:1 http://archive.ubuntu.com/ubuntu bionic/main amd64 bc amd64 1.07.1-2 [86.2 kB]\n",
            "Fetched 86.2 kB in 1s (60.3 kB/s)\n",
            "Selecting previously unselected package bc.\n",
            "(Reading database ... 155113 files and directories currently installed.)\n",
            "Preparing to unpack .../archives/bc_1.07.1-2_amd64.deb ...\n",
            "Unpacking bc (1.07.1-2) ...\n",
            "Setting up bc (1.07.1-2) ...\n",
            "Processing triggers for man-db (2.8.3-2ubuntu0.1) ...\n"
          ]
        }
      ],
      "source": [
        "! apt-get install bc"
      ]
    },
    {
      "cell_type": "markdown",
      "source": [
        "##minimap2 featherweight alignment - partioning "
      ],
      "metadata": {
        "id": "oBPQyTcKOPDF"
      }
    },
    {
      "cell_type": "markdown",
      "source": [
        "The minimap2 featherweight implementation works by splitting the reference genome into four parts with minimal loss in alignment accuracy (documentation: https://doi.org/10.1038/s41598-019-40739-8). This command will only need to be run once as long as the partioned reference index is not removed from the directory. "
      ],
      "metadata": {
        "id": "of339UK9OT_0"
      }
    },
    {
      "cell_type": "code",
      "source": [
        "! eval /content/minimap2-arm-0.1/misc/idxtools/divide_and_index.sh $INDEX_FILE_PATH 4 $PARTITIONED_INDEX_FILE_PATH /content/minimap2-arm-0.1/minimap2 $PLATFORM_FREE"
      ],
      "metadata": {
        "id": "S2MVZUmwOUID"
      },
      "execution_count": null,
      "outputs": []
    },
    {
      "cell_type": "markdown",
      "metadata": {
        "id": "itX8aI_chgmy"
      },
      "source": [
        "##minimap2 featherweight alignment - usage"
      ]
    },
    {
      "cell_type": "markdown",
      "metadata": {
        "id": "aY5xHM_gieeF"
      },
      "source": [
        "The minimap2 featherweight implementation works by splitting the reference genome into four parts with minimal loss in alignment accuracy (documentation: https://doi.org/10.1038/s41598-019-40739-8)."
      ]
    },
    {
      "cell_type": "code",
      "execution_count": null,
      "metadata": {
        "colab": {
          "base_uri": "https://localhost:8080/"
        },
        "id": "s9pBrxRPi_hU",
        "outputId": "ab129999-8844-4935-aa39-31ab89b428f7"
      },
      "outputs": [
        {
          "output_type": "stream",
          "name": "stdout",
          "text": [
            "[WARNING]\u001b[1;31m option --multi-prefix is experimental. Currently works only with uni-segment reads.\u001b[0m\n",
            "[M::main::32.975*0.20] loaded/built the index for 118 target sequence(s)\n",
            "[M::mm_mapopt_update::34.644*0.23] mid_occ = 348\n",
            "[M::mm_idx_stat] kmer size: 15; skip: 10; is_hpc: 0; #seq: 118\n",
            "[M::mm_idx_stat::35.610*0.25] distinct minimizers: 51411598 (54.83% are singletons); average occurrences: 2.793; average spacing: 5.744\n",
            "[M::worker_pipeline::620.289*1.74] mapped 436843 sequences\n",
            "[M::worker_pipeline::1172.145*1.82] mapped 452733 sequences\n",
            "[M::worker_pipeline::1723.638*1.85] mapped 457006 sequences\n",
            "[M::worker_pipeline::2272.118*1.87] mapped 458854 sequences\n",
            "[M::worker_pipeline::2812.104*1.88] mapped 459612 sequences\n",
            "[M::worker_pipeline::3357.198*1.88] mapped 456625 sequences\n",
            "[M::worker_pipeline::3898.731*1.89] mapped 456060 sequences\n",
            "[M::worker_pipeline::4413.726*1.89] mapped 479682 sequences\n",
            "[M::worker_pipeline::4930.406*1.89] mapped 475736 sequences\n",
            "[M::worker_pipeline::5456.679*1.90] mapped 476901 sequences\n",
            "[M::worker_pipeline::5981.720*1.90] mapped 508625 sequences\n",
            "[M::worker_pipeline::6501.621*1.90] mapped 528142 sequences\n",
            "[M::worker_pipeline::6999.928*1.90] mapped 510976 sequences\n",
            "[M::worker_pipeline::7499.511*1.90] mapped 509749 sequences\n",
            "[M::worker_pipeline::8000.179*1.90] mapped 505300 sequences\n",
            "[M::worker_pipeline::8508.821*1.90] mapped 498558 sequences\n",
            "[M::worker_pipeline::9009.494*1.90] mapped 494300 sequences\n",
            "[M::worker_pipeline::9202.181*1.91] mapped 192153 sequences\n",
            "[M::main::9234.776*1.90] loaded/built the index for 116 target sequence(s)\n",
            "[M::mm_mapopt_update::9234.776*1.90] mid_occ = 348\n",
            "[M::mm_idx_stat] kmer size: 15; skip: 10; is_hpc: 0; #seq: 116\n",
            "[M::mm_idx_stat::9236.711*1.90] distinct minimizers: 52646266 (55.34% are singletons); average occurrences: 2.728; average spacing: 5.632\n",
            "[M::worker_pipeline::9830.302*1.90] mapped 436843 sequences\n",
            "[M::worker_pipeline::10402.877*1.90] mapped 452733 sequences\n",
            "[M::worker_pipeline::10963.822*1.90] mapped 457006 sequences\n",
            "[M::worker_pipeline::11530.109*1.90] mapped 458854 sequences\n",
            "[M::worker_pipeline::12091.835*1.90] mapped 459612 sequences\n",
            "[M::worker_pipeline::12646.511*1.90] mapped 456625 sequences\n",
            "[M::worker_pipeline::13188.115*1.90] mapped 456060 sequences\n",
            "[M::worker_pipeline::13707.307*1.90] mapped 479682 sequences\n",
            "[M::worker_pipeline::14229.942*1.90] mapped 475736 sequences\n",
            "[M::worker_pipeline::14755.406*1.90] mapped 476901 sequences\n",
            "[M::worker_pipeline::15284.431*1.90] mapped 508625 sequences\n",
            "[M::worker_pipeline::15811.617*1.90] mapped 528142 sequences\n",
            "[M::worker_pipeline::16330.059*1.90] mapped 510976 sequences\n",
            "[M::worker_pipeline::16833.424*1.90] mapped 509749 sequences\n",
            "[M::worker_pipeline::17347.054*1.90] mapped 505300 sequences\n",
            "[M::worker_pipeline::17861.527*1.91] mapped 498558 sequences\n",
            "[M::worker_pipeline::18374.427*1.91] mapped 494300 sequences\n",
            "[M::worker_pipeline::18566.178*1.91] mapped 192153 sequences\n",
            "[M::main::18594.521*1.90] loaded/built the index for 116 target sequence(s)\n",
            "[M::mm_mapopt_update::18594.521*1.90] mid_occ = 348\n",
            "[M::mm_idx_stat] kmer size: 15; skip: 10; is_hpc: 0; #seq: 116\n",
            "[M::mm_idx_stat::18596.042*1.90] distinct minimizers: 52727646 (55.26% are singletons); average occurrences: 2.723; average spacing: 5.529\n",
            "[M::worker_pipeline::19131.591*1.90] mapped 436843 sequences\n",
            "[M::worker_pipeline::19645.833*1.90] mapped 452733 sequences\n",
            "[M::worker_pipeline::20150.132*1.90] mapped 457006 sequences\n",
            "[M::worker_pipeline::20649.338*1.90] mapped 458854 sequences\n",
            "[M::worker_pipeline::21139.728*1.90] mapped 459612 sequences\n",
            "[M::worker_pipeline::21637.854*1.90] mapped 456625 sequences\n",
            "[M::worker_pipeline::22137.665*1.91] mapped 456060 sequences\n",
            "[M::worker_pipeline::22613.405*1.91] mapped 479682 sequences\n",
            "[M::worker_pipeline::23093.138*1.91] mapped 475736 sequences\n",
            "[M::worker_pipeline::23562.935*1.91] mapped 476901 sequences\n",
            "[M::worker_pipeline::24051.035*1.91] mapped 508625 sequences\n"
          ]
        }
      ],
      "source": [
        "! eval /content/minimap2-arm-0.1/minimap2 -a -x $PLATFORM_FREE $PARTITIONED_INDEX_FILE_PATH $PIPELINE_FILE_PATH/fastq/$ACC.fastq --multi-prefix tmp > $PIPELINE_FILE_PATH/sam/$ACC.sam"
      ]
    },
    {
      "cell_type": "markdown",
      "metadata": {
        "id": "dxspwFM3_1qN"
      },
      "source": [
        "##samtools: Reading/writing/editing/indexing/viewing SAM/BAM/CRAM format - installation"
      ]
    },
    {
      "cell_type": "markdown",
      "metadata": {
        "id": "SXphSNhPA9di"
      },
      "source": [
        "samtools allows for manipulation of high-throughput sequencing data (documentation: http://www.htslib.org/) \n"
      ]
    },
    {
      "cell_type": "code",
      "execution_count": null,
      "metadata": {
        "colab": {
          "base_uri": "https://localhost:8080/"
        },
        "id": "v0_UcWdBHDGQ",
        "outputId": "019be414-4bcb-4ced-fc4c-6151980d66ba"
      },
      "outputs": [
        {
          "output_type": "stream",
          "name": "stdout",
          "text": [
            "Collecting package metadata (current_repodata.json): - \b\b\\ \b\b| \b\b/ \b\b- \b\b\\ \b\b| \b\b/ \b\b- \b\b\\ \b\b| \b\b/ \b\b- \b\b\\ \b\b| \b\bdone\n",
            "Solving environment: - \b\b\\ \b\b| \b\b/ \b\b- \b\b\\ \b\b| \b\b/ \b\b- \b\b\\ \b\b| \b\b/ \b\b- \b\b\\ \b\b| \b\b/ \b\b- \b\b\\ \b\b| \b\b/ \b\b- \b\b\\ \b\b| \b\b/ \b\bdone\n",
            "\n",
            "## Package Plan ##\n",
            "\n",
            "  environment location: /usr/local\n",
            "\n",
            "  added / updated specs:\n",
            "    - samtools\n",
            "\n",
            "\n",
            "The following packages will be downloaded:\n",
            "\n",
            "    package                    |            build\n",
            "    ---------------------------|-----------------\n",
            "    bzip2-1.0.8                |       h7b6447c_0          78 KB\n",
            "    libgcc-7.2.0               |       h69d50b8_2         269 KB\n",
            "    samtools-1.7               |                1         1.0 MB  bioconda\n",
            "    ------------------------------------------------------------\n",
            "                                           Total:         1.4 MB\n",
            "\n",
            "The following NEW packages will be INSTALLED:\n",
            "\n",
            "  bzip2              pkgs/main/linux-64::bzip2-1.0.8-h7b6447c_0\n",
            "  libgcc             pkgs/main/linux-64::libgcc-7.2.0-h69d50b8_2\n",
            "  samtools           bioconda/linux-64::samtools-1.7-1\n",
            "\n",
            "\n",
            "\n",
            "Downloading and Extracting Packages\n",
            "libgcc-7.2.0         | 269 KB    | : 100% 1.0/1 [00:00<00:00, 10.23it/s]\n",
            "bzip2-1.0.8          | 78 KB     | : 100% 1.0/1 [00:00<00:00, 16.88it/s]\n",
            "samtools-1.7         | 1.0 MB    | : 100% 1.0/1 [00:00<00:00,  3.93it/s]\n",
            "Preparing transaction: \\ \b\bdone\n",
            "Verifying transaction: / \b\bdone\n",
            "Executing transaction: \\ \b\bdone\n"
          ]
        }
      ],
      "source": [
        "! conda install -c bioconda samtools -y"
      ]
    },
    {
      "cell_type": "markdown",
      "source": [
        "##samtools: Reading/writing/editing/indexing/viewing SAM/BAM/CRAM format - usage"
      ],
      "metadata": {
        "id": "sjns1XbAkILI"
      }
    },
    {
      "cell_type": "markdown",
      "metadata": {
        "id": "KfgkJ0bJkYDv"
      },
      "source": [
        "samtools allows for manipulation of high-throughput sequencing data (documentation: http://www.htslib.org/) \n"
      ]
    },
    {
      "cell_type": "code",
      "execution_count": null,
      "metadata": {
        "id": "fAFTMfy2HDOs"
      },
      "outputs": [],
      "source": [
        "! samtools view -S -b $PIPELINE_FILE_PATH/sam/$ACC.sam > $PIPELINE_FILE_PATH/bam/$ACC.bam "
      ]
    },
    {
      "cell_type": "code",
      "execution_count": null,
      "metadata": {
        "id": "qYOZbl8PJo-h"
      },
      "outputs": [],
      "source": [
        "! samtools sort $PIPELINE_FILE_PATH/bam/$ACC.bam -o $PIPELINE_FILE_PATH/bam/$ACC.sorted.bam  "
      ]
    },
    {
      "cell_type": "code",
      "execution_count": null,
      "metadata": {
        "id": "ypjDsfP7JpM6"
      },
      "outputs": [],
      "source": [
        "! samtools index $PIPELINE_FILE_PATH/bam/$ACC.sorted.bam "
      ]
    },
    {
      "cell_type": "markdown",
      "source": [
        "##TranscriptClean: correct mismatches, microindels, and noncanonical splice junctions - installation"
      ],
      "metadata": {
        "id": "Y9qrP4Ip3xwz"
      }
    },
    {
      "cell_type": "markdown",
      "source": [
        "TranscriptClean is a command-line program which corrects long-read mismatches, microindels and noncanonical splice junctions (documentation: https://github.com/mortazavilab/TranscriptClean). "
      ],
      "metadata": {
        "id": "bB4Zr5Ef38qi"
      }
    },
    {
      "cell_type": "code",
      "source": [
        "! conda install -c bioconda pyfasta pyranges samtools -y"
      ],
      "metadata": {
        "colab": {
          "base_uri": "https://localhost:8080/"
        },
        "id": "oXIztTkj3zbu",
        "outputId": "6aca339e-dcda-472b-9839-fe7114e884d0"
      },
      "execution_count": null,
      "outputs": [
        {
          "output_type": "stream",
          "name": "stdout",
          "text": [
            "Collecting package metadata (current_repodata.json): - \b\b\\ \b\b| \b\b/ \b\b- \b\b\\ \b\b| \b\b/ \b\b- \b\b\\ \b\b| \b\bdone\n",
            "Solving environment: - \b\b\\ \b\b| \b\b/ \b\b- \b\b\\ \b\b| \b\b/ \b\b- \b\b\\ \b\b| \b\b/ \b\b- \b\b\\ \b\b| \b\b/ \b\b- \b\b\\ \b\b| \b\b/ \b\b- \b\b\\ \b\b| \b\bdone\n",
            "\n",
            "## Package Plan ##\n",
            "\n",
            "  environment location: /usr/local\n",
            "\n",
            "  added / updated specs:\n",
            "    - pyfasta\n",
            "    - pyranges\n",
            "    - samtools\n",
            "\n",
            "\n",
            "The following packages will be downloaded:\n",
            "\n",
            "    package                    |            build\n",
            "    ---------------------------|-----------------\n",
            "    natsort-7.1.1              |     pyhd3eb1b0_0          33 KB\n",
            "    ncls-0.0.63                |   py39h38f01e4_0         676 KB  bioconda\n",
            "    pyfasta-0.5.2              |             py_1          17 KB  bioconda\n",
            "    pyranges-0.0.115           |     pyh5e36f6f_0         668 KB  bioconda\n",
            "    pyrle-0.0.34               |   py39h38f01e4_0         545 KB  bioconda\n",
            "    sorted_nearest-0.0.33      |   py39h38f01e4_1         5.5 MB  bioconda\n",
            "    tabulate-0.8.9             |   py39h06a4308_0          40 KB\n",
            "    ------------------------------------------------------------\n",
            "                                           Total:         7.4 MB\n",
            "\n",
            "The following NEW packages will be INSTALLED:\n",
            "\n",
            "  natsort            pkgs/main/noarch::natsort-7.1.1-pyhd3eb1b0_0\n",
            "  ncls               bioconda/linux-64::ncls-0.0.63-py39h38f01e4_0\n",
            "  pyfasta            bioconda/noarch::pyfasta-0.5.2-py_1\n",
            "  pyranges           bioconda/noarch::pyranges-0.0.115-pyh5e36f6f_0\n",
            "  pyrle              bioconda/linux-64::pyrle-0.0.34-py39h38f01e4_0\n",
            "  sorted_nearest     bioconda/linux-64::sorted_nearest-0.0.33-py39h38f01e4_1\n",
            "  tabulate           pkgs/main/linux-64::tabulate-0.8.9-py39h06a4308_0\n",
            "\n",
            "\n",
            "\n",
            "Downloading and Extracting Packages\n",
            "sorted_nearest-0.0.3 | 5.5 MB    | : 100% 1.0/1 [00:01<00:00,  1.69s/it]\n",
            "pyfasta-0.5.2        | 17 KB     | : 100% 1.0/1 [00:00<00:00,  7.26it/s]               \n",
            "pyrle-0.0.34         | 545 KB    | : 100% 1.0/1 [00:00<00:00,  4.84it/s]\n",
            "pyranges-0.0.115     | 668 KB    | : 100% 1.0/1 [00:00<00:00,  3.09it/s]\n",
            "natsort-7.1.1        | 33 KB     | : 100% 1.0/1 [00:00<00:00, 11.09it/s]\n",
            "tabulate-0.8.9       | 40 KB     | : 100% 1.0/1 [00:00<00:00, 13.55it/s]\n",
            "ncls-0.0.63          | 676 KB    | : 100% 1.0/1 [00:00<00:00,  2.23it/s]\n",
            "Preparing transaction: - \b\bdone\n",
            "Verifying transaction: | \b\bdone\n",
            "Executing transaction: - \b\b\\ \b\b| \b\b/ \b\b- \b\b\\ \b\b| \b\b/ \b\b- \b\b\\ \b\b| \b\bdone\n"
          ]
        }
      ]
    },
    {
      "cell_type": "code",
      "source": [
        "! wget https://github.com/mortazavilab/TranscriptClean/archive/refs/tags/v2.0.3.tar.gz\n",
        "! tar xvf v2.0.3.tar.gz "
      ],
      "metadata": {
        "colab": {
          "base_uri": "https://localhost:8080/"
        },
        "id": "BfsI59QG4BH_",
        "outputId": "3ae94a61-2f5e-4aef-d4c2-c393ce23ae9a"
      },
      "execution_count": null,
      "outputs": [
        {
          "output_type": "stream",
          "name": "stdout",
          "text": [
            "--2022-02-06 22:15:12--  https://github.com/mortazavilab/TranscriptClean/archive/refs/tags/v2.0.3.tar.gz\n",
            "Resolving github.com (github.com)... 140.82.112.4\n",
            "Connecting to github.com (github.com)|140.82.112.4|:443... connected.\n",
            "HTTP request sent, awaiting response... 302 Found\n",
            "Location: https://codeload.github.com/mortazavilab/TranscriptClean/tar.gz/refs/tags/v2.0.3 [following]\n",
            "--2022-02-06 22:15:13--  https://codeload.github.com/mortazavilab/TranscriptClean/tar.gz/refs/tags/v2.0.3\n",
            "Resolving codeload.github.com (codeload.github.com)... 140.82.112.10\n",
            "Connecting to codeload.github.com (codeload.github.com)|140.82.112.10|:443... connected.\n",
            "HTTP request sent, awaiting response... 200 OK\n",
            "Length: unspecified [application/x-gzip]\n",
            "Saving to: ‘v2.0.3.tar.gz’\n",
            "\n",
            "v2.0.3.tar.gz           [              <=>   ] 206.75M  2.04MB/s    in 24s     \n",
            "\n",
            "2022-02-06 22:15:37 (8.50 MB/s) - ‘v2.0.3.tar.gz’ saved [216793874]\n",
            "\n",
            "TranscriptClean-2.0.3/\n",
            "TranscriptClean-2.0.3/.gitignore\n",
            "TranscriptClean-2.0.3/LICENSE.md\n",
            "TranscriptClean-2.0.3/README.md\n",
            "TranscriptClean-2.0.3/TranscriptClean.py\n",
            "TranscriptClean-2.0.3/accessory_scripts/\n",
            "TranscriptClean-2.0.3/accessory_scripts/get_SJs_from_gtf.py\n",
            "TranscriptClean-2.0.3/accessory_scripts/get_TranscriptClean_stats.sh\n",
            "TranscriptClean-2.0.3/archived/\n",
            "TranscriptClean-2.0.3/archived/test_TranscriptClean/\n",
            "TranscriptClean-2.0.3/archived/test_TranscriptClean/sam_files/\n",
            "TranscriptClean-2.0.3/archived/test_TranscriptClean/sam_files/deletion_correctAnswer.sam\n",
            "TranscriptClean-2.0.3/archived/test_TranscriptClean/sam_files/deletion_input.sam\n",
            "TranscriptClean-2.0.3/archived/test_TranscriptClean/sam_files/deletion_insertion_mismatch.sam\n",
            "TranscriptClean-2.0.3/archived/test_TranscriptClean/sam_files/deletion_insertion_mismatch_correctAnswer.sam\n",
            "TranscriptClean-2.0.3/archived/test_TranscriptClean/sam_files/deletion_insertion_mismatch_nc.sam\n",
            "TranscriptClean-2.0.3/archived/test_TranscriptClean/sam_files/deletion_insertion_mismatch_nc_correctAnswer.sam\n",
            "TranscriptClean-2.0.3/archived/test_TranscriptClean/sam_files/deletion_insertion_mismatch_nc_noExtraTags.sam\n",
            "TranscriptClean-2.0.3/archived/test_TranscriptClean/sam_files/deletion_insertion_mismatch_noExtraTags.sam\n",
            "TranscriptClean-2.0.3/archived/test_TranscriptClean/sam_files/deletion_variant.sam\n",
            "TranscriptClean-2.0.3/archived/test_TranscriptClean/sam_files/deletion_variant_correctAnswer.sam\n",
            "TranscriptClean-2.0.3/archived/test_TranscriptClean/sam_files/insertion_correctAnswer.sam\n",
            "TranscriptClean-2.0.3/archived/test_TranscriptClean/sam_files/insertion_input.sam\n",
            "TranscriptClean-2.0.3/archived/test_TranscriptClean/sam_files/insertion_variant.sam\n",
            "TranscriptClean-2.0.3/archived/test_TranscriptClean/sam_files/minusStrand_perfectMatch.sam\n",
            "TranscriptClean-2.0.3/archived/test_TranscriptClean/sam_files/mismatch_correctAnswer.sam\n",
            "TranscriptClean-2.0.3/archived/test_TranscriptClean/sam_files/mismatch_input.sam\n",
            "TranscriptClean-2.0.3/archived/test_TranscriptClean/sam_files/nc_case1.sam\n",
            "TranscriptClean-2.0.3/archived/test_TranscriptClean/sam_files/nc_case1_correctAnswer.sam\n",
            "TranscriptClean-2.0.3/archived/test_TranscriptClean/sam_files/nc_case2.sam\n",
            "TranscriptClean-2.0.3/archived/test_TranscriptClean/sam_files/nc_case2_correctAnswer.sam\n",
            "TranscriptClean-2.0.3/archived/test_TranscriptClean/sam_files/nc_case3.sam\n",
            "TranscriptClean-2.0.3/archived/test_TranscriptClean/sam_files/nc_case3_correctAnswer.sam\n",
            "TranscriptClean-2.0.3/archived/test_TranscriptClean/sam_files/nc_case4.sam\n",
            "TranscriptClean-2.0.3/archived/test_TranscriptClean/sam_files/nc_case4_correctAnswer.sam\n",
            "TranscriptClean-2.0.3/archived/test_TranscriptClean/sam_files/nc_case5.sam\n",
            "TranscriptClean-2.0.3/archived/test_TranscriptClean/sam_files/nc_case5_correctAnswer.sam\n",
            "TranscriptClean-2.0.3/archived/test_TranscriptClean/sam_files/perfectReferenceMatch_noIntrons.sam\n",
            "TranscriptClean-2.0.3/archived/test_TranscriptClean/sam_files/perfectReferenceMatch_noIntrons_noExtraTags.sam\n",
            "TranscriptClean-2.0.3/archived/test_TranscriptClean/sam_files/perfectReferenceMatch_twoIntrons.sam\n",
            "TranscriptClean-2.0.3/archived/test_TranscriptClean/sam_files/perfectReferenceMatch_twoIntrons_noExtraTags.sam\n",
            "TranscriptClean-2.0.3/archived/test_TranscriptClean/test_TranscriptClean.py\n",
            "TranscriptClean-2.0.3/dstruct.py\n",
            "TranscriptClean-2.0.3/example_files/\n",
            "TranscriptClean-2.0.3/example_files/GM12878_SJs_chr1.tab\n",
            "TranscriptClean-2.0.3/example_files/GM12878_chr1.sam\n",
            "TranscriptClean-2.0.3/example_files/GM12878_chr1.vcf.gz\n",
            "TranscriptClean-2.0.3/example_files/chr1.fa.gz\n",
            "TranscriptClean-2.0.3/generate_report.R\n",
            "TranscriptClean-2.0.3/intronBound.py\n",
            "TranscriptClean-2.0.3/spliceJunction.py\n",
            "TranscriptClean-2.0.3/testing_suite/\n",
            "TranscriptClean-2.0.3/testing_suite/Makefile\n",
            "TranscriptClean-2.0.3/testing_suite/answer_files/\n",
            "TranscriptClean-2.0.3/testing_suite/answer_files/DIM_nc_full/\n",
            "TranscriptClean-2.0.3/testing_suite/answer_files/DIM_nc_full/TC_clean.sam\n",
            "TranscriptClean-2.0.3/testing_suite/input_files/\n",
            "TranscriptClean-2.0.3/testing_suite/input_files/GM12878_SJs_chr1.tab\n",
            "TranscriptClean-2.0.3/testing_suite/input_files/chr11_sjs.txt\n",
            "TranscriptClean-2.0.3/testing_suite/input_files/drosophila_example/\n",
            "TranscriptClean-2.0.3/testing_suite/input_files/drosophila_example/bad_correction.sam\n",
            "TranscriptClean-2.0.3/testing_suite/input_files/drosophila_example/chr3R.fa\n",
            "TranscriptClean-2.0.3/testing_suite/input_files/drosophila_example/chr3R_SJs.tsv\n",
            "TranscriptClean-2.0.3/testing_suite/input_files/drosophila_example/input_read.sam\n",
            "TranscriptClean-2.0.3/testing_suite/input_files/drosophila_example/no_SJ_corr.sam\n",
            "TranscriptClean-2.0.3/testing_suite/input_files/hg38_chr1.fa.gz\n",
            "TranscriptClean-2.0.3/testing_suite/input_files/hg38_chr11.fa.gz\n",
            "TranscriptClean-2.0.3/testing_suite/input_files/hg38_chr17.fa\n",
            "TranscriptClean-2.0.3/testing_suite/input_files/init_transcript/\n",
            "TranscriptClean-2.0.3/testing_suite/input_files/init_transcript/non-primary.sam\n",
            "TranscriptClean-2.0.3/testing_suite/input_files/init_transcript/unmapped.sam\n",
            "TranscriptClean-2.0.3/testing_suite/input_files/sams/\n",
            "TranscriptClean-2.0.3/testing_suite/input_files/sams/deletion.sam\n",
            "TranscriptClean-2.0.3/testing_suite/input_files/sams/deletion_insertion_mismatch.sam\n",
            "TranscriptClean-2.0.3/testing_suite/input_files/sams/deletion_insertion_mismatch_nc.sam\n",
            "TranscriptClean-2.0.3/testing_suite/input_files/sams/deletion_insertion_mismatch_withHeader.sam\n",
            "TranscriptClean-2.0.3/testing_suite/input_files/sams/insertion.sam\n",
            "TranscriptClean-2.0.3/testing_suite/input_files/sams/insertion_input.sam\n",
            "TranscriptClean-2.0.3/testing_suite/input_files/sams/microexon.sam\n",
            "TranscriptClean-2.0.3/testing_suite/input_files/sams/mismatch.sam\n",
            "TranscriptClean-2.0.3/testing_suite/input_files/sams/perfectReferenceMatch_noIntrons.sam\n",
            "TranscriptClean-2.0.3/testing_suite/input_files/sams/perfectReferenceMatch_twoIntrons.sam\n",
            "TranscriptClean-2.0.3/testing_suite/input_files/test_junctions.txt\n",
            "TranscriptClean-2.0.3/testing_suite/input_files/toy_sjs_mixed_chroms.txt\n",
            "TranscriptClean-2.0.3/testing_suite/input_files/vcf_test/\n",
            "TranscriptClean-2.0.3/testing_suite/input_files/vcf_test/README.md\n",
            "TranscriptClean-2.0.3/testing_suite/input_files/vcf_test/chr11_variantDel.vcf\n",
            "TranscriptClean-2.0.3/testing_suite/input_files/vcf_test/chr11_variantDel_andMismatch.sam\n",
            "TranscriptClean-2.0.3/testing_suite/input_files/vcf_test/read_with_snps.sam\n",
            "TranscriptClean-2.0.3/testing_suite/input_files/vcf_test/snps.vcf\n",
            "TranscriptClean-2.0.3/testing_suite/pytest.ini\n",
            "TranscriptClean-2.0.3/testing_suite/test_VCF_processing.py\n",
            "TranscriptClean-2.0.3/testing_suite/test_all_jns_annotated.py\n",
            "TranscriptClean-2.0.3/testing_suite/test_attempt_jn_correction.py\n",
            "TranscriptClean-2.0.3/testing_suite/test_canonOnly_mode.py\n",
            "TranscriptClean-2.0.3/testing_suite/test_combined_jn_dist.py\n",
            "TranscriptClean-2.0.3/testing_suite/test_compare_seq_cigar_lengths.py\n",
            "TranscriptClean-2.0.3/testing_suite/test_compute_MD_NM.py\n",
            "TranscriptClean-2.0.3/testing_suite/test_compute_jI_jM.py\n",
            "TranscriptClean-2.0.3/testing_suite/test_correct_deletions.py\n",
            "TranscriptClean-2.0.3/testing_suite/test_correct_insertions.py\n",
            "TranscriptClean-2.0.3/testing_suite/test_correct_mismatches.py\n",
            "TranscriptClean-2.0.3/testing_suite/test_create_tmp_sam.py\n",
            "TranscriptClean-2.0.3/testing_suite/test_example_transcripts.py\n",
            "TranscriptClean-2.0.3/testing_suite/test_example_varDM_monoexon.py\n",
            "TranscriptClean-2.0.3/testing_suite/test_fetch_donor_or_acceptor.py\n",
            "TranscriptClean-2.0.3/testing_suite/test_find_closest_annotated_SJ.py\n",
            "TranscriptClean-2.0.3/testing_suite/test_find_closest_annotated_bound.py\n",
            "TranscriptClean-2.0.3/testing_suite/test_find_ncsj.py\n",
            "TranscriptClean-2.0.3/testing_suite/test_fix_one_side_of_junction.py\n",
            "TranscriptClean-2.0.3/testing_suite/test_full_dryrun.py\n",
            "TranscriptClean-2.0.3/testing_suite/test_high_level_ncsj_correction.py\n",
            "TranscriptClean-2.0.3/testing_suite/test_init_transcript_object.py\n",
            "TranscriptClean-2.0.3/testing_suite/test_prep_refs.py\n",
            "TranscriptClean-2.0.3/testing_suite/test_print_fasta_seq.py\n",
            "TranscriptClean-2.0.3/testing_suite/test_process_splice_annotation.py\n",
            "TranscriptClean-2.0.3/testing_suite/test_rmTmp_option.py\n",
            "TranscriptClean-2.0.3/testing_suite/test_update_post_ncsj_correction.py\n",
            "TranscriptClean-2.0.3/testing_suite/unzip_references.sh\n",
            "TranscriptClean-2.0.3/transcript.py\n",
            "TranscriptClean-2.0.3/transcript.pyc\n"
          ]
        }
      ]
    },
    {
      "cell_type": "markdown",
      "source": [
        "##TranscriptClean: correct mismatches, microindels, and noncanonical splice junctions - usage"
      ],
      "metadata": {
        "id": "zqQcBdxa4X7q"
      }
    },
    {
      "cell_type": "markdown",
      "source": [
        "TranscriptClean is a command-line program which corrects long-read mismatches, microindels and noncanonical splice junctions (documentation: https://github.com/mortazavilab/TranscriptClean). "
      ],
      "metadata": {
        "id": "r5CNnQ5w4k_K"
      }
    },
    {
      "cell_type": "code",
      "source": [
        "! eval python /content/TranscriptClean-2.0.3/TranscriptClean.py --sam $PIPELINE_FILE_PATH/sam/$ACC.sam --genome $INDEX_FILE_PATH --outprefix $PIPELINE_FILE_PATH/transcriptclean/$ACC"
      ],
      "metadata": {
        "colab": {
          "base_uri": "https://localhost:8080/"
        },
        "id": "sJPb4PSU5LmU",
        "outputId": "3f4be56d-f9b6-49d6-cb40-74bbb4f7a8ab"
      },
      "execution_count": null,
      "outputs": [
        {
          "output_type": "stream",
          "name": "stdout",
          "text": [
            "Traceback (most recent call last):\n",
            "  File \"/content/TranscriptClean-2.0.3/TranscriptClean.py\", line 1675, in <module>\n",
            "    main()\n",
            "  File \"/content/TranscriptClean-2.0.3/TranscriptClean.py\", line 38, in main\n",
            "    validate_chroms(options.refGenome, options.variantFile, sam_chroms)\n",
            "  File \"/content/TranscriptClean-2.0.3/TranscriptClean.py\", line 466, in validate_chroms\n",
            "    genome = Fasta(genome_file)\n",
            "  File \"/usr/local/lib/python3.9/site-packages/pyfasta/fasta.py\", line 67, in __init__\n",
            "    raise FastaNotFound('\"' + fasta_name + '\"')\n",
            "pyfasta.fasta.FastaNotFound: \"$PIPELINE_FILE_PATH/prebuilt_indices/hg38.fa\"\n"
          ]
        }
      ]
    },
    {
      "cell_type": "markdown",
      "source": [
        "##featureCounts: an efficient general purpose program for assigning sequence reads to genomic features - installation"
      ],
      "metadata": {
        "id": "yhR96h7O5CHN"
      }
    },
    {
      "cell_type": "markdown",
      "source": [
        "featureCounts is a read summarization program suitable for counting reads generated from either RNA or genomic DNA sequencing experiments (documentation: http://subread.sourceforge.net/). "
      ],
      "metadata": {
        "id": "VnlTGqwG5JYz"
      }
    },
    {
      "cell_type": "code",
      "source": [
        "! conda install -c bioconda subread -y"
      ],
      "metadata": {
        "colab": {
          "base_uri": "https://localhost:8080/"
        },
        "id": "Vd48uWN45VkA",
        "outputId": "2d2a279e-244b-4ab0-c42d-db69d254dae9"
      },
      "execution_count": null,
      "outputs": [
        {
          "output_type": "stream",
          "name": "stdout",
          "text": [
            "Collecting package metadata (current_repodata.json): - \b\b\\ \b\b| \b\b/ \b\b- \b\b\\ \b\b| \b\b/ \b\b- \b\b\\ \b\b| \b\bdone\n",
            "Solving environment: - \b\b\\ \b\b| \b\b/ \b\b- \b\b\\ \b\b| \b\b/ \b\b- \b\b\\ \b\b| \b\b/ \b\b- \b\b\\ \b\b| \b\b/ \b\b- \b\bdone\n",
            "\n",
            "## Package Plan ##\n",
            "\n",
            "  environment location: /usr/local\n",
            "\n",
            "  added / updated specs:\n",
            "    - subread\n",
            "\n",
            "\n",
            "The following packages will be downloaded:\n",
            "\n",
            "    package                    |            build\n",
            "    ---------------------------|-----------------\n",
            "    subread-2.0.1              |       h5bf99c6_1        22.8 MB  bioconda\n",
            "    ------------------------------------------------------------\n",
            "                                           Total:        22.8 MB\n",
            "\n",
            "The following NEW packages will be INSTALLED:\n",
            "\n",
            "  subread            bioconda/linux-64::subread-2.0.1-h5bf99c6_1\n",
            "\n",
            "\n",
            "\n",
            "Downloading and Extracting Packages\n",
            "subread-2.0.1        | 22.8 MB   | : 100% 1.0/1 [00:04<00:00,  4.50s/it]               \n",
            "Preparing transaction: | \b\bdone\n",
            "Verifying transaction: - \b\b\\ \b\bdone\n",
            "Executing transaction: / \b\bdone\n"
          ]
        }
      ]
    },
    {
      "cell_type": "markdown",
      "source": [
        "##featureCounts: an efficient general purpose program for assigning sequence reads to genomic features - usage"
      ],
      "metadata": {
        "id": "7yVbaSBc5cu7"
      }
    },
    {
      "cell_type": "markdown",
      "source": [
        "featureCounts is a read summarization program suitable for counting reads generated from either RNA or genomic DNA sequencing experiments (documentation: http://subread.sourceforge.net/). "
      ],
      "metadata": {
        "id": "-2kbK23S5oi5"
      }
    },
    {
      "cell_type": "code",
      "source": [
        "! eval featureCounts -M -O -T 24 -a $ANNOTATION_FILE_PATH -t exon -g gene_id -o $PIPELINE_FILE_PATH/featureCounts/$ACC.txt $PIPELINE_FILE_PATH/bam/$ACC.sorted.bam "
      ],
      "metadata": {
        "colab": {
          "base_uri": "https://localhost:8080/"
        },
        "id": "1ycdSYt_5plb",
        "outputId": "dedc3ae4-0676-47f1-c2a6-91e4a4a19d4d"
      },
      "execution_count": null,
      "outputs": [
        {
          "output_type": "stream",
          "name": "stdout",
          "text": [
            "\n",
            "       \u001b[44;37m ========== \u001b[0m\u001b[36m    _____ _    _ ____  _____  ______          _____  \n",
            "       \u001b[44;37m =====      \u001b[0m\u001b[36m   / ____| |  | |  _ \\|  __ \\|  ____|   /\\   |  __ \\ \n",
            "       \u001b[44;37m   =====    \u001b[0m\u001b[36m  | (___ | |  | | |_) | |__) | |__     /  \\  | |  | |\n",
            "       \u001b[44;37m     ====   \u001b[0m\u001b[36m   \\___ \\| |  | |  _ <|  _  /|  __|   / /\\ \\ | |  | |\n",
            "       \u001b[44;37m       ==== \u001b[0m\u001b[36m   ____) | |__| | |_) | | \\ \\| |____ / ____ \\| |__| |\n",
            "       \u001b[44;37m ========== \u001b[0m\u001b[36m  |_____/ \\____/|____/|_|  \\_\\______/_/    \\_\\_____/\u001b[0m\n",
            "\t  v2.0.1\n",
            "\n",
            "//==========================\u001b[36m featureCounts setting \u001b[0m===========================\\\\\n",
            "||  \u001b[0m                                                                          ||\n",
            "||             Input files : \u001b[36m1 BAM file  \u001b[0m \u001b[0m                                    ||\n",
            "||                           \u001b[32mo\u001b[36m SRR12389274.sorted.bam\u001b[0m \u001b[0m                        ||\n",
            "||  \u001b[0m                                                                          ||\n",
            "||             Output file : \u001b[36mSRR12389274.txt\u001b[0m \u001b[0m                                 ||\n",
            "||                 Summary : \u001b[36mSRR12389274.txt.summary\u001b[0m \u001b[0m                         ||\n",
            "||              Annotation : \u001b[36mhg38.ensGene.gtf (GTF)\u001b[0m \u001b[0m                          ||\n",
            "||      Dir for temp files : \u001b[36m/content/drive/MyDrive/long_read_transcripto\u001b[0m ...\u001b[0m \u001b[0m||\n",
            "||  \u001b[0m                                                                          ||\n",
            "||                 Threads : \u001b[36m24\u001b[0m \u001b[0m                                              ||\n",
            "||                   Level : \u001b[36mmeta-feature level\u001b[0m \u001b[0m                              ||\n",
            "||              Paired-end : \u001b[36mno\u001b[0m \u001b[0m                                              ||\n",
            "||      Multimapping reads : \u001b[36mcounted\u001b[0m \u001b[0m                                         ||\n",
            "|| Multi-overlapping reads : \u001b[36mcounted\u001b[0m \u001b[0m                                         ||\n",
            "||   Min overlapping bases : \u001b[36m1\u001b[0m \u001b[0m                                               ||\n",
            "||  \u001b[0m                                                                          ||\n",
            "\\\\============================================================================//\n",
            "\n",
            "//=================================\u001b[36m Running \u001b[0m==================================\\\\\n",
            "||  \u001b[0m                                                                          ||\n",
            "|| Load annotation file hg38.ensGene.gtf \u001b[0m... \u001b[0m                                 ||\n",
            "Failed to open the annotation file $PIPELINE_FILE_PATH/prebuilt_indices/hg38.ensGene.gtf, or its format is incorrect, or it contains no 'exon' features.\n"
          ]
        }
      ]
    },
    {
      "cell_type": "markdown",
      "source": [
        "##TAMA: Transcriptome Annotation by Modular Algorithms (Google Colab Pro required) - installation\n",
        "\n"
      ],
      "metadata": {
        "id": "Wj85WdDNwraY"
      }
    },
    {
      "cell_type": "markdown",
      "source": [
        "TAMA allows for the construction of a polished transcriptome by collapsing runs into individual transcripts (documentation: https://github.com/GenomeRIK/tama/wiki). "
      ],
      "metadata": {
        "id": "bAO18hfruXPm"
      }
    },
    {
      "cell_type": "code",
      "source": [
        "! git clone https://github.com/MakeTheBrainHappy/tama"
      ],
      "metadata": {
        "id": "GKv-Sz-IwsXj",
        "colab": {
          "base_uri": "https://localhost:8080/"
        },
        "outputId": "0c36d830-76fe-4a44-cf74-be310d4401c9"
      },
      "execution_count": null,
      "outputs": [
        {
          "output_type": "stream",
          "name": "stdout",
          "text": [
            "Cloning into 'tama'...\n",
            "remote: Enumerating objects: 438, done.\u001b[K\n",
            "remote: Counting objects: 100% (29/29), done.\u001b[K\n",
            "remote: Compressing objects: 100% (24/24), done.\u001b[K\n",
            "remote: Total 438 (delta 14), reused 16 (delta 5), pack-reused 409\u001b[K\n",
            "Receiving objects: 100% (438/438), 673.46 KiB | 16.84 MiB/s, done.\n",
            "Resolving deltas: 100% (252/252), done.\n"
          ]
        }
      ]
    },
    {
      "cell_type": "markdown",
      "source": [
        "##TAMA: Transcriptome Annotation by Modular Algorithms (Google Colab Pro required) - usage"
      ],
      "metadata": {
        "id": "F8ECo-DYue_P"
      }
    },
    {
      "cell_type": "markdown",
      "source": [
        "TAMA allows for the construction of a polished transcriptome by collapsing runs into individual transcripts (documentation: https://github.com/GenomeRIK/tama/wiki). "
      ],
      "metadata": {
        "id": "8kgDVWffuslu"
      }
    },
    {
      "cell_type": "code",
      "source": [
        "! eval python tama/tama_collapse.py -s $PIPELINE_FILE_PATH/bam/$ACC.sorted.bam -f $INDEX_FILE_PATH -p $PIPELINE_FILE_PATH/tama/$ACC.polished -b BAM -rm low_mem"
      ],
      "metadata": {
        "id": "wsqCqeIqwsbH",
        "colab": {
          "base_uri": "https://localhost:8080/"
        },
        "outputId": "dca6db56-4310-4f25-c80e-a1ed2a6c3077"
      },
      "execution_count": null,
      "outputs": [
        {
          "output_type": "stream",
          "name": "stdout",
          "text": [
            "tc_version_date_2020_12_14\n",
            "Default capped flag will be used: Capped\n",
            "Default collapse exon ends flag will be used: common_ends\n",
            "Default coverage: 99\n",
            "Default identity: 85\n",
            "Default identity calculation method: ident_cov\n",
            "Default 5 prime threshold: 10\n",
            "Default exon/splice junction threshold: 10\n",
            "Default 3 prime threshold: 10\n",
            "Default duplicate merge flag: merge_dup\n",
            "Default splice junction priority: no_priority\n",
            "Default splice junction error threshold: 10\n",
            "Default splice junction local density error threshold: 1000\n",
            "Default simple error symbol for matches is the underscore \"_\" .\n",
            "Using BAM format for reading in.\n",
            "Default log output on\n",
            "Default 5 read threshold\n",
            "time taken since last check:\t0.0:0.0:0.0\n",
            "time taken since beginning:\t0.0:0.0:0.0\n",
            "going through fasta\n",
            "tcmalloc: large alloc 1991655424 bytes == 0x55db8685e000 @  0x7f9f8a76e1e7 0x55db42f3f00b 0x55db42f8a746 0x55db42fe5417 0x55db42f95d4c 0x55db4304745c 0x55db42f96ddb 0x55db430474bb 0x55db43080de5 0x55db42f2a59e 0x55db430854e9 0x55db43085a76 0x55db43085c79 0x7f9f8979fbf7 0x55db4300f175\n",
            "^C\n"
          ]
        }
      ]
    },
    {
      "cell_type": "markdown",
      "metadata": {
        "id": "npZwllsupfEJ"
      },
      "source": [
        "##svist4get: a simple visualization tool for genomic tracks from sequencing experiments - installation"
      ]
    },
    {
      "cell_type": "markdown",
      "source": [
        "svist4get allows you to view read coverage at a defined region on a chromosome (documentation: https://bitbucket.org/artegorov/svist4get/src/master/)"
      ],
      "metadata": {
        "id": "niesqrQ1nHMM"
      }
    },
    {
      "cell_type": "code",
      "execution_count": null,
      "metadata": {
        "id": "mq3WmdTxpeft",
        "colab": {
          "base_uri": "https://localhost:8080/"
        },
        "outputId": "bf5b926f-75b5-475a-f826-a7525db625f6"
      },
      "outputs": [
        {
          "output_type": "stream",
          "name": "stdout",
          "text": [
            "Reading package lists... Done\n",
            "Building dependency tree       \n",
            "Reading state information... Done\n",
            "The following packages were automatically installed and are no longer required:\n",
            "  cuda-command-line-tools-10-0 cuda-command-line-tools-10-1\n",
            "  cuda-command-line-tools-11-0 cuda-compiler-10-0 cuda-compiler-10-1\n",
            "  cuda-compiler-11-0 cuda-cuobjdump-10-0 cuda-cuobjdump-10-1\n",
            "  cuda-cuobjdump-11-0 cuda-cupti-10-0 cuda-cupti-10-1 cuda-cupti-11-0\n",
            "  cuda-cupti-dev-11-0 cuda-documentation-10-0 cuda-documentation-10-1\n",
            "  cuda-documentation-11-0 cuda-documentation-11-1 cuda-gdb-10-0 cuda-gdb-10-1\n",
            "  cuda-gdb-11-0 cuda-gpu-library-advisor-10-0 cuda-gpu-library-advisor-10-1\n",
            "  cuda-libraries-10-0 cuda-libraries-10-1 cuda-libraries-11-0\n",
            "  cuda-memcheck-10-0 cuda-memcheck-10-1 cuda-memcheck-11-0 cuda-nsight-10-0\n",
            "  cuda-nsight-10-1 cuda-nsight-11-0 cuda-nsight-11-1 cuda-nsight-compute-10-0\n",
            "  cuda-nsight-compute-10-1 cuda-nsight-compute-11-0 cuda-nsight-compute-11-1\n",
            "  cuda-nsight-systems-10-1 cuda-nsight-systems-11-0 cuda-nsight-systems-11-1\n",
            "  cuda-nvcc-10-0 cuda-nvcc-10-1 cuda-nvcc-11-0 cuda-nvdisasm-10-0\n",
            "  cuda-nvdisasm-10-1 cuda-nvdisasm-11-0 cuda-nvml-dev-10-0 cuda-nvml-dev-10-1\n",
            "  cuda-nvml-dev-11-0 cuda-nvprof-10-0 cuda-nvprof-10-1 cuda-nvprof-11-0\n",
            "  cuda-nvprune-10-0 cuda-nvprune-10-1 cuda-nvprune-11-0 cuda-nvtx-10-0\n",
            "  cuda-nvtx-10-1 cuda-nvtx-11-0 cuda-nvvp-10-0 cuda-nvvp-10-1 cuda-nvvp-11-0\n",
            "  cuda-nvvp-11-1 cuda-samples-10-0 cuda-samples-10-1 cuda-samples-11-0\n",
            "  cuda-samples-11-1 cuda-sanitizer-11-0 cuda-sanitizer-api-10-1\n",
            "  cuda-toolkit-10-0 cuda-toolkit-10-1 cuda-toolkit-11-0 cuda-toolkit-11-1\n",
            "  cuda-tools-10-0 cuda-tools-10-1 cuda-tools-11-0 cuda-tools-11-1\n",
            "  cuda-visual-tools-10-0 cuda-visual-tools-10-1 cuda-visual-tools-11-0\n",
            "  cuda-visual-tools-11-1 default-jre dkms freeglut3 freeglut3-dev\n",
            "  keyboard-configuration libargon2-0 libcap2 libcryptsetup12\n",
            "  libdevmapper1.02.1 libfontenc1 libidn11 libip4tc0 libjansson4\n",
            "  libnvidia-cfg1-510 libnvidia-common-460 libnvidia-common-510\n",
            "  libnvidia-extra-510 libnvidia-fbc1-510 libnvidia-gl-510 libpam-systemd\n",
            "  libpolkit-agent-1-0 libpolkit-backend-1-0 libpolkit-gobject-1-0 libxfont2\n",
            "  libxi-dev libxkbfile1 libxmu-dev libxmu-headers libxnvctrl0 libxtst6\n",
            "  nsight-compute-2020.2.1 nsight-compute-2022.1.0 nsight-systems-2020.3.2\n",
            "  nsight-systems-2020.3.4 nsight-systems-2021.5.2 nvidia-dkms-510\n",
            "  nvidia-kernel-common-510 nvidia-kernel-source-510 nvidia-modprobe\n",
            "  nvidia-settings openjdk-11-jre policykit-1 policykit-1-gnome python3-xkit\n",
            "  screen-resolution-extra systemd systemd-sysv udev x11-xkb-utils\n",
            "  xserver-common xserver-xorg-core-hwe-18.04 xserver-xorg-video-nvidia-510\n",
            "Use 'sudo apt autoremove' to remove them.\n",
            "The following NEW packages will be installed:\n",
            "  bedtools\n",
            "0 upgraded, 1 newly installed, 0 to remove and 39 not upgraded.\n",
            "Need to get 577 kB of archives.\n",
            "After this operation, 2,040 kB of additional disk space will be used.\n",
            "Get:1 http://archive.ubuntu.com/ubuntu bionic/universe amd64 bedtools amd64 2.26.0+dfsg-5 [577 kB]\n",
            "Fetched 577 kB in 1s (976 kB/s)\n",
            "debconf: unable to initialize frontend: Dialog\n",
            "debconf: (No usable dialog-like program is installed, so the dialog based frontend cannot be used. at /usr/share/perl5/Debconf/FrontEnd/Dialog.pm line 76, <> line 1.)\n",
            "debconf: falling back to frontend: Readline\n",
            "debconf: unable to initialize frontend: Readline\n",
            "debconf: (This frontend requires a controlling tty.)\n",
            "debconf: falling back to frontend: Teletype\n",
            "dpkg-preconfigure: unable to re-open stdin: \n",
            "Selecting previously unselected package bedtools.\n",
            "(Reading database ... 155130 files and directories currently installed.)\n",
            "Preparing to unpack .../bedtools_2.26.0+dfsg-5_amd64.deb ...\n",
            "Unpacking bedtools (2.26.0+dfsg-5) ...\n",
            "Setting up bedtools (2.26.0+dfsg-5) ...\n"
          ]
        }
      ],
      "source": [
        "! sudo apt-get install bedtools"
      ]
    },
    {
      "cell_type": "code",
      "source": [
        "! apt-get update"
      ],
      "metadata": {
        "colab": {
          "base_uri": "https://localhost:8080/"
        },
        "id": "iaRNkYPEoa0T",
        "outputId": "2755663a-fb54-40d1-af33-5beae5eb7089"
      },
      "execution_count": null,
      "outputs": [
        {
          "output_type": "stream",
          "name": "stdout",
          "text": [
            "\r0% [Working]\r            \rGet:1 https://cloud.r-project.org/bin/linux/ubuntu bionic-cran40/ InRelease [3,626 B]\n",
            "\r0% [Connecting to archive.ubuntu.com (91.189.88.152)] [Connecting to security.u\r0% [Connecting to archive.ubuntu.com (91.189.88.152)] [Connecting to security.u\r0% [1 InRelease gpgv 3,626 B] [Connecting to archive.ubuntu.com (91.189.88.152)\r                                                                               \rIgn:2 https://developer.download.nvidia.com/compute/cuda/repos/ubuntu1804/x86_64  InRelease\n",
            "\r0% [1 InRelease gpgv 3,626 B] [Waiting for headers] [Waiting for headers] [Wait\r                                                                               \rGet:3 http://ppa.launchpad.net/c2d4u.team/c2d4u4.0+/ubuntu bionic InRelease [15.9 kB]\n",
            "\r0% [1 InRelease gpgv 3,626 B] [Waiting for headers] [Waiting for headers] [3 In\r                                                                               \rGet:4 http://security.ubuntu.com/ubuntu bionic-security InRelease [88.7 kB]\n",
            "Hit:5 http://archive.ubuntu.com/ubuntu bionic InRelease\n",
            "Ign:6 https://developer.download.nvidia.com/compute/machine-learning/repos/ubuntu1804/x86_64  InRelease\n",
            "Get:7 https://developer.download.nvidia.com/compute/cuda/repos/ubuntu1804/x86_64  Release [696 B]\n",
            "Get:8 http://archive.ubuntu.com/ubuntu bionic-updates InRelease [88.7 kB]\n",
            "Hit:9 https://developer.download.nvidia.com/compute/machine-learning/repos/ubuntu1804/x86_64  Release\n",
            "Get:10 https://developer.download.nvidia.com/compute/cuda/repos/ubuntu1804/x86_64  Release.gpg [836 B]\n",
            "Hit:11 http://ppa.launchpad.net/cran/libgit2/ubuntu bionic InRelease\n",
            "Get:12 http://archive.ubuntu.com/ubuntu bionic-backports InRelease [74.6 kB]\n",
            "Hit:13 http://ppa.launchpad.net/deadsnakes/ppa/ubuntu bionic InRelease\n",
            "Get:14 http://ppa.launchpad.net/graphics-drivers/ppa/ubuntu bionic InRelease [21.3 kB]\n",
            "Get:15 http://ppa.launchpad.net/c2d4u.team/c2d4u4.0+/ubuntu bionic/main Sources [1,823 kB]\n",
            "Get:17 https://developer.download.nvidia.com/compute/cuda/repos/ubuntu1804/x86_64  Packages [917 kB]\n",
            "Get:18 http://security.ubuntu.com/ubuntu bionic-security/main amd64 Packages [2,546 kB]\n",
            "Get:19 http://ppa.launchpad.net/c2d4u.team/c2d4u4.0+/ubuntu bionic/main amd64 Packages [935 kB]\n",
            "Get:20 http://security.ubuntu.com/ubuntu bionic-security/restricted amd64 Packages [761 kB]\n",
            "Get:21 http://security.ubuntu.com/ubuntu bionic-security/universe amd64 Packages [1,466 kB]\n",
            "Get:22 http://archive.ubuntu.com/ubuntu bionic-updates/restricted amd64 Packages [809 kB]\n",
            "Get:23 http://archive.ubuntu.com/ubuntu bionic-updates/multiverse amd64 Packages [29.1 kB]\n",
            "Get:24 http://archive.ubuntu.com/ubuntu bionic-updates/universe amd64 Packages [2,244 kB]\n",
            "Get:25 http://archive.ubuntu.com/ubuntu bionic-updates/main amd64 Packages [2,986 kB]\n",
            "Get:26 http://ppa.launchpad.net/graphics-drivers/ppa/ubuntu bionic/main amd64 Packages [42.8 kB]\n",
            "Fetched 14.9 MB in 4s (4,157 kB/s)\n",
            "Reading package lists... Done\n"
          ]
        }
      ]
    },
    {
      "cell_type": "code",
      "execution_count": null,
      "metadata": {
        "id": "-gNi5jxXA5oq",
        "colab": {
          "base_uri": "https://localhost:8080/"
        },
        "outputId": "1f2c5082-3daf-4745-b0c3-216c3b925d88"
      },
      "outputs": [
        {
          "output_type": "stream",
          "name": "stdout",
          "text": [
            "Reading package lists... Done\n",
            "Building dependency tree       \n",
            "Reading state information... Done\n",
            "The following packages were automatically installed and are no longer required:\n",
            "  cuda-command-line-tools-10-0 cuda-command-line-tools-10-1\n",
            "  cuda-command-line-tools-11-0 cuda-compiler-10-0 cuda-compiler-10-1\n",
            "  cuda-compiler-11-0 cuda-cuobjdump-10-0 cuda-cuobjdump-10-1\n",
            "  cuda-cuobjdump-11-0 cuda-cupti-10-0 cuda-cupti-10-1 cuda-cupti-11-0\n",
            "  cuda-cupti-dev-11-0 cuda-documentation-10-0 cuda-documentation-10-1\n",
            "  cuda-documentation-11-0 cuda-documentation-11-1 cuda-gdb-10-0 cuda-gdb-10-1\n",
            "  cuda-gdb-11-0 cuda-gpu-library-advisor-10-0 cuda-gpu-library-advisor-10-1\n",
            "  cuda-libraries-10-0 cuda-libraries-10-1 cuda-libraries-11-0\n",
            "  cuda-memcheck-10-0 cuda-memcheck-10-1 cuda-memcheck-11-0 cuda-nsight-10-0\n",
            "  cuda-nsight-10-1 cuda-nsight-11-0 cuda-nsight-11-1 cuda-nsight-compute-10-0\n",
            "  cuda-nsight-compute-10-1 cuda-nsight-compute-11-0 cuda-nsight-compute-11-1\n",
            "  cuda-nsight-systems-10-1 cuda-nsight-systems-11-0 cuda-nsight-systems-11-1\n",
            "  cuda-nvcc-10-0 cuda-nvcc-10-1 cuda-nvcc-11-0 cuda-nvdisasm-10-0\n",
            "  cuda-nvdisasm-10-1 cuda-nvdisasm-11-0 cuda-nvml-dev-10-0 cuda-nvml-dev-10-1\n",
            "  cuda-nvml-dev-11-0 cuda-nvprof-10-0 cuda-nvprof-10-1 cuda-nvprof-11-0\n",
            "  cuda-nvprune-10-0 cuda-nvprune-10-1 cuda-nvprune-11-0 cuda-nvtx-10-0\n",
            "  cuda-nvtx-10-1 cuda-nvtx-11-0 cuda-nvvp-10-0 cuda-nvvp-10-1 cuda-nvvp-11-0\n",
            "  cuda-nvvp-11-1 cuda-samples-10-0 cuda-samples-10-1 cuda-samples-11-0\n",
            "  cuda-samples-11-1 cuda-sanitizer-11-0 cuda-sanitizer-api-10-1\n",
            "  cuda-toolkit-10-0 cuda-toolkit-10-1 cuda-toolkit-11-0 cuda-toolkit-11-1\n",
            "  cuda-tools-10-0 cuda-tools-10-1 cuda-tools-11-0 cuda-tools-11-1\n",
            "  cuda-visual-tools-10-0 cuda-visual-tools-10-1 cuda-visual-tools-11-0\n",
            "  cuda-visual-tools-11-1 default-jre dkms freeglut3 freeglut3-dev\n",
            "  keyboard-configuration libargon2-0 libcap2 libcryptsetup12\n",
            "  libdevmapper1.02.1 libfontenc1 libip4tc0 libjansson4 libnvidia-cfg1-510\n",
            "  libnvidia-common-460 libnvidia-common-510 libnvidia-extra-510\n",
            "  libnvidia-fbc1-510 libnvidia-gl-510 libpam-systemd libpolkit-agent-1-0\n",
            "  libpolkit-backend-1-0 libpolkit-gobject-1-0 libxfont2 libxi-dev libxkbfile1\n",
            "  libxmu-dev libxmu-headers libxnvctrl0 libxtst6 nsight-compute-2020.2.1\n",
            "  nsight-compute-2022.1.0 nsight-systems-2020.3.2 nsight-systems-2020.3.4\n",
            "  nsight-systems-2021.5.2 nvidia-dkms-510 nvidia-kernel-common-510\n",
            "  nvidia-kernel-source-510 nvidia-modprobe nvidia-settings openjdk-11-jre\n",
            "  policykit-1 policykit-1-gnome python3-xkit screen-resolution-extra systemd\n",
            "  systemd-sysv udev x11-xkb-utils xserver-common xserver-xorg-core-hwe-18.04\n",
            "  xserver-xorg-video-nvidia-510\n",
            "Use 'apt autoremove' to remove them.\n",
            "The following additional packages will be installed:\n",
            "  fonts-droid-fallback fonts-noto-mono ghostscript gir1.2-freedesktop\n",
            "  gir1.2-gdkpixbuf-2.0 gir1.2-rsvg-2.0 gsfonts imagemagick-6-common\n",
            "  libcairo-script-interpreter2 libcairo2-dev libcupsfilters1 libcupsimage2\n",
            "  libdjvulibre-dev libdjvulibre-text libdjvulibre21 libgdk-pixbuf2.0-dev\n",
            "  libgs9 libgs9-common libijs-0.35 libjbig2dec0 liblcms2-dev liblqr-1-0\n",
            "  liblqr-1-0-dev libmagickcore-6-arch-config libmagickcore-6-headers\n",
            "  libmagickcore-6.q16-3 libmagickcore-6.q16-3-extra libmagickcore-6.q16-dev\n",
            "  libmagickwand-6-headers libmagickwand-6.q16-3 libmagickwand-6.q16-dev\n",
            "  libpixman-1-dev librsvg2-dev libwmf-dev libwmf0.2-7 libxcb-shm0-dev\n",
            "  poppler-data\n",
            "Suggested packages:\n",
            "  fonts-noto ghostscript-x libcairo2-doc inkscape libjxr-tools librsvg2-doc\n",
            "  libwmf-doc libwmf0.2-7-gtk poppler-utils fonts-japanese-mincho\n",
            "  | fonts-ipafont-mincho fonts-japanese-gothic | fonts-ipafont-gothic\n",
            "  fonts-arphic-ukai fonts-arphic-uming fonts-nanum\n",
            "The following NEW packages will be installed:\n",
            "  fonts-droid-fallback fonts-noto-mono ghostscript gir1.2-freedesktop\n",
            "  gir1.2-gdkpixbuf-2.0 gir1.2-rsvg-2.0 gsfonts imagemagick-6-common\n",
            "  libcairo-script-interpreter2 libcairo2-dev libcupsfilters1 libcupsimage2\n",
            "  libdjvulibre-dev libdjvulibre-text libdjvulibre21 libgdk-pixbuf2.0-dev\n",
            "  libgs9 libgs9-common libijs-0.35 libjbig2dec0 liblcms2-dev liblqr-1-0\n",
            "  liblqr-1-0-dev libmagickcore-6-arch-config libmagickcore-6-headers\n",
            "  libmagickcore-6.q16-3 libmagickcore-6.q16-3-extra libmagickcore-6.q16-dev\n",
            "  libmagickwand-6-headers libmagickwand-6.q16-3 libmagickwand-6.q16-dev\n",
            "  libmagickwand-dev libpixman-1-dev librsvg2-dev libwmf-dev libwmf0.2-7\n",
            "  libxcb-shm0-dev poppler-data\n",
            "0 upgraded, 38 newly installed, 0 to remove and 56 not upgraded.\n",
            "Need to get 31.0 MB of archives.\n",
            "After this operation, 91.0 MB of additional disk space will be used.\n",
            "Get:1 http://archive.ubuntu.com/ubuntu bionic/main amd64 fonts-droid-fallback all 1:6.0.1r16-1.1 [1,805 kB]\n",
            "Get:2 http://archive.ubuntu.com/ubuntu bionic-updates/main amd64 imagemagick-6-common all 8:6.9.7.4+dfsg-16ubuntu6.12 [60.3 kB]\n",
            "Get:3 http://archive.ubuntu.com/ubuntu bionic-updates/main amd64 libmagickcore-6-arch-config amd64 8:6.9.7.4+dfsg-16ubuntu6.12 [25.4 kB]\n",
            "Get:4 http://archive.ubuntu.com/ubuntu bionic-updates/main amd64 libmagickcore-6-headers all 8:6.9.7.4+dfsg-16ubuntu6.12 [47.2 kB]\n",
            "Get:5 http://archive.ubuntu.com/ubuntu bionic/main amd64 liblqr-1-0 amd64 0.4.2-2.1 [27.7 kB]\n",
            "Get:6 http://archive.ubuntu.com/ubuntu bionic-updates/main amd64 libmagickcore-6.q16-3 amd64 8:6.9.7.4+dfsg-16ubuntu6.12 [1,621 kB]\n",
            "Get:7 http://archive.ubuntu.com/ubuntu bionic-updates/main amd64 libmagickwand-6-headers all 8:6.9.7.4+dfsg-16ubuntu6.12 [10.5 kB]\n",
            "Get:8 http://archive.ubuntu.com/ubuntu bionic-updates/main amd64 libmagickwand-6.q16-3 amd64 8:6.9.7.4+dfsg-16ubuntu6.12 [292 kB]\n",
            "Get:9 http://archive.ubuntu.com/ubuntu bionic-updates/main amd64 libdjvulibre-text all 3.5.27.1-8ubuntu0.4 [49.4 kB]\n",
            "Get:10 http://archive.ubuntu.com/ubuntu bionic-updates/main amd64 libdjvulibre21 amd64 3.5.27.1-8ubuntu0.4 [561 kB]\n",
            "Get:11 http://archive.ubuntu.com/ubuntu bionic/main amd64 libwmf0.2-7 amd64 0.2.8.4-12 [150 kB]\n",
            "Get:12 http://archive.ubuntu.com/ubuntu bionic-updates/main amd64 libmagickcore-6.q16-3-extra amd64 8:6.9.7.4+dfsg-16ubuntu6.12 [62.4 kB]\n",
            "Get:13 http://archive.ubuntu.com/ubuntu bionic-updates/main amd64 libdjvulibre-dev amd64 3.5.27.1-8ubuntu0.4 [2,382 kB]\n",
            "Get:14 http://archive.ubuntu.com/ubuntu bionic-updates/main amd64 liblcms2-dev amd64 2.9-1ubuntu0.1 [9,096 kB]\n",
            "Get:15 http://archive.ubuntu.com/ubuntu bionic/main amd64 liblqr-1-0-dev amd64 0.4.2-2.1 [69.1 kB]\n",
            "Get:16 http://archive.ubuntu.com/ubuntu bionic/main amd64 gir1.2-freedesktop amd64 1.56.1-1 [9,080 B]\n",
            "Get:17 http://archive.ubuntu.com/ubuntu bionic/main amd64 gir1.2-gdkpixbuf-2.0 amd64 2.36.11-2 [7,748 B]\n",
            "Get:18 http://archive.ubuntu.com/ubuntu bionic-updates/main amd64 gir1.2-rsvg-2.0 amd64 2.40.20-2ubuntu0.2 [3,764 B]\n",
            "Get:19 http://archive.ubuntu.com/ubuntu bionic/main amd64 libgdk-pixbuf2.0-dev amd64 2.36.11-2 [46.8 kB]\n",
            "Get:20 http://archive.ubuntu.com/ubuntu bionic-updates/main amd64 libcairo-script-interpreter2 amd64 1.15.10-2ubuntu0.1 [53.5 kB]\n",
            "Get:21 http://archive.ubuntu.com/ubuntu bionic/main amd64 libpixman-1-dev amd64 0.34.0-2 [244 kB]\n",
            "Get:22 http://archive.ubuntu.com/ubuntu bionic-updates/main amd64 libxcb-shm0-dev amd64 1.13-2~ubuntu18.04 [6,684 B]\n",
            "Get:23 http://archive.ubuntu.com/ubuntu bionic-updates/main amd64 libcairo2-dev amd64 1.15.10-2ubuntu0.1 [626 kB]\n",
            "Get:24 http://archive.ubuntu.com/ubuntu bionic-updates/main amd64 librsvg2-dev amd64 2.40.20-2ubuntu0.2 [10.7 kB]\n",
            "Get:25 http://archive.ubuntu.com/ubuntu bionic/main amd64 libwmf-dev amd64 0.2.8.4-12 [172 kB]\n",
            "Get:26 http://archive.ubuntu.com/ubuntu bionic-updates/main amd64 libmagickcore-6.q16-dev amd64 8:6.9.7.4+dfsg-16ubuntu6.12 [974 kB]\n",
            "Get:27 http://archive.ubuntu.com/ubuntu bionic-updates/main amd64 libmagickwand-6.q16-dev amd64 8:6.9.7.4+dfsg-16ubuntu6.12 [290 kB]\n",
            "Get:28 http://archive.ubuntu.com/ubuntu bionic-updates/main amd64 libmagickwand-dev all 8:6.9.7.4+dfsg-16ubuntu6.12 [1,368 B]\n",
            "Get:29 http://archive.ubuntu.com/ubuntu bionic/main amd64 poppler-data all 0.4.8-2 [1,479 kB]\n",
            "Get:30 http://archive.ubuntu.com/ubuntu bionic/main amd64 fonts-noto-mono all 20171026-2 [75.5 kB]\n",
            "Get:31 http://archive.ubuntu.com/ubuntu bionic-updates/main amd64 libcupsimage2 amd64 2.2.7-1ubuntu2.8 [18.6 kB]\n",
            "Get:32 http://archive.ubuntu.com/ubuntu bionic/main amd64 libijs-0.35 amd64 0.35-13 [15.5 kB]\n",
            "Get:33 http://archive.ubuntu.com/ubuntu bionic/main amd64 libjbig2dec0 amd64 0.13-6 [55.9 kB]\n",
            "Get:34 http://archive.ubuntu.com/ubuntu bionic-updates/main amd64 libgs9-common all 9.26~dfsg+0-0ubuntu0.18.04.15 [5,092 kB]\n",
            "Get:35 http://archive.ubuntu.com/ubuntu bionic-updates/main amd64 libgs9 amd64 9.26~dfsg+0-0ubuntu0.18.04.15 [2,265 kB]\n",
            "Get:36 http://archive.ubuntu.com/ubuntu bionic-updates/main amd64 ghostscript amd64 9.26~dfsg+0-0ubuntu0.18.04.15 [51.4 kB]\n",
            "Get:37 http://archive.ubuntu.com/ubuntu bionic/main amd64 gsfonts all 1:8.11+urwcyr1.0.7~pre44-4.4 [3,120 kB]\n",
            "Get:38 http://archive.ubuntu.com/ubuntu bionic-updates/main amd64 libcupsfilters1 amd64 1.20.2-0ubuntu3.1 [108 kB]\n",
            "Fetched 31.0 MB in 2s (17.2 MB/s)\n",
            "debconf: apt-extracttemplates failed: No such file or directory\n",
            "Extracting templates from packages: 100%\n",
            "^C\n"
          ]
        }
      ],
      "source": [
        "! apt-get install libmagickwand-dev"
      ]
    },
    {
      "cell_type": "code",
      "execution_count": null,
      "metadata": {
        "id": "3HS96PJ45f26",
        "colab": {
          "base_uri": "https://localhost:8080/"
        },
        "outputId": "747c0278-c522-4f75-c3b2-a796f4ee4413"
      },
      "outputs": [
        {
          "output_type": "stream",
          "name": "stdout",
          "text": [
            "cp: cannot create regular file '/etc/ImageMagick-6/policy.xml': No such file or directory\n"
          ]
        }
      ],
      "source": [
        "! cp -r $PIPELINE_FILE_PATH/svist4get/policy_revised.xml /etc/ImageMagick-6/policy.xml"
      ]
    },
    {
      "cell_type": "code",
      "execution_count": null,
      "metadata": {
        "id": "ZNVRJydu1wIV",
        "colab": {
          "base_uri": "https://localhost:8080/"
        },
        "outputId": "abb56b99-b144-4bab-8cb8-df3438f01ca6"
      },
      "outputs": [
        {
          "output_type": "stream",
          "name": "stdout",
          "text": [
            "Collecting svist4get\n",
            "  Downloading svist4get-1.2.24-py3-none-any.whl (5.8 MB)\n",
            "\u001b[K     |████████████████████████████████| 5.8 MB 23.5 MB/s \n",
            "\u001b[?25hCollecting wand\n",
            "  Downloading Wand-0.6.7-py2.py3-none-any.whl (139 kB)\n",
            "\u001b[K     |████████████████████████████████| 139 kB 61.4 MB/s \n",
            "\u001b[?25hCollecting configs\n",
            "  Downloading configs-3.0.3-py3-none-any.whl (7.1 kB)\n",
            "Collecting Pybedtools\n",
            "  Downloading pybedtools-0.9.0.tar.gz (12.5 MB)\n",
            "\u001b[K     |████████████████████████████████| 12.5 MB 48.6 MB/s \n",
            "\u001b[?25hCollecting reportlab\n",
            "  Downloading reportlab-3.6.6-cp39-cp39-manylinux_2_17_x86_64.manylinux2014_x86_64.whl (2.8 MB)\n",
            "\u001b[K     |████████████████████████████████| 2.8 MB 46.5 MB/s \n",
            "\u001b[?25hCollecting statistics\n",
            "  Downloading statistics-1.0.3.5.tar.gz (8.3 kB)\n",
            "Collecting argparse\n",
            "  Downloading argparse-1.4.0-py2.py3-none-any.whl (23 kB)\n",
            "Collecting biopython\n",
            "  Downloading biopython-1.79-cp39-cp39-manylinux_2_5_x86_64.manylinux1_x86_64.whl (2.3 MB)\n",
            "\u001b[K     |████████████████████████████████| 2.3 MB 42.2 MB/s \n",
            "\u001b[?25hRequirement already satisfied: six in /usr/local/lib/python3.9/site-packages (from Pybedtools->svist4get) (1.16.0)\n",
            "Collecting pysam\n",
            "  Downloading pysam-0.18.0-cp39-cp39-manylinux_2_12_x86_64.manylinux2010_x86_64.whl (15.6 MB)\n",
            "\u001b[K     |████████████████████████████████| 15.6 MB 47.6 MB/s \n",
            "\u001b[?25hCollecting pillow>=4.0.0\n",
            "  Downloading Pillow-9.0.1-cp39-cp39-manylinux_2_17_x86_64.manylinux2014_x86_64.whl (4.3 MB)\n",
            "\u001b[K     |████████████████████████████████| 4.3 MB 63.2 MB/s \n",
            "\u001b[?25hRequirement already satisfied: docutils>=0.3 in /usr/local/lib/python3.9/site-packages (from statistics->svist4get) (0.15.2)\n",
            "Requirement already satisfied: numpy in /usr/local/lib/python3.9/site-packages (from biopython->svist4get) (1.22.2)\n",
            "Building wheels for collected packages: Pybedtools, statistics\n",
            "  Building wheel for Pybedtools (setup.py) ... \u001b[?25l\u001b[?25hdone\n",
            "  Created wheel for Pybedtools: filename=pybedtools-0.9.0-cp39-cp39-linux_x86_64.whl size=12749601 sha256=f5584abb669f4579e417b4c251a4ef9f19ca43dae9f5499a3d8fa405a167ab2d\n",
            "  Stored in directory: /root/.cache/pip/wheels/6f/fc/24/7900a6b618e0a104cd8a2d4024ce4bb94569917b4417af2e95\n",
            "  Building wheel for statistics (setup.py) ... \u001b[?25l\u001b[?25hdone\n",
            "  Created wheel for statistics: filename=statistics-1.0.3.5-py3-none-any.whl size=7454 sha256=a03b5146fd80b6cb7d303a9ae6eebfed242e4a63bd1bd04a64aaa8ad820cdb19\n",
            "  Stored in directory: /root/.cache/pip/wheels/26/3c/70/9467407f3aa90862061eadcd286627b23a8bab6789b667776f\n",
            "Successfully built Pybedtools statistics\n",
            "Installing collected packages: wand, configs, pysam, Pybedtools, pillow, reportlab, statistics, argparse, biopython, svist4get\n",
            "Successfully installed Pybedtools-0.9.0 argparse-1.4.0 biopython-1.79 configs-3.0.3 pillow-9.0.1 pysam-0.18.0 reportlab-3.6.6 statistics-1.0.3.5 svist4get-1.2.24 wand-0.6.7\n"
          ]
        }
      ],
      "source": [
        "! python3 -m pip install svist4get"
      ]
    },
    {
      "cell_type": "markdown",
      "source": [
        "##svist4get: a simple visualization tool for genomic tracks from sequencing experiments - usage"
      ],
      "metadata": {
        "id": "S9r4MCB0lvAf"
      }
    },
    {
      "cell_type": "markdown",
      "source": [
        "svist4get allows you to view read coverage at a defined region on a chromosome (documentation: https://bitbucket.org/artegorov/svist4get/src/master/)"
      ],
      "metadata": {
        "id": "3T2Y3dcAnaWu"
      }
    },
    {
      "cell_type": "code",
      "execution_count": null,
      "metadata": {
        "id": "ehHeatJQCZ42"
      },
      "outputs": [],
      "source": [
        "! bedtools genomecov -ibam $PIPELINE_FILE_PATH/bam/$ACC.sorted.bam -bg > $PIPELINE_FILE_PATH/bed/$ACC.sorted.bedgraph"
      ]
    },
    {
      "cell_type": "code",
      "execution_count": null,
      "metadata": {
        "id": "OpQMW3gI15ZI",
        "colab": {
          "base_uri": "https://localhost:8080/"
        },
        "outputId": "60809e10-2148-4564-ebea-14f0b034c902"
      },
      "outputs": [
        {
          "output_type": "stream",
          "name": "stdout",
          "text": [
            "Traceback (most recent call last):\n",
            "  File \"/usr/local/lib/python3.9/site-packages/wand/api.py\", line 151, in <module>\n",
            "    libraries = load_library()\n",
            "  File \"/usr/local/lib/python3.9/site-packages/wand/api.py\", line 140, in load_library\n",
            "    raise IOError('cannot find library; tried paths: ' + repr(tried_paths))\n",
            "OSError: cannot find library; tried paths: []\n",
            "\n",
            "During handling of the above exception, another exception occurred:\n",
            "\n",
            "Traceback (most recent call last):\n",
            "  File \"/usr/local/bin/svist4get\", line 5, in <module>\n",
            "    import svist4get.data_processing as data_processing\n",
            "  File \"/usr/local/lib/python3.9/site-packages/svist4get/__init__.py\", line 1, in <module>\n",
            "    from .data_processing import *\n",
            "  File \"/usr/local/lib/python3.9/site-packages/svist4get/data_processing.py\", line 7, in <module>\n",
            "    import svist4get.methods as methods\n",
            "  File \"/usr/local/lib/python3.9/site-packages/svist4get/methods.py\", line 4, in <module>\n",
            "    from wand.image import Image, Color\n",
            "  File \"/usr/local/lib/python3.9/site-packages/wand/image.py\", line 18, in <module>\n",
            "    from . import assertions\n",
            "  File \"/usr/local/lib/python3.9/site-packages/wand/assertions.py\", line 155, in <module>\n",
            "    from .color import Color  # noqa: E402\n",
            "  File \"/usr/local/lib/python3.9/site-packages/wand/color.py\", line 10, in <module>\n",
            "    from .api import library\n",
            "  File \"/usr/local/lib/python3.9/site-packages/wand/api.py\", line 175, in <module>\n",
            "    raise ImportError('MagickWand shared library not found.\\n'\n",
            "ImportError: MagickWand shared library not found.\n",
            "You probably had not installed ImageMagick library.\n",
            "Try to install:\n",
            "  https://docs.wand-py.org/en/latest/guide/install.html\n"
          ]
        }
      ],
      "source": [
        "! eval svist4get -bg $PIPELINE_FILE_PATH/bed/$ACC.sorted.bedgraph -gtf $ANNOTATION_FILE_PATH -fa $INDEX_FILE_PATH -bl Long-Read Coverage -w $CHROMOSOME $CHROMOSOME_START $CHROMOSOME_FINISH -it \"$REGION_NAME\" -o $PIPELINE_FILE_PATH/svist4get/$ACC"
      ]
    },
    {
      "cell_type": "markdown",
      "source": [
        "##AlignQC: Long read alignment analysis - installation"
      ],
      "metadata": {
        "id": "oaWQESsSLnIj"
      }
    },
    {
      "cell_type": "markdown",
      "source": [
        "AlignQC generates a reports on sequence alignments for mappability vs read sizes, error patterns, annotations and rarefraction curve analysis (documentation: https://github.com/jason-weirather/AlignQC/wiki). "
      ],
      "metadata": {
        "id": "i9VSTnBCLoaQ"
      }
    },
    {
      "cell_type": "code",
      "source": [
        "! conda create -n alignqc -c vacation alignqc"
      ],
      "metadata": {
        "colab": {
          "base_uri": "https://localhost:8080/"
        },
        "id": "DD2L_KuHLouw",
        "outputId": "f057eddd-135a-46b8-b063-34a26c642e76"
      },
      "execution_count": null,
      "outputs": [
        {
          "output_type": "stream",
          "name": "stdout",
          "text": [
            "Collecting package metadata (current_repodata.json): - \b\b\\ \b\b| \b\b/ \b\b- \b\b\\ \b\b| \b\b/ \b\b- \b\b\\ \b\b| \b\b/ \b\b- \b\b\\ \b\b| \b\b/ \b\bdone\n",
            "Solving environment: \\ \b\b| \b\bfailed with repodata from current_repodata.json, will retry with next repodata source.\n",
            "\n",
            "CondaError: KeyboardInterrupt\n",
            "\n"
          ]
        }
      ]
    },
    {
      "cell_type": "markdown",
      "source": [
        "##AlignQC: Long read alignment analysis - usage"
      ],
      "metadata": {
        "id": "f3VjubgsKGJl"
      }
    },
    {
      "cell_type": "markdown",
      "source": [
        "AlignQC generates a reports on sequence alignments for mappability vs read sizes, error patterns, annotations and rarefraction curve analysis (documentation: https://github.com/jason-weirather/AlignQC/wiki). "
      ],
      "metadata": {
        "id": "_nbhuHDcKGZ6"
      }
    },
    {
      "cell_type": "code",
      "source": [
        "! source activate alignqc && eval alignqc analyze $PIPELINE_FILE_PATH/bam/$ACC.sorted.bam --no_genome -t $ANNOTATION_FILE_PATH.gz -o $PIPELINE_FILE_PATH/alignqc/$ACC.xhtml"
      ],
      "metadata": {
        "colab": {
          "base_uri": "https://localhost:8080/"
        },
        "id": "S62geTscLqq2",
        "outputId": "c31af206-0c1c-4586-bff7-23684ef1ce56"
      },
      "execution_count": null,
      "outputs": [
        {
          "output_type": "stream",
          "name": "stdout",
          "text": [
            "Could not find conda environment: alignqc\n",
            "You can list all discoverable environments with `conda info --envs`.\n",
            "\n"
          ]
        }
      ]
    },
    {
      "cell_type": "markdown",
      "source": [
        "##MakeHub: Fully automated generation of UCSC assembly hubs - installation"
      ],
      "metadata": {
        "id": "EQn9Ikb3YkFC"
      }
    },
    {
      "cell_type": "markdown",
      "source": [
        "MakeHub is a command line tool for the fully automatic generation of of track data hubs for visualizing genomes with the UCSC genome browser (documentation: https://github.com/Gaius-Augustus/MakeHub)."
      ],
      "metadata": {
        "id": "X7J1qXU1bmXd"
      }
    },
    {
      "cell_type": "code",
      "source": [
        "! python3.7 -m pip install biopython"
      ],
      "metadata": {
        "colab": {
          "base_uri": "https://localhost:8080/"
        },
        "id": "_eYWwdsmdsBa",
        "outputId": "e1a1c8bb-b0e3-4887-a251-5ef29f93d2e5"
      },
      "execution_count": null,
      "outputs": [
        {
          "output_type": "stream",
          "name": "stdout",
          "text": [
            "Traceback (most recent call last):\n",
            "  File \"/usr/lib/python3.7/runpy.py\", line 193, in _run_module_as_main\n",
            "    \"__main__\", mod_spec)\n",
            "  File \"/usr/lib/python3.7/runpy.py\", line 85, in _run_code\n",
            "    exec(code, run_globals)\n",
            "  File \"/usr/local/lib/python3.7/dist-packages/pip/__main__.py\", line 29, in <module>\n",
            "    from pip._internal.cli.main import main as _main\n",
            "  File \"/usr/local/lib/python3.7/dist-packages/pip/_internal/cli/main.py\", line 9, in <module>\n",
            "    from pip._internal.cli.autocompletion import autocomplete\n",
            "  File \"/usr/local/lib/python3.7/dist-packages/pip/_internal/cli/autocompletion.py\", line 10, in <module>\n",
            "    from pip._internal.cli.main_parser import create_main_parser\n",
            "  File \"/usr/local/lib/python3.7/dist-packages/pip/_internal/cli/main_parser.py\", line 8, in <module>\n",
            "    from pip._internal.cli import cmdoptions\n",
            "  File \"/usr/local/lib/python3.7/dist-packages/pip/_internal/cli/cmdoptions.py\", line 21, in <module>\n",
            "    from pip._vendor.packaging.utils import canonicalize_name\n",
            "  File \"/usr/local/lib/python3.7/dist-packages/pip/_vendor/packaging/utils.py\", line 9, in <module>\n",
            "    from .tags import Tag, parse_tag\n",
            "  File \"/usr/local/lib/python3.7/dist-packages/pip/_vendor/packaging/tags.py\", line 7, in <module>\n",
            "    import distutils.util\n",
            "  File \"/usr/lib/python3.7/distutils/util.py\", line 14, in <module>\n",
            "    from distutils.spawn import spawn\n",
            "  File \"<frozen importlib._bootstrap>\", line 983, in _find_and_load\n",
            "  File \"<frozen importlib._bootstrap>\", line 967, in _find_and_load_unlocked\n",
            "  File \"<frozen importlib._bootstrap>\", line 677, in _load_unlocked\n",
            "  File \"<frozen importlib._bootstrap_external>\", line 724, in exec_module\n",
            "  File \"<frozen importlib._bootstrap_external>\", line 818, in get_code\n",
            "  File \"<frozen importlib._bootstrap_external>\", line 917, in get_data\n",
            "KeyboardInterrupt\n"
          ]
        }
      ]
    },
    {
      "cell_type": "code",
      "source": [
        "! sudo apt install samtools"
      ],
      "metadata": {
        "colab": {
          "base_uri": "https://localhost:8080/"
        },
        "id": "Fu1IcmMbdsxV",
        "outputId": "3a92f665-2964-4a65-f220-7d71d1518926"
      },
      "execution_count": null,
      "outputs": [
        {
          "output_type": "stream",
          "name": "stdout",
          "text": [
            "Reading package lists... Done\n",
            "Building dependency tree       \n",
            "Reading state information... Done\n",
            "The following packages were automatically installed and are no longer required:\n",
            "  cuda-command-line-tools-10-0 cuda-command-line-tools-10-1\n",
            "  cuda-command-line-tools-11-0 cuda-compiler-10-0 cuda-compiler-10-1\n",
            "  cuda-compiler-11-0 cuda-cuobjdump-10-0 cuda-cuobjdump-10-1\n",
            "  cuda-cuobjdump-11-0 cuda-cupti-10-0 cuda-cupti-10-1 cuda-cupti-11-0\n",
            "  cuda-cupti-dev-11-0 cuda-documentation-10-0 cuda-documentation-10-1\n",
            "  cuda-documentation-11-0 cuda-documentation-11-1 cuda-gdb-10-0 cuda-gdb-10-1\n",
            "  cuda-gdb-11-0 cuda-gpu-library-advisor-10-0 cuda-gpu-library-advisor-10-1\n",
            "  cuda-libraries-10-0 cuda-libraries-10-1 cuda-libraries-11-0\n",
            "  cuda-memcheck-10-0 cuda-memcheck-10-1 cuda-memcheck-11-0 cuda-nsight-10-0\n",
            "  cuda-nsight-10-1 cuda-nsight-11-0 cuda-nsight-11-1 cuda-nsight-compute-10-0\n",
            "  cuda-nsight-compute-10-1 cuda-nsight-compute-11-0 cuda-nsight-compute-11-1\n",
            "  cuda-nsight-systems-10-1 cuda-nsight-systems-11-0 cuda-nsight-systems-11-1\n",
            "  cuda-nvcc-10-0 cuda-nvcc-10-1 cuda-nvcc-11-0 cuda-nvdisasm-10-0\n",
            "  cuda-nvdisasm-10-1 cuda-nvdisasm-11-0 cuda-nvml-dev-10-0 cuda-nvml-dev-10-1\n",
            "  cuda-nvml-dev-11-0 cuda-nvprof-10-0 cuda-nvprof-10-1 cuda-nvprof-11-0\n",
            "  cuda-nvprune-10-0 cuda-nvprune-10-1 cuda-nvprune-11-0 cuda-nvtx-10-0\n",
            "  cuda-nvtx-10-1 cuda-nvtx-11-0 cuda-nvvp-10-0 cuda-nvvp-10-1 cuda-nvvp-11-0\n",
            "  cuda-nvvp-11-1 cuda-samples-10-0 cuda-samples-10-1 cuda-samples-11-0\n",
            "  cuda-samples-11-1 cuda-sanitizer-11-0 cuda-sanitizer-api-10-1\n",
            "  cuda-toolkit-10-0 cuda-toolkit-10-1 cuda-toolkit-11-0 cuda-toolkit-11-1\n",
            "  cuda-tools-10-0 cuda-tools-10-1 cuda-tools-11-0 cuda-tools-11-1\n",
            "  cuda-visual-tools-10-0 cuda-visual-tools-10-1 cuda-visual-tools-11-0\n",
            "  cuda-visual-tools-11-1 default-jre dkms freeglut3 freeglut3-dev\n",
            "  keyboard-configuration libargon2-0 libcap2 libcryptsetup12\n",
            "  libdevmapper1.02.1 libfontenc1 libidn11 libip4tc0 libjansson4\n",
            "  libnvidia-cfg1-510 libnvidia-common-460 libnvidia-common-510\n",
            "  libnvidia-extra-510 libnvidia-fbc1-510 libnvidia-gl-510 libpam-systemd\n",
            "  libpolkit-agent-1-0 libpolkit-backend-1-0 libpolkit-gobject-1-0 libxfont2\n",
            "  libxi-dev libxkbfile1 libxmu-dev libxmu-headers libxnvctrl0 libxtst6\n",
            "  nsight-compute-2020.2.1 nsight-compute-2022.1.0 nsight-systems-2020.3.2\n",
            "  nsight-systems-2020.3.4 nsight-systems-2021.5.2 nvidia-dkms-510\n",
            "  nvidia-kernel-common-510 nvidia-kernel-source-510 nvidia-modprobe\n",
            "  nvidia-settings openjdk-11-jre policykit-1 policykit-1-gnome python3-xkit\n",
            "  screen-resolution-extra systemd systemd-sysv udev x11-xkb-utils\n",
            "  xserver-common xserver-xorg-core-hwe-18.04 xserver-xorg-video-nvidia-510\n",
            "Use 'sudo apt autoremove' to remove them.\n",
            "The following additional packages will be installed:\n",
            "  cwltool libc-ares2 libhts2 libjs-bootstrap nodejs nodejs-doc\n",
            "  python-asn1crypto python-avro python-cachecontrol python-certifi\n",
            "  python-cffi-backend python-chardet python-cryptography python-enum34\n",
            "  python-html5lib python-idna python-ipaddress python-isodate python-lockfile\n",
            "  python-mistune python-openssl python-pkg-resources python-pyparsing\n",
            "  python-rdflib python-rdflib-jsonld python-requests python-ruamel.yaml\n",
            "  python-schema-salad python-shellescape python-six python-sparqlwrapper\n",
            "  python-typing python-urllib3 python-webencodings\n",
            "Suggested packages:\n",
            "  python-cryptography-doc python-cryptography-vectors python-enum34-doc\n",
            "  python-genshi python-lxml python-lockfile-doc python-openssl-doc\n",
            "  python-openssl-dbg python-setuptools python-pyparsing-doc python-rdflib-doc\n",
            "  python-rdflib-tools python-socks python-ntlm\n",
            "The following NEW packages will be installed:\n",
            "  cwltool libc-ares2 libhts2 libjs-bootstrap nodejs nodejs-doc\n",
            "  python-asn1crypto python-avro python-cachecontrol python-certifi\n",
            "  python-cffi-backend python-chardet python-cryptography python-enum34\n",
            "  python-html5lib python-idna python-ipaddress python-isodate python-lockfile\n",
            "  python-mistune python-openssl python-pkg-resources python-pyparsing\n",
            "  python-rdflib python-rdflib-jsonld python-requests python-ruamel.yaml\n",
            "  python-schema-salad python-shellescape python-six python-sparqlwrapper\n",
            "  python-typing python-urllib3 python-webencodings samtools\n",
            "0 upgraded, 35 newly installed, 0 to remove and 56 not upgraded.\n",
            "Need to get 8,568 kB of archives.\n",
            "After this operation, 41.0 MB of additional disk space will be used.\n",
            "Get:1 http://archive.ubuntu.com/ubuntu bionic/main amd64 python-pkg-resources all 39.0.1-2 [128 kB]\n",
            "Get:2 http://archive.ubuntu.com/ubuntu bionic/main amd64 python-six all 1.11.0-2 [11.3 kB]\n",
            "Get:3 http://archive.ubuntu.com/ubuntu bionic/universe amd64 python-isodate all 0.6.0-1 [23.8 kB]\n",
            "Get:4 http://archive.ubuntu.com/ubuntu bionic/main amd64 python-pyparsing all 2.2.0+dfsg1-2 [52.1 kB]\n",
            "Get:5 http://archive.ubuntu.com/ubuntu bionic/universe amd64 python-rdflib all 4.2.1-2 [237 kB]\n",
            "Get:6 http://archive.ubuntu.com/ubuntu bionic/main amd64 python-certifi all 2018.1.18-2 [144 kB]\n",
            "Get:7 http://archive.ubuntu.com/ubuntu bionic/main amd64 python-chardet all 3.0.4-1 [80.3 kB]\n",
            "Get:8 http://archive.ubuntu.com/ubuntu bionic/main amd64 python-idna all 2.6-1 [32.4 kB]\n",
            "Get:9 http://archive.ubuntu.com/ubuntu bionic-updates/main amd64 python-urllib3 all 1.22-1ubuntu0.18.04.2 [86.0 kB]\n",
            "Get:10 http://archive.ubuntu.com/ubuntu bionic-updates/main amd64 python-requests all 2.18.4-2ubuntu0.1 [58.5 kB]\n",
            "Get:11 http://archive.ubuntu.com/ubuntu bionic/universe amd64 python-ruamel.yaml amd64 0.15.34-1 [183 kB]\n",
            "Get:12 http://archive.ubuntu.com/ubuntu bionic/universe amd64 python-cachecontrol all 0.11.7-1 [15.2 kB]\n",
            "Get:13 http://archive.ubuntu.com/ubuntu bionic/main amd64 python-lockfile all 1:0.12.2-2 [14.6 kB]\n",
            "Get:14 http://archive.ubuntu.com/ubuntu bionic/universe amd64 python-mistune all 0.8.3-2 [13.8 kB]\n",
            "Get:15 http://archive.ubuntu.com/ubuntu bionic/universe amd64 python-rdflib-jsonld all 0.4.0-3 [12.2 kB]\n",
            "Get:16 http://archive.ubuntu.com/ubuntu bionic/universe amd64 python-typing all 3.6.2-1 [22.2 kB]\n",
            "Get:17 http://archive.ubuntu.com/ubuntu bionic/universe amd64 python-avro all 1.8.2+dfsg-1 [23.2 kB]\n",
            "Get:18 http://archive.ubuntu.com/ubuntu bionic/universe amd64 libjs-bootstrap all 3.3.7+dfsg-2 [228 kB]\n",
            "Get:19 http://archive.ubuntu.com/ubuntu bionic/universe amd64 python-schema-salad all 2.6.20171201034858-3 [260 kB]\n",
            "Get:20 http://archive.ubuntu.com/ubuntu bionic/universe amd64 python-shellescape all 3.4.1-2 [4,432 B]\n",
            "Get:21 http://archive.ubuntu.com/ubuntu bionic/universe amd64 cwltool all 1.0.20180302231433-1 [143 kB]\n",
            "Get:22 http://archive.ubuntu.com/ubuntu bionic/universe amd64 libhts2 amd64 1.7-2 [300 kB]\n",
            "Get:23 http://archive.ubuntu.com/ubuntu bionic-updates/universe amd64 nodejs-doc all 8.10.0~dfsg-2ubuntu0.4 [752 kB]\n",
            "Get:24 http://archive.ubuntu.com/ubuntu bionic/main amd64 python-asn1crypto all 0.24.0-1 [72.7 kB]\n",
            "Get:25 http://archive.ubuntu.com/ubuntu bionic/main amd64 python-cffi-backend amd64 1.11.5-1 [63.4 kB]\n",
            "Get:26 http://archive.ubuntu.com/ubuntu bionic/main amd64 python-enum34 all 1.1.6-2 [34.8 kB]\n",
            "Get:27 http://archive.ubuntu.com/ubuntu bionic/main amd64 python-ipaddress all 1.0.17-1 [18.2 kB]\n",
            "Get:28 http://archive.ubuntu.com/ubuntu bionic-updates/main amd64 python-cryptography amd64 2.1.4-1ubuntu1.4 [276 kB]\n",
            "Get:29 http://archive.ubuntu.com/ubuntu bionic/main amd64 python-webencodings all 0.5-2 [10.3 kB]\n",
            "Get:30 http://archive.ubuntu.com/ubuntu bionic/main amd64 python-html5lib all 0.999999999-1 [83.6 kB]\n",
            "Get:31 http://archive.ubuntu.com/ubuntu bionic/main amd64 python-openssl all 17.5.0-1ubuntu1 [41.3 kB]\n",
            "Get:32 http://archive.ubuntu.com/ubuntu bionic/universe amd64 python-sparqlwrapper all 1.7.6-2 [21.8 kB]\n",
            "Get:33 http://archive.ubuntu.com/ubuntu bionic/universe amd64 samtools amd64 1.7-1 [288 kB]\n",
            "Get:34 http://archive.ubuntu.com/ubuntu bionic-updates/main amd64 libc-ares2 amd64 1.14.0-1ubuntu0.1 [37.5 kB]\n",
            "Get:35 http://archive.ubuntu.com/ubuntu bionic-updates/universe amd64 nodejs amd64 8.10.0~dfsg-2ubuntu0.4 [4,796 kB]\n",
            "Fetched 8,568 kB in 1s (7,438 kB/s)\n",
            "E: Sub-process /usr/sbin/dpkg-preconfigure --apt || true received signal 2.\n",
            "E: Failure running script /usr/sbin/dpkg-preconfigure --apt || true\n"
          ]
        }
      ]
    },
    {
      "cell_type": "code",
      "source": [
        "! sudo apt install augustus augustus-data augustus-doc"
      ],
      "metadata": {
        "colab": {
          "base_uri": "https://localhost:8080/"
        },
        "id": "yudzuOTW2IQ-",
        "outputId": "b363c94f-aff5-4eac-e354-fc2bfa3b9e1b"
      },
      "execution_count": null,
      "outputs": [
        {
          "output_type": "stream",
          "name": "stdout",
          "text": [
            "Reading package lists... Done\n",
            "Building dependency tree       \n",
            "Reading state information... Done\n",
            "The following packages were automatically installed and are no longer required:\n",
            "  cuda-command-line-tools-10-0 cuda-command-line-tools-10-1\n",
            "  cuda-command-line-tools-11-0 cuda-compiler-10-0 cuda-compiler-10-1\n",
            "  cuda-compiler-11-0 cuda-cuobjdump-10-0 cuda-cuobjdump-10-1\n",
            "  cuda-cuobjdump-11-0 cuda-cupti-10-0 cuda-cupti-10-1 cuda-cupti-11-0\n",
            "  cuda-cupti-dev-11-0 cuda-documentation-10-0 cuda-documentation-10-1\n",
            "  cuda-documentation-11-0 cuda-documentation-11-1 cuda-gdb-10-0 cuda-gdb-10-1\n",
            "  cuda-gdb-11-0 cuda-gpu-library-advisor-10-0 cuda-gpu-library-advisor-10-1\n",
            "  cuda-libraries-10-0 cuda-libraries-10-1 cuda-libraries-11-0\n",
            "  cuda-memcheck-10-0 cuda-memcheck-10-1 cuda-memcheck-11-0 cuda-nsight-10-0\n",
            "  cuda-nsight-10-1 cuda-nsight-11-0 cuda-nsight-11-1 cuda-nsight-compute-10-0\n",
            "  cuda-nsight-compute-10-1 cuda-nsight-compute-11-0 cuda-nsight-compute-11-1\n",
            "  cuda-nsight-systems-10-1 cuda-nsight-systems-11-0 cuda-nsight-systems-11-1\n",
            "  cuda-nvcc-10-0 cuda-nvcc-10-1 cuda-nvcc-11-0 cuda-nvdisasm-10-0\n",
            "  cuda-nvdisasm-10-1 cuda-nvdisasm-11-0 cuda-nvml-dev-10-0 cuda-nvml-dev-10-1\n",
            "  cuda-nvml-dev-11-0 cuda-nvprof-10-0 cuda-nvprof-10-1 cuda-nvprof-11-0\n",
            "  cuda-nvprune-10-0 cuda-nvprune-10-1 cuda-nvprune-11-0 cuda-nvtx-10-0\n",
            "  cuda-nvtx-10-1 cuda-nvtx-11-0 cuda-nvvp-10-0 cuda-nvvp-10-1 cuda-nvvp-11-0\n",
            "  cuda-nvvp-11-1 cuda-samples-10-0 cuda-samples-10-1 cuda-samples-11-0\n",
            "  cuda-samples-11-1 cuda-sanitizer-11-0 cuda-sanitizer-api-10-1\n",
            "  cuda-toolkit-10-0 cuda-toolkit-10-1 cuda-toolkit-11-0 cuda-toolkit-11-1\n",
            "  cuda-tools-10-0 cuda-tools-10-1 cuda-tools-11-0 cuda-tools-11-1\n",
            "  cuda-visual-tools-10-0 cuda-visual-tools-10-1 cuda-visual-tools-11-0\n",
            "  cuda-visual-tools-11-1 default-jre dkms freeglut3 freeglut3-dev\n",
            "  keyboard-configuration libargon2-0 libcap2 libcryptsetup12\n",
            "  libdevmapper1.02.1 libfontenc1 libidn11 libip4tc0 libjansson4\n",
            "  libnvidia-cfg1-510 libnvidia-common-460 libnvidia-common-510\n",
            "  libnvidia-extra-510 libnvidia-fbc1-510 libnvidia-gl-510 libpam-systemd\n",
            "  libpolkit-agent-1-0 libpolkit-backend-1-0 libpolkit-gobject-1-0 libxfont2\n",
            "  libxi-dev libxkbfile1 libxmu-dev libxmu-headers libxnvctrl0 libxtst6\n",
            "  nsight-compute-2020.2.1 nsight-compute-2022.1.0 nsight-systems-2020.3.2\n",
            "  nsight-systems-2020.3.4 nsight-systems-2021.5.2 nvidia-dkms-510\n",
            "  nvidia-kernel-common-510 nvidia-kernel-source-510 nvidia-modprobe\n",
            "  nvidia-settings openjdk-11-jre policykit-1 policykit-1-gnome python3-xkit\n",
            "  screen-resolution-extra systemd systemd-sysv udev x11-xkb-utils\n",
            "  xserver-common xserver-xorg-core-hwe-18.04 xserver-xorg-video-nvidia-510\n",
            "Use 'sudo apt autoremove' to remove them.\n",
            "The following additional packages will be installed:\n",
            "  libbamtools2.4.0\n",
            "The following NEW packages will be installed:\n",
            "  augustus augustus-data augustus-doc libbamtools2.4.0\n",
            "0 upgraded, 4 newly installed, 0 to remove and 56 not upgraded.\n",
            "Need to get 33.6 MB of archives.\n",
            "After this operation, 244 MB of additional disk space will be used.\n",
            "Get:1 http://archive.ubuntu.com/ubuntu bionic/universe amd64 libbamtools2.4.0 amd64 2.4.1+dfsg-2 [181 kB]\n",
            "Get:2 http://archive.ubuntu.com/ubuntu bionic/universe amd64 augustus-data all 3.3+dfsg-2build1 [15.3 MB]\n",
            "Get:3 http://archive.ubuntu.com/ubuntu bionic/universe amd64 augustus amd64 3.3+dfsg-2build1 [1,144 kB]\n",
            "Get:4 http://archive.ubuntu.com/ubuntu bionic/universe amd64 augustus-doc all 3.3+dfsg-2build1 [16.9 MB]\n",
            "Fetched 33.6 MB in 2s (20.7 MB/s)\n",
            "debconf: unable to initialize frontend: Dialog\n",
            "debconf: (No usable dialog-like program is installed, so the dialog based frontend cannot be used. at /usr/share/perl5/Debconf/FrontEnd/Dialog.pm line 76, <> line 4.)\n",
            "debconf: falling back to frontend: Readline\n",
            "debconf: unable to initialize frontend: Readline\n",
            "debconf: (This frontend requires a controlling tty.)\n",
            "debconf: falling back to frontend: Teletype\n",
            "dpkg-preconfigure: unable to re-open stdin: \n",
            "Selecting previously unselected package libbamtools2.4.0.\n",
            "(Reading database ... 155181 files and directories currently installed.)\n",
            "Preparing to unpack .../libbamtools2.4.0_2.4.1+dfsg-2_amd64.deb ...\n",
            "Unpacking libbamtools2.4.0 (2.4.1+dfsg-2) ...\n",
            "Selecting previously unselected package augustus-data.\n",
            "Preparing to unpack .../augustus-data_3.3+dfsg-2build1_all.deb ...\n",
            "Unpacking augustus-data (3.3+dfsg-2build1) ...\n",
            "Selecting previously unselected package augustus.\n",
            "Preparing to unpack .../augustus_3.3+dfsg-2build1_amd64.deb ...\n",
            "Unpacking augustus (3.3+dfsg-2build1) ...\n",
            "Selecting previously unselected package augustus-doc.\n",
            "Preparing to unpack .../augustus-doc_3.3+dfsg-2build1_all.deb ...\n",
            "Unpacking augustus-doc (3.3+dfsg-2build1) ...\n",
            "Setting up libbamtools2.4.0 (2.4.1+dfsg-2) ...\n",
            "Setting up augustus-doc (3.3+dfsg-2build1) ...\n",
            "Setting up augustus-data (3.3+dfsg-2build1) ...\n",
            "Setting up augustus (3.3+dfsg-2build1) ...\n",
            "Processing triggers for man-db (2.8.3-2ubuntu0.1) ...\n",
            "Processing triggers for libc-bin (2.27-3ubuntu1.3) ...\n",
            "/sbin/ldconfig.real: file /usr/local/lib/libjawt.so is truncated\n",
            "\n",
            "/sbin/ldconfig.real: file /usr/local/lib/libjli.so is truncated\n",
            "\n",
            "/sbin/ldconfig.real: file /usr/local/lib/libnet.so is truncated\n",
            "\n",
            "/sbin/ldconfig.real: /usr/local/lib/python3.7/dist-packages/ideep4py/lib/libmkldnn.so.0 is not a symbolic link\n",
            "\n",
            "W: Operation was interrupted before it could finish\n"
          ]
        }
      ]
    },
    {
      "cell_type": "markdown",
      "source": [
        "##MakeHub: Fully automated generation of UCSC assembly hubs - usage"
      ],
      "metadata": {
        "id": "POLtVVCEKndf"
      }
    },
    {
      "cell_type": "markdown",
      "source": [
        "MakeHub is a command line tool for the fully automatic generation of of track data hubs for visualizing genomes with the UCSC genome browser (documentation: https://github.com/Gaius-Augustus/MakeHub)."
      ],
      "metadata": {
        "id": "ZcW7zXOoKrCy"
      }
    },
    {
      "cell_type": "code",
      "source": [
        "! chmod 755 $PIPELINE_FILE_PATH/makehub/make_hub.py"
      ],
      "metadata": {
        "id": "fMN2TYdniufR"
      },
      "execution_count": null,
      "outputs": []
    },
    {
      "cell_type": "code",
      "source": [
        "! eval $PIPELINE_FILE_PATH/makehub/make_hub.py -l $HUB_KEYWORD -L $HUB_NAME -g $INDEX_FILE_PATH -e \\\n",
        "  $HUB_EMAIL -a $ANNOTATION_FILE_PATH -b $PIPELINE_FILE_PATH/bam/$ACC.sorted.bam -o $PIPELINE_FILE_PATH/makehub/"
      ],
      "metadata": {
        "colab": {
          "base_uri": "https://localhost:8080/"
        },
        "id": "pVA2mrrjZ2yM",
        "outputId": "855d132f-f939-49f7-a5f7-98ec38f53143"
      },
      "execution_count": null,
      "outputs": [
        {
          "output_type": "stream",
          "name": "stdout",
          "text": [
            "usage: make_hub.py\n",
            "       [-h]\n",
            "       [-p]\n",
            "       [-e EMAIL]\n",
            "       [-g GENOME]\n",
            "       [-L LONG_LABEL]\n",
            "       [-l SHORT_LABEL]\n",
            "       [-b BAM [BAM ...]]\n",
            "       [-c CORES]\n",
            "       [-d]\n",
            "       [-E GEMOMA_FILTERED_PREDICTIONS]\n",
            "       [-X BRAKER_OUT_DIR]\n",
            "       [-M MAKER_GFF]\n",
            "       [-I GLIMMER_GFF]\n",
            "       [-S SNAP_GFF]\n",
            "       [-a ANNOT]\n",
            "       [-G GENE_TRACK [GENE_TRACK ...]]\n",
            "       [-A]\n",
            "       [-o OUTDIR]\n",
            "       [-n]\n",
            "       [-s SAMTOOLS_PATH]\n",
            "       [-B BAM2WIG_PATH]\n",
            "       [-i HINTS]\n",
            "       [-t TRAINGENES]\n",
            "       [-m GENEMARK]\n",
            "       [-w AUG_AB_INITIO]\n",
            "       [-x AUG_HINTS]\n",
            "       [-y AUG_AB_INITIO_UTR]\n",
            "       [-z AUG_HINTS_UTR]\n",
            "       [-N LATIN_NAME]\n",
            "       [-V ASSEMBLY_VERSION]\n",
            "       [-r]\n",
            "       [-P]\n",
            "       [-u VERBOSITY]\n",
            "       [-v]\n",
            "make_hub.py: error: unrecognized arguments: LINC00173\"\n"
          ]
        }
      ]
    },
    {
      "cell_type": "markdown",
      "source": [
        "##MultiQC: Aggregate results from bioinformatics analyses across many samples into a single report - installation\n",
        "\n"
      ],
      "metadata": {
        "id": "kpfzCCTKuqMt"
      }
    },
    {
      "cell_type": "markdown",
      "metadata": {
        "id": "Jluk65BgNoEJ"
      },
      "source": [
        "MultiQC is a program which allows you to combine reports for as many samples as you wish ([documentation](https://multiqc.info/docs/))"
      ]
    },
    {
      "cell_type": "code",
      "metadata": {
        "colab": {
          "base_uri": "https://localhost:8080/"
        },
        "id": "B6OuaTChNs4J",
        "outputId": "de9f50ae-d0c5-4043-b1ca-ec39b7d36dc7"
      },
      "source": [
        "! pip install multiqc"
      ],
      "execution_count": null,
      "outputs": [
        {
          "output_type": "stream",
          "name": "stdout",
          "text": [
            "Collecting multiqc\n",
            "  Downloading multiqc-1.11-py3-none-any.whl (1.2 MB)\n",
            "\u001b[?25l\r\u001b[K     |▎                               | 10 kB 20.4 MB/s eta 0:00:01\r\u001b[K     |▌                               | 20 kB 22.3 MB/s eta 0:00:01\r\u001b[K     |▉                               | 30 kB 26.6 MB/s eta 0:00:01\r\u001b[K     |█                               | 40 kB 28.7 MB/s eta 0:00:01\r\u001b[K     |█▍                              | 51 kB 29.0 MB/s eta 0:00:01\r\u001b[K     |█▋                              | 61 kB 26.2 MB/s eta 0:00:01\r\u001b[K     |██                              | 71 kB 21.9 MB/s eta 0:00:01\r\u001b[K     |██▏                             | 81 kB 23.5 MB/s eta 0:00:01\r\u001b[K     |██▌                             | 92 kB 24.7 MB/s eta 0:00:01\r\u001b[K     |██▊                             | 102 kB 23.3 MB/s eta 0:00:01\r\u001b[K     |███                             | 112 kB 23.3 MB/s eta 0:00:01\r\u001b[K     |███▎                            | 122 kB 23.3 MB/s eta 0:00:01\r\u001b[K     |███▋                            | 133 kB 23.3 MB/s eta 0:00:01\r\u001b[K     |███▉                            | 143 kB 23.3 MB/s eta 0:00:01\r\u001b[K     |████                            | 153 kB 23.3 MB/s eta 0:00:01\r\u001b[K     |████▍                           | 163 kB 23.3 MB/s eta 0:00:01\r\u001b[K     |████▋                           | 174 kB 23.3 MB/s eta 0:00:01\r\u001b[K     |█████                           | 184 kB 23.3 MB/s eta 0:00:01\r\u001b[K     |█████▏                          | 194 kB 23.3 MB/s eta 0:00:01\r\u001b[K     |█████▌                          | 204 kB 23.3 MB/s eta 0:00:01\r\u001b[K     |█████▊                          | 215 kB 23.3 MB/s eta 0:00:01\r\u001b[K     |██████                          | 225 kB 23.3 MB/s eta 0:00:01\r\u001b[K     |██████▎                         | 235 kB 23.3 MB/s eta 0:00:01\r\u001b[K     |██████▋                         | 245 kB 23.3 MB/s eta 0:00:01\r\u001b[K     |██████▉                         | 256 kB 23.3 MB/s eta 0:00:01\r\u001b[K     |███████▏                        | 266 kB 23.3 MB/s eta 0:00:01\r\u001b[K     |███████▍                        | 276 kB 23.3 MB/s eta 0:00:01\r\u001b[K     |███████▊                        | 286 kB 23.3 MB/s eta 0:00:01\r\u001b[K     |████████                        | 296 kB 23.3 MB/s eta 0:00:01\r\u001b[K     |████████▏                       | 307 kB 23.3 MB/s eta 0:00:01\r\u001b[K     |████████▌                       | 317 kB 23.3 MB/s eta 0:00:01\r\u001b[K     |████████▊                       | 327 kB 23.3 MB/s eta 0:00:01\r\u001b[K     |█████████                       | 337 kB 23.3 MB/s eta 0:00:01\r\u001b[K     |█████████▎                      | 348 kB 23.3 MB/s eta 0:00:01\r\u001b[K     |█████████▋                      | 358 kB 23.3 MB/s eta 0:00:01\r\u001b[K     |█████████▉                      | 368 kB 23.3 MB/s eta 0:00:01\r\u001b[K     |██████████▏                     | 378 kB 23.3 MB/s eta 0:00:01\r\u001b[K     |██████████▍                     | 389 kB 23.3 MB/s eta 0:00:01\r\u001b[K     |██████████▊                     | 399 kB 23.3 MB/s eta 0:00:01\r\u001b[K     |███████████                     | 409 kB 23.3 MB/s eta 0:00:01\r\u001b[K     |███████████▎                    | 419 kB 23.3 MB/s eta 0:00:01\r\u001b[K     |███████████▌                    | 430 kB 23.3 MB/s eta 0:00:01\r\u001b[K     |███████████▊                    | 440 kB 23.3 MB/s eta 0:00:01\r\u001b[K     |████████████                    | 450 kB 23.3 MB/s eta 0:00:01\r\u001b[K     |████████████▎                   | 460 kB 23.3 MB/s eta 0:00:01\r\u001b[K     |████████████▋                   | 471 kB 23.3 MB/s eta 0:00:01\r\u001b[K     |████████████▉                   | 481 kB 23.3 MB/s eta 0:00:01\r\u001b[K     |█████████████▏                  | 491 kB 23.3 MB/s eta 0:00:01\r\u001b[K     |█████████████▍                  | 501 kB 23.3 MB/s eta 0:00:01\r\u001b[K     |█████████████▊                  | 512 kB 23.3 MB/s eta 0:00:01\r\u001b[K     |██████████████                  | 522 kB 23.3 MB/s eta 0:00:01\r\u001b[K     |██████████████▎                 | 532 kB 23.3 MB/s eta 0:00:01\r\u001b[K     |██████████████▌                 | 542 kB 23.3 MB/s eta 0:00:01\r\u001b[K     |██████████████▉                 | 552 kB 23.3 MB/s eta 0:00:01\r\u001b[K     |███████████████                 | 563 kB 23.3 MB/s eta 0:00:01\r\u001b[K     |███████████████▍                | 573 kB 23.3 MB/s eta 0:00:01\r\u001b[K     |███████████████▋                | 583 kB 23.3 MB/s eta 0:00:01\r\u001b[K     |███████████████▉                | 593 kB 23.3 MB/s eta 0:00:01\r\u001b[K     |████████████████▏               | 604 kB 23.3 MB/s eta 0:00:01\r\u001b[K     |████████████████▍               | 614 kB 23.3 MB/s eta 0:00:01\r\u001b[K     |████████████████▊               | 624 kB 23.3 MB/s eta 0:00:01\r\u001b[K     |█████████████████               | 634 kB 23.3 MB/s eta 0:00:01\r\u001b[K     |█████████████████▎              | 645 kB 23.3 MB/s eta 0:00:01\r\u001b[K     |█████████████████▌              | 655 kB 23.3 MB/s eta 0:00:01\r\u001b[K     |█████████████████▉              | 665 kB 23.3 MB/s eta 0:00:01\r\u001b[K     |██████████████████              | 675 kB 23.3 MB/s eta 0:00:01\r\u001b[K     |██████████████████▍             | 686 kB 23.3 MB/s eta 0:00:01\r\u001b[K     |██████████████████▋             | 696 kB 23.3 MB/s eta 0:00:01\r\u001b[K     |███████████████████             | 706 kB 23.3 MB/s eta 0:00:01\r\u001b[K     |███████████████████▏            | 716 kB 23.3 MB/s eta 0:00:01\r\u001b[K     |███████████████████▌            | 727 kB 23.3 MB/s eta 0:00:01\r\u001b[K     |███████████████████▊            | 737 kB 23.3 MB/s eta 0:00:01\r\u001b[K     |████████████████████            | 747 kB 23.3 MB/s eta 0:00:01\r\u001b[K     |████████████████████▎           | 757 kB 23.3 MB/s eta 0:00:01\r\u001b[K     |████████████████████▌           | 768 kB 23.3 MB/s eta 0:00:01\r\u001b[K     |████████████████████▉           | 778 kB 23.3 MB/s eta 0:00:01\r\u001b[K     |█████████████████████           | 788 kB 23.3 MB/s eta 0:00:01\r\u001b[K     |█████████████████████▍          | 798 kB 23.3 MB/s eta 0:00:01\r\u001b[K     |█████████████████████▋          | 808 kB 23.3 MB/s eta 0:00:01\r\u001b[K     |██████████████████████          | 819 kB 23.3 MB/s eta 0:00:01\r\u001b[K     |██████████████████████▏         | 829 kB 23.3 MB/s eta 0:00:01\r\u001b[K     |██████████████████████▌         | 839 kB 23.3 MB/s eta 0:00:01\r\u001b[K     |██████████████████████▊         | 849 kB 23.3 MB/s eta 0:00:01\r\u001b[K     |███████████████████████         | 860 kB 23.3 MB/s eta 0:00:01\r\u001b[K     |███████████████████████▎        | 870 kB 23.3 MB/s eta 0:00:01\r\u001b[K     |███████████████████████▌        | 880 kB 23.3 MB/s eta 0:00:01\r\u001b[K     |███████████████████████▉        | 890 kB 23.3 MB/s eta 0:00:01\r\u001b[K     |████████████████████████        | 901 kB 23.3 MB/s eta 0:00:01\r\u001b[K     |████████████████████████▍       | 911 kB 23.3 MB/s eta 0:00:01\r\u001b[K     |████████████████████████▋       | 921 kB 23.3 MB/s eta 0:00:01\r\u001b[K     |█████████████████████████       | 931 kB 23.3 MB/s eta 0:00:01\r\u001b[K     |█████████████████████████▏      | 942 kB 23.3 MB/s eta 0:00:01\r\u001b[K     |█████████████████████████▌      | 952 kB 23.3 MB/s eta 0:00:01\r\u001b[K     |█████████████████████████▊      | 962 kB 23.3 MB/s eta 0:00:01\r\u001b[K     |██████████████████████████      | 972 kB 23.3 MB/s eta 0:00:01\r\u001b[K     |██████████████████████████▎     | 983 kB 23.3 MB/s eta 0:00:01\r\u001b[K     |██████████████████████████▋     | 993 kB 23.3 MB/s eta 0:00:01\r\u001b[K     |██████████████████████████▉     | 1.0 MB 23.3 MB/s eta 0:00:01\r\u001b[K     |███████████████████████████▏    | 1.0 MB 23.3 MB/s eta 0:00:01\r\u001b[K     |███████████████████████████▍    | 1.0 MB 23.3 MB/s eta 0:00:01\r\u001b[K     |███████████████████████████▋    | 1.0 MB 23.3 MB/s eta 0:00:01\r\u001b[K     |████████████████████████████    | 1.0 MB 23.3 MB/s eta 0:00:01\r\u001b[K     |████████████████████████████▏   | 1.1 MB 23.3 MB/s eta 0:00:01\r\u001b[K     |████████████████████████████▌   | 1.1 MB 23.3 MB/s eta 0:00:01\r\u001b[K     |████████████████████████████▊   | 1.1 MB 23.3 MB/s eta 0:00:01\r\u001b[K     |█████████████████████████████   | 1.1 MB 23.3 MB/s eta 0:00:01\r\u001b[K     |█████████████████████████████▎  | 1.1 MB 23.3 MB/s eta 0:00:01\r\u001b[K     |█████████████████████████████▋  | 1.1 MB 23.3 MB/s eta 0:00:01\r\u001b[K     |█████████████████████████████▉  | 1.1 MB 23.3 MB/s eta 0:00:01\r\u001b[K     |██████████████████████████████▏ | 1.1 MB 23.3 MB/s eta 0:00:01\r\u001b[K     |██████████████████████████████▍ | 1.1 MB 23.3 MB/s eta 0:00:01\r\u001b[K     |██████████████████████████████▊ | 1.1 MB 23.3 MB/s eta 0:00:01\r\u001b[K     |███████████████████████████████ | 1.2 MB 23.3 MB/s eta 0:00:01\r\u001b[K     |███████████████████████████████▏| 1.2 MB 23.3 MB/s eta 0:00:01\r\u001b[K     |███████████████████████████████▌| 1.2 MB 23.3 MB/s eta 0:00:01\r\u001b[K     |███████████████████████████████▊| 1.2 MB 23.3 MB/s eta 0:00:01\r\u001b[K     |████████████████████████████████| 1.2 MB 23.3 MB/s \n",
            "\u001b[?25hCollecting future>0.14.0\n",
            "  Downloading future-0.18.2.tar.gz (829 kB)\n",
            "\u001b[K     |████████████████████████████████| 829 kB 39.6 MB/s \n",
            "\u001b[?25hCollecting rich>=10\n",
            "  Downloading rich-11.1.0-py3-none-any.whl (216 kB)\n",
            "\u001b[K     |████████████████████████████████| 216 kB 48.1 MB/s \n",
            "\u001b[?25hCollecting simplejson\n",
            "  Downloading simplejson-3.17.6-cp39-cp39-manylinux_2_5_x86_64.manylinux1_x86_64.manylinux_2_12_x86_64.manylinux2010_x86_64.whl (136 kB)\n",
            "\u001b[K     |████████████████████████████████| 136 kB 50.4 MB/s \n",
            "\u001b[?25hCollecting jinja2>=2.9\n",
            "  Downloading Jinja2-3.0.3-py3-none-any.whl (133 kB)\n",
            "\u001b[K     |████████████████████████████████| 133 kB 57.6 MB/s \n",
            "\u001b[?25hRequirement already satisfied: numpy in /usr/local/lib/python3.9/site-packages (from multiqc) (1.22.2)\n",
            "Collecting click\n",
            "  Downloading click-8.0.3-py3-none-any.whl (97 kB)\n",
            "\u001b[K     |████████████████████████████████| 97 kB 6.2 MB/s \n",
            "\u001b[31mERROR: Operation cancelled by user\u001b[0m\n",
            "\u001b[?25h"
          ]
        }
      ]
    },
    {
      "cell_type": "markdown",
      "source": [
        "##MultiQC: Aggregate results from bioinformatics analyses across many samples into a single report - usage"
      ],
      "metadata": {
        "id": "m5pU9i4DvGxQ"
      }
    },
    {
      "cell_type": "markdown",
      "source": [
        "MultiQC is a program which allows you to combine reports for as many samples as you wish ([documentation](https://multiqc.info/docs/))"
      ],
      "metadata": {
        "id": "sPB5udNzvVdJ"
      }
    },
    {
      "cell_type": "code",
      "metadata": {
        "colab": {
          "base_uri": "https://localhost:8080/"
        },
        "id": "SEBsMVQ5OG4U",
        "outputId": "641de1ef-ec92-4dd4-f911-2d3ff97dbe40"
      },
      "source": [
        "! multiqc $PIPELINE_FILE_PATH -o $PIPELINE_FILE_PATH/multiqc"
      ],
      "execution_count": null,
      "outputs": [
        {
          "output_type": "stream",
          "name": "stdout",
          "text": [
            "/bin/bash: multiqc: command not found\n"
          ]
        }
      ]
    }
  ],
  "metadata": {
    "colab": {
      "name": "long_read_rna_seq_analysis_prebuilt_indices.ipynb",
      "provenance": [],
      "collapsed_sections": [
        "24vu4E_8vbKa",
        "Y9qrP4Ip3xwz",
        "zqQcBdxa4X7q",
        "yhR96h7O5CHN",
        "7yVbaSBc5cu7",
        "Wj85WdDNwraY",
        "F8ECo-DYue_P",
        "npZwllsupfEJ",
        "wg6np0lheVeS",
        "dn1yby3redCx",
        "egd7PK5Bb-9T",
        "fCQoafiPcRtT",
        "kpfzCCTKuqMt"
      ]
    },
    "kernelspec": {
      "display_name": "Python 3",
      "name": "python3"
    },
    "language_info": {
      "name": "python"
    }
  },
  "nbformat": 4,
  "nbformat_minor": 0
}
